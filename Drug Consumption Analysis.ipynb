{
 "cells": [
  {
   "attachments": {},
   "cell_type": "markdown",
   "metadata": {},
   "source": [
    "# **Drug Consumption Pattern**\n",
    "---"
   ]
  },
  {
   "attachments": {},
   "cell_type": "markdown",
   "metadata": {},
   "source": [
    "# Background\n",
    "\n",
    "a healthcare non-governmental organization (NGO) is conducting a research, dedicated to studying drug consumption patterns across various Western countries. The study involves a randomly selected samples of 1,885 participants, all of whom are aged 18 years or older and come from diverse backgrounds. The research explores the participants' socio-economic factors (age, gender, education, ethnicity, and nationality). Additionally, the study investigates the use of 18 different substances, including alcohol, amphetamines, amyl nitrite, benzodiazepine, cannabis, chocolate, cocaine, caffeine, crack, ecstasy, heroin, ketamine, legal highs, LSD, methadone, mushrooms, nicotine, and volatile substance abuse. To identify over-claimers, a fictitious drug called Semeron was introduced. \n",
    "Participants were asked to indicate their frequency of drug use, ranging from never using the drug to using it over a decade ago, or in the last decade, year, month, week, or day. \n",
    "Personality tests were also administered, including the NEO-FFI-R, which assesses neuroticism, extraversion, openness to experience, agreeableness, and conscientiousness. Additionally, the BIS-11 measured impulsivity, while the ImpSS evaluated sensation-seeking tendencies."
   ]
  },
  {
   "attachments": {},
   "cell_type": "markdown",
   "metadata": {},
   "source": [
    "# Problem Statement\n",
    "The goal of this research is to **explore the diverse drug consumption patterns among individuals who engage in co-occurring drug use**. Addressing this problem may contribute to better understanding and developing of targeted interventions and strategies for healthcare professionals and policymakers.\n",
    "\n",
    "As a data analyst, the objective is to investigate the following question:\n",
    "\n",
    "**What are the most frequently co-occurring drugs consumed by the participants, and what are the corresponding characteristics of individuals who engage in such drug combinations?**\n",
    "\n",
    "\n"
   ]
  },
  {
   "attachments": {},
   "cell_type": "markdown",
   "metadata": {},
   "source": [
    "# Data\n",
    "\n",
    "To answer the questions, now lets analyze all the data that has been provided below:"
   ]
  },
  {
   "cell_type": "code",
   "execution_count": 304,
   "metadata": {},
   "outputs": [],
   "source": [
    "import pandas as pd\n",
    "import numpy as np\n",
    "import matplotlib.pyplot as plt\n",
    "import seaborn as sns\n",
    "import plotly.express as px\n",
    "from scipy.stats import normaltest, chi2_contingency, mannwhitneyu, ttest_ind\n",
    "\n",
    "import warnings\n",
    "warnings.filterwarnings(\"ignore\")"
   ]
  },
  {
   "attachments": {},
   "cell_type": "markdown",
   "metadata": {},
   "source": [
    "This dataset contains identity, personality measurements, and drug consumptions of the respondents that were being collected during the survey time. There are 32 columns in this dataset, which will be explained below:\n",
    "\n",
    "| Attribute | Description |\n",
    "| --- | --- |\n",
    "| ID | Number of record in the original database |\n",
    "| Age | Participant's age range |\n",
    "| Gender | Male or Female |\n",
    "| Education | Level of Education of participant |\n",
    "| Country | Nationality of participant |\n",
    "| Ethnicity | Ethnicity of participant |\n",
    "| NScore | NEO-FFI-R Neuroticism score |\n",
    "| EScore | NEO-FFI-R Extraversion score |\n",
    "| OScore | NEO-FFI-R Openness to experience score |\n",
    "| AScore | NEO-FFI-R Agreeableness score |\n",
    "| CScore | NEO-FFI-R Conscientiousness score |\n",
    "| Impulsive | Impulsiveness measured by BIS-11 |\n",
    "| SS | Sensation seeking measured by ImpSS |\n",
    "| Alcohol | Class of alcohol consumption |\n",
    "| Amphet | Class of amphetamines consumption |\n",
    "| Amyl | Class of amyl nitrite consumption |\n",
    "| Benzos | Class of benzodiazepine consumption |\n",
    "| Caff | Class of caffeine consumption |\n",
    "| Cannabis | Class of cannabis consumption |\n",
    "| Choc | Class of chocolate consumption |\n",
    "| Coke | Class of cocaine consumption |\n",
    "| Crack | Class of crack consumption |\n",
    "| Ecstasy | Class of ecstasy consumption |\n",
    "| Heroin | Class of heroin consumption |\n",
    "| Ketamine | Class of ketamine consumption |\n",
    "| Legalh | Class of legal highs consumption |\n",
    "| LSD | Class of LSD consumption |\n",
    "| Meth | Class of methadone consumption |\n",
    "| Mushroom | Class of magic mushrooms consumption |\n",
    "| Nicotine | Class of nicotine consumption |\n",
    "| Semer | Class of fictitious drug Semeron consumption |\n",
    "| VSA | Class of volatile substance abuse consumption |\n",
    "\n"
   ]
  },
  {
   "attachments": {},
   "cell_type": "markdown",
   "metadata": {},
   "source": [
    "Here you can see the top and bottom rows of our raw data:"
   ]
  },
  {
   "cell_type": "code",
   "execution_count": 305,
   "metadata": {},
   "outputs": [
    {
     "data": {
      "text/html": [
       "<div>\n",
       "<style scoped>\n",
       "    .dataframe tbody tr th:only-of-type {\n",
       "        vertical-align: middle;\n",
       "    }\n",
       "\n",
       "    .dataframe tbody tr th {\n",
       "        vertical-align: top;\n",
       "    }\n",
       "\n",
       "    .dataframe thead th {\n",
       "        text-align: right;\n",
       "    }\n",
       "</style>\n",
       "<table border=\"1\" class=\"dataframe\">\n",
       "  <thead>\n",
       "    <tr style=\"text-align: right;\">\n",
       "      <th></th>\n",
       "      <th>1</th>\n",
       "      <th>0.49788</th>\n",
       "      <th>0.48246</th>\n",
       "      <th>-0.05921</th>\n",
       "      <th>0.96082</th>\n",
       "      <th>0.12600</th>\n",
       "      <th>0.31287</th>\n",
       "      <th>-0.57545</th>\n",
       "      <th>-0.58331</th>\n",
       "      <th>-0.91699</th>\n",
       "      <th>...</th>\n",
       "      <th>CL0.4</th>\n",
       "      <th>CL0.5</th>\n",
       "      <th>CL0.6</th>\n",
       "      <th>CL0.7</th>\n",
       "      <th>CL0.8</th>\n",
       "      <th>CL0.9</th>\n",
       "      <th>CL0.10</th>\n",
       "      <th>CL2.2</th>\n",
       "      <th>CL0.11</th>\n",
       "      <th>CL0.12</th>\n",
       "    </tr>\n",
       "  </thead>\n",
       "  <tbody>\n",
       "    <tr>\n",
       "      <th>0</th>\n",
       "      <td>2</td>\n",
       "      <td>-0.07854</td>\n",
       "      <td>-0.48246</td>\n",
       "      <td>1.98437</td>\n",
       "      <td>0.96082</td>\n",
       "      <td>-0.31685</td>\n",
       "      <td>-0.67825</td>\n",
       "      <td>1.93886</td>\n",
       "      <td>1.43533</td>\n",
       "      <td>0.76096</td>\n",
       "      <td>...</td>\n",
       "      <td>CL4</td>\n",
       "      <td>CL0</td>\n",
       "      <td>CL2</td>\n",
       "      <td>CL0</td>\n",
       "      <td>CL2</td>\n",
       "      <td>CL3</td>\n",
       "      <td>CL0</td>\n",
       "      <td>CL4</td>\n",
       "      <td>CL0</td>\n",
       "      <td>CL0</td>\n",
       "    </tr>\n",
       "    <tr>\n",
       "      <th>1</th>\n",
       "      <td>3</td>\n",
       "      <td>0.49788</td>\n",
       "      <td>-0.48246</td>\n",
       "      <td>-0.05921</td>\n",
       "      <td>0.96082</td>\n",
       "      <td>-0.31685</td>\n",
       "      <td>-0.46725</td>\n",
       "      <td>0.80523</td>\n",
       "      <td>-0.84732</td>\n",
       "      <td>-1.62090</td>\n",
       "      <td>...</td>\n",
       "      <td>CL0</td>\n",
       "      <td>CL0</td>\n",
       "      <td>CL0</td>\n",
       "      <td>CL0</td>\n",
       "      <td>CL0</td>\n",
       "      <td>CL0</td>\n",
       "      <td>CL1</td>\n",
       "      <td>CL0</td>\n",
       "      <td>CL0</td>\n",
       "      <td>CL0</td>\n",
       "    </tr>\n",
       "    <tr>\n",
       "      <th>2</th>\n",
       "      <td>4</td>\n",
       "      <td>-0.95197</td>\n",
       "      <td>0.48246</td>\n",
       "      <td>1.16365</td>\n",
       "      <td>0.96082</td>\n",
       "      <td>-0.31685</td>\n",
       "      <td>-0.14882</td>\n",
       "      <td>-0.80615</td>\n",
       "      <td>-0.01928</td>\n",
       "      <td>0.59042</td>\n",
       "      <td>...</td>\n",
       "      <td>CL0</td>\n",
       "      <td>CL0</td>\n",
       "      <td>CL2</td>\n",
       "      <td>CL0</td>\n",
       "      <td>CL0</td>\n",
       "      <td>CL0</td>\n",
       "      <td>CL0</td>\n",
       "      <td>CL2</td>\n",
       "      <td>CL0</td>\n",
       "      <td>CL0</td>\n",
       "    </tr>\n",
       "    <tr>\n",
       "      <th>3</th>\n",
       "      <td>5</td>\n",
       "      <td>0.49788</td>\n",
       "      <td>0.48246</td>\n",
       "      <td>1.98437</td>\n",
       "      <td>0.96082</td>\n",
       "      <td>-0.31685</td>\n",
       "      <td>0.73545</td>\n",
       "      <td>-1.63340</td>\n",
       "      <td>-0.45174</td>\n",
       "      <td>-0.30172</td>\n",
       "      <td>...</td>\n",
       "      <td>CL1</td>\n",
       "      <td>CL0</td>\n",
       "      <td>CL0</td>\n",
       "      <td>CL1</td>\n",
       "      <td>CL0</td>\n",
       "      <td>CL0</td>\n",
       "      <td>CL2</td>\n",
       "      <td>CL2</td>\n",
       "      <td>CL0</td>\n",
       "      <td>CL0</td>\n",
       "    </tr>\n",
       "    <tr>\n",
       "      <th>4</th>\n",
       "      <td>6</td>\n",
       "      <td>2.59171</td>\n",
       "      <td>0.48246</td>\n",
       "      <td>-1.22751</td>\n",
       "      <td>0.24923</td>\n",
       "      <td>-0.31685</td>\n",
       "      <td>-0.67825</td>\n",
       "      <td>-0.30033</td>\n",
       "      <td>-1.55521</td>\n",
       "      <td>2.03972</td>\n",
       "      <td>...</td>\n",
       "      <td>CL0</td>\n",
       "      <td>CL0</td>\n",
       "      <td>CL0</td>\n",
       "      <td>CL0</td>\n",
       "      <td>CL0</td>\n",
       "      <td>CL0</td>\n",
       "      <td>CL0</td>\n",
       "      <td>CL6</td>\n",
       "      <td>CL0</td>\n",
       "      <td>CL0</td>\n",
       "    </tr>\n",
       "  </tbody>\n",
       "</table>\n",
       "<p>5 rows × 32 columns</p>\n",
       "</div>"
      ],
      "text/plain": [
       "   1  0.49788  0.48246  -0.05921  0.96082  0.12600  0.31287  -0.57545  \\\n",
       "0  2 -0.07854 -0.48246  1.98437   0.96082 -0.31685 -0.67825  1.93886    \n",
       "1  3  0.49788 -0.48246 -0.05921   0.96082 -0.31685 -0.46725  0.80523    \n",
       "2  4 -0.95197  0.48246  1.16365   0.96082 -0.31685 -0.14882 -0.80615    \n",
       "3  5  0.49788  0.48246  1.98437   0.96082 -0.31685  0.73545 -1.63340    \n",
       "4  6  2.59171  0.48246 -1.22751   0.24923 -0.31685 -0.67825 -0.30033    \n",
       "\n",
       "   -0.58331  -0.91699  ...  CL0.4  CL0.5  CL0.6 CL0.7 CL0.8 CL0.9 CL0.10  \\\n",
       "0  1.43533   0.76096   ...  CL4    CL0    CL2    CL0   CL2   CL3   CL0     \n",
       "1 -0.84732  -1.62090   ...  CL0    CL0    CL0    CL0   CL0   CL0   CL1     \n",
       "2 -0.01928   0.59042   ...  CL0    CL0    CL2    CL0   CL0   CL0   CL0     \n",
       "3 -0.45174  -0.30172   ...  CL1    CL0    CL0    CL1   CL0   CL0   CL2     \n",
       "4 -1.55521   2.03972   ...  CL0    CL0    CL0    CL0   CL0   CL0   CL0     \n",
       "\n",
       "  CL2.2 CL0.11 CL0.12  \n",
       "0  CL4   CL0    CL0    \n",
       "1  CL0   CL0    CL0    \n",
       "2  CL2   CL0    CL0    \n",
       "3  CL2   CL0    CL0    \n",
       "4  CL6   CL0    CL0    \n",
       "\n",
       "[5 rows x 32 columns]"
      ]
     },
     "metadata": {},
     "output_type": "display_data"
    },
    {
     "data": {
      "text/html": [
       "<div>\n",
       "<style scoped>\n",
       "    .dataframe tbody tr th:only-of-type {\n",
       "        vertical-align: middle;\n",
       "    }\n",
       "\n",
       "    .dataframe tbody tr th {\n",
       "        vertical-align: top;\n",
       "    }\n",
       "\n",
       "    .dataframe thead th {\n",
       "        text-align: right;\n",
       "    }\n",
       "</style>\n",
       "<table border=\"1\" class=\"dataframe\">\n",
       "  <thead>\n",
       "    <tr style=\"text-align: right;\">\n",
       "      <th></th>\n",
       "      <th>1</th>\n",
       "      <th>0.49788</th>\n",
       "      <th>0.48246</th>\n",
       "      <th>-0.05921</th>\n",
       "      <th>0.96082</th>\n",
       "      <th>0.12600</th>\n",
       "      <th>0.31287</th>\n",
       "      <th>-0.57545</th>\n",
       "      <th>-0.58331</th>\n",
       "      <th>-0.91699</th>\n",
       "      <th>...</th>\n",
       "      <th>CL0.4</th>\n",
       "      <th>CL0.5</th>\n",
       "      <th>CL0.6</th>\n",
       "      <th>CL0.7</th>\n",
       "      <th>CL0.8</th>\n",
       "      <th>CL0.9</th>\n",
       "      <th>CL0.10</th>\n",
       "      <th>CL2.2</th>\n",
       "      <th>CL0.11</th>\n",
       "      <th>CL0.12</th>\n",
       "    </tr>\n",
       "  </thead>\n",
       "  <tbody>\n",
       "    <tr>\n",
       "      <th>1879</th>\n",
       "      <td>1884</td>\n",
       "      <td>-0.95197</td>\n",
       "      <td>0.48246</td>\n",
       "      <td>-0.61113</td>\n",
       "      <td>-0.57009</td>\n",
       "      <td>-0.31685</td>\n",
       "      <td>-1.19430</td>\n",
       "      <td>1.74091</td>\n",
       "      <td>1.88511</td>\n",
       "      <td>0.76096</td>\n",
       "      <td>...</td>\n",
       "      <td>CL0</td>\n",
       "      <td>CL0</td>\n",
       "      <td>CL0</td>\n",
       "      <td>CL3</td>\n",
       "      <td>CL3</td>\n",
       "      <td>CL0</td>\n",
       "      <td>CL0</td>\n",
       "      <td>CL0</td>\n",
       "      <td>CL0</td>\n",
       "      <td>CL5</td>\n",
       "    </tr>\n",
       "    <tr>\n",
       "      <th>1880</th>\n",
       "      <td>1885</td>\n",
       "      <td>-0.95197</td>\n",
       "      <td>-0.48246</td>\n",
       "      <td>-0.61113</td>\n",
       "      <td>-0.57009</td>\n",
       "      <td>-0.31685</td>\n",
       "      <td>-0.24649</td>\n",
       "      <td>1.74091</td>\n",
       "      <td>0.58331</td>\n",
       "      <td>0.76096</td>\n",
       "      <td>...</td>\n",
       "      <td>CL2</td>\n",
       "      <td>CL0</td>\n",
       "      <td>CL0</td>\n",
       "      <td>CL3</td>\n",
       "      <td>CL5</td>\n",
       "      <td>CL4</td>\n",
       "      <td>CL4</td>\n",
       "      <td>CL5</td>\n",
       "      <td>CL0</td>\n",
       "      <td>CL0</td>\n",
       "    </tr>\n",
       "    <tr>\n",
       "      <th>1881</th>\n",
       "      <td>1886</td>\n",
       "      <td>-0.07854</td>\n",
       "      <td>0.48246</td>\n",
       "      <td>0.45468</td>\n",
       "      <td>-0.57009</td>\n",
       "      <td>-0.31685</td>\n",
       "      <td>1.13281</td>\n",
       "      <td>-1.37639</td>\n",
       "      <td>-1.27553</td>\n",
       "      <td>-1.77200</td>\n",
       "      <td>...</td>\n",
       "      <td>CL4</td>\n",
       "      <td>CL0</td>\n",
       "      <td>CL2</td>\n",
       "      <td>CL0</td>\n",
       "      <td>CL2</td>\n",
       "      <td>CL0</td>\n",
       "      <td>CL2</td>\n",
       "      <td>CL6</td>\n",
       "      <td>CL0</td>\n",
       "      <td>CL0</td>\n",
       "    </tr>\n",
       "    <tr>\n",
       "      <th>1882</th>\n",
       "      <td>1887</td>\n",
       "      <td>-0.95197</td>\n",
       "      <td>0.48246</td>\n",
       "      <td>-0.61113</td>\n",
       "      <td>-0.57009</td>\n",
       "      <td>-0.31685</td>\n",
       "      <td>0.91093</td>\n",
       "      <td>-1.92173</td>\n",
       "      <td>0.29338</td>\n",
       "      <td>-1.62090</td>\n",
       "      <td>...</td>\n",
       "      <td>CL3</td>\n",
       "      <td>CL0</td>\n",
       "      <td>CL0</td>\n",
       "      <td>CL3</td>\n",
       "      <td>CL3</td>\n",
       "      <td>CL0</td>\n",
       "      <td>CL3</td>\n",
       "      <td>CL4</td>\n",
       "      <td>CL0</td>\n",
       "      <td>CL0</td>\n",
       "    </tr>\n",
       "    <tr>\n",
       "      <th>1883</th>\n",
       "      <td>1888</td>\n",
       "      <td>-0.95197</td>\n",
       "      <td>-0.48246</td>\n",
       "      <td>-0.61113</td>\n",
       "      <td>0.21128</td>\n",
       "      <td>-0.31685</td>\n",
       "      <td>-0.46725</td>\n",
       "      <td>2.12700</td>\n",
       "      <td>1.65653</td>\n",
       "      <td>1.11406</td>\n",
       "      <td>...</td>\n",
       "      <td>CL3</td>\n",
       "      <td>CL0</td>\n",
       "      <td>CL0</td>\n",
       "      <td>CL3</td>\n",
       "      <td>CL3</td>\n",
       "      <td>CL0</td>\n",
       "      <td>CL3</td>\n",
       "      <td>CL6</td>\n",
       "      <td>CL0</td>\n",
       "      <td>CL2</td>\n",
       "    </tr>\n",
       "  </tbody>\n",
       "</table>\n",
       "<p>5 rows × 32 columns</p>\n",
       "</div>"
      ],
      "text/plain": [
       "         1  0.49788  0.48246  -0.05921  0.96082  0.12600  0.31287  -0.57545  \\\n",
       "1879  1884 -0.95197  0.48246 -0.61113  -0.57009 -0.31685 -1.19430  1.74091    \n",
       "1880  1885 -0.95197 -0.48246 -0.61113  -0.57009 -0.31685 -0.24649  1.74091    \n",
       "1881  1886 -0.07854  0.48246  0.45468  -0.57009 -0.31685  1.13281 -1.37639    \n",
       "1882  1887 -0.95197  0.48246 -0.61113  -0.57009 -0.31685  0.91093 -1.92173    \n",
       "1883  1888 -0.95197 -0.48246 -0.61113   0.21128 -0.31685 -0.46725  2.12700    \n",
       "\n",
       "      -0.58331  -0.91699  ...  CL0.4  CL0.5  CL0.6 CL0.7 CL0.8 CL0.9 CL0.10  \\\n",
       "1879  1.88511   0.76096   ...  CL0    CL0    CL0    CL3   CL3   CL0   CL0     \n",
       "1880  0.58331   0.76096   ...  CL2    CL0    CL0    CL3   CL5   CL4   CL4     \n",
       "1881 -1.27553  -1.77200   ...  CL4    CL0    CL2    CL0   CL2   CL0   CL2     \n",
       "1882  0.29338  -1.62090   ...  CL3    CL0    CL0    CL3   CL3   CL0   CL3     \n",
       "1883  1.65653   1.11406   ...  CL3    CL0    CL0    CL3   CL3   CL0   CL3     \n",
       "\n",
       "     CL2.2 CL0.11 CL0.12  \n",
       "1879  CL0   CL0    CL5    \n",
       "1880  CL5   CL0    CL0    \n",
       "1881  CL6   CL0    CL0    \n",
       "1882  CL4   CL0    CL0    \n",
       "1883  CL6   CL0    CL2    \n",
       "\n",
       "[5 rows x 32 columns]"
      ]
     },
     "metadata": {},
     "output_type": "display_data"
    }
   ],
   "source": [
    "df_i = pd.read_csv('drug_consumption.data')\n",
    "display(df_i.head(), df_i.tail()) "
   ]
  },
  {
   "attachments": {},
   "cell_type": "markdown",
   "metadata": {},
   "source": [
    "## Data Understanding and Cleaning\n",
    "\n",
    "Since the provided data are extremely raw, before analyze, it would be better to translate our dataset. To undersand our data, we should familiarize ourselves with the dataset to know the anomalies and further clean the unecessary data with a logical reasoning. \n",
    "\n",
    "First, let us translate our initial data into a more proper and readable dataset."
   ]
  },
  {
   "cell_type": "code",
   "execution_count": 306,
   "metadata": {},
   "outputs": [
    {
     "data": {
      "text/html": [
       "<div>\n",
       "<style scoped>\n",
       "    .dataframe tbody tr th:only-of-type {\n",
       "        vertical-align: middle;\n",
       "    }\n",
       "\n",
       "    .dataframe tbody tr th {\n",
       "        vertical-align: top;\n",
       "    }\n",
       "\n",
       "    .dataframe thead th {\n",
       "        text-align: right;\n",
       "    }\n",
       "</style>\n",
       "<table border=\"1\" class=\"dataframe\">\n",
       "  <thead>\n",
       "    <tr style=\"text-align: right;\">\n",
       "      <th></th>\n",
       "      <th>ID</th>\n",
       "      <th>Age</th>\n",
       "      <th>Gender</th>\n",
       "      <th>Education</th>\n",
       "      <th>Country</th>\n",
       "      <th>Ethnicity</th>\n",
       "      <th>NScore</th>\n",
       "      <th>EScore</th>\n",
       "      <th>OScore</th>\n",
       "      <th>AScore</th>\n",
       "      <th>...</th>\n",
       "      <th>Ecstasy</th>\n",
       "      <th>Heroin</th>\n",
       "      <th>Ketamine</th>\n",
       "      <th>Legalh</th>\n",
       "      <th>LSD</th>\n",
       "      <th>Meth</th>\n",
       "      <th>Mushroom</th>\n",
       "      <th>Nicotine</th>\n",
       "      <th>Semer</th>\n",
       "      <th>VSA</th>\n",
       "    </tr>\n",
       "  </thead>\n",
       "  <tbody>\n",
       "    <tr>\n",
       "      <th>0</th>\n",
       "      <td>1</td>\n",
       "      <td>0.49788</td>\n",
       "      <td>0.48246</td>\n",
       "      <td>-0.05921</td>\n",
       "      <td>0.96082</td>\n",
       "      <td>0.12600</td>\n",
       "      <td>0.31287</td>\n",
       "      <td>-0.57545</td>\n",
       "      <td>-0.58331</td>\n",
       "      <td>-0.91699</td>\n",
       "      <td>...</td>\n",
       "      <td>CL0.4</td>\n",
       "      <td>CL0.5</td>\n",
       "      <td>CL0.6</td>\n",
       "      <td>CL0.7</td>\n",
       "      <td>CL0.8</td>\n",
       "      <td>CL0.9</td>\n",
       "      <td>CL0.10</td>\n",
       "      <td>CL2.2</td>\n",
       "      <td>CL0.11</td>\n",
       "      <td>CL0.12</td>\n",
       "    </tr>\n",
       "    <tr>\n",
       "      <th>1</th>\n",
       "      <td>2</td>\n",
       "      <td>-0.07854</td>\n",
       "      <td>-0.48246</td>\n",
       "      <td>1.98437</td>\n",
       "      <td>0.96082</td>\n",
       "      <td>-0.31685</td>\n",
       "      <td>-0.67825</td>\n",
       "      <td>1.93886</td>\n",
       "      <td>1.43533</td>\n",
       "      <td>0.76096</td>\n",
       "      <td>...</td>\n",
       "      <td>CL4</td>\n",
       "      <td>CL0</td>\n",
       "      <td>CL2</td>\n",
       "      <td>CL0</td>\n",
       "      <td>CL2</td>\n",
       "      <td>CL3</td>\n",
       "      <td>CL0</td>\n",
       "      <td>CL4</td>\n",
       "      <td>CL0</td>\n",
       "      <td>CL0</td>\n",
       "    </tr>\n",
       "    <tr>\n",
       "      <th>2</th>\n",
       "      <td>3</td>\n",
       "      <td>0.49788</td>\n",
       "      <td>-0.48246</td>\n",
       "      <td>-0.05921</td>\n",
       "      <td>0.96082</td>\n",
       "      <td>-0.31685</td>\n",
       "      <td>-0.46725</td>\n",
       "      <td>0.80523</td>\n",
       "      <td>-0.84732</td>\n",
       "      <td>-1.6209</td>\n",
       "      <td>...</td>\n",
       "      <td>CL0</td>\n",
       "      <td>CL0</td>\n",
       "      <td>CL0</td>\n",
       "      <td>CL0</td>\n",
       "      <td>CL0</td>\n",
       "      <td>CL0</td>\n",
       "      <td>CL1</td>\n",
       "      <td>CL0</td>\n",
       "      <td>CL0</td>\n",
       "      <td>CL0</td>\n",
       "    </tr>\n",
       "    <tr>\n",
       "      <th>3</th>\n",
       "      <td>4</td>\n",
       "      <td>-0.95197</td>\n",
       "      <td>0.48246</td>\n",
       "      <td>1.16365</td>\n",
       "      <td>0.96082</td>\n",
       "      <td>-0.31685</td>\n",
       "      <td>-0.14882</td>\n",
       "      <td>-0.80615</td>\n",
       "      <td>-0.01928</td>\n",
       "      <td>0.59042</td>\n",
       "      <td>...</td>\n",
       "      <td>CL0</td>\n",
       "      <td>CL0</td>\n",
       "      <td>CL2</td>\n",
       "      <td>CL0</td>\n",
       "      <td>CL0</td>\n",
       "      <td>CL0</td>\n",
       "      <td>CL0</td>\n",
       "      <td>CL2</td>\n",
       "      <td>CL0</td>\n",
       "      <td>CL0</td>\n",
       "    </tr>\n",
       "    <tr>\n",
       "      <th>4</th>\n",
       "      <td>5</td>\n",
       "      <td>0.49788</td>\n",
       "      <td>0.48246</td>\n",
       "      <td>1.98437</td>\n",
       "      <td>0.96082</td>\n",
       "      <td>-0.31685</td>\n",
       "      <td>0.73545</td>\n",
       "      <td>-1.6334</td>\n",
       "      <td>-0.45174</td>\n",
       "      <td>-0.30172</td>\n",
       "      <td>...</td>\n",
       "      <td>CL1</td>\n",
       "      <td>CL0</td>\n",
       "      <td>CL0</td>\n",
       "      <td>CL1</td>\n",
       "      <td>CL0</td>\n",
       "      <td>CL0</td>\n",
       "      <td>CL2</td>\n",
       "      <td>CL2</td>\n",
       "      <td>CL0</td>\n",
       "      <td>CL0</td>\n",
       "    </tr>\n",
       "  </tbody>\n",
       "</table>\n",
       "<p>5 rows × 32 columns</p>\n",
       "</div>"
      ],
      "text/plain": [
       "  ID      Age   Gender Education  Country Ethnicity   NScore    EScore  \\\n",
       "0  1  0.49788  0.48246  -0.05921  0.96082  0.12600   0.31287  -0.57545   \n",
       "1  2 -0.07854 -0.48246  1.98437   0.96082 -0.31685  -0.67825  1.93886    \n",
       "2  3  0.49788 -0.48246 -0.05921   0.96082 -0.31685  -0.46725  0.80523    \n",
       "3  4 -0.95197  0.48246  1.16365   0.96082 -0.31685  -0.14882 -0.80615    \n",
       "4  5  0.49788  0.48246  1.98437   0.96082 -0.31685   0.73545 -1.6334     \n",
       "\n",
       "     OScore    AScore  ... Ecstasy Heroin Ketamine Legalh    LSD   Meth  \\\n",
       "0  -0.58331  -0.91699  ...  CL0.4   CL0.5  CL0.6    CL0.7  CL0.8  CL0.9   \n",
       "1  1.43533   0.76096   ...  CL4     CL0    CL2      CL0    CL2    CL3     \n",
       "2 -0.84732  -1.6209    ...  CL0     CL0    CL0      CL0    CL0    CL0     \n",
       "3 -0.01928   0.59042   ...  CL0     CL0    CL2      CL0    CL0    CL0     \n",
       "4 -0.45174  -0.30172   ...  CL1     CL0    CL0      CL1    CL0    CL0     \n",
       "\n",
       "  Mushroom Nicotine   Semer     VSA  \n",
       "0  CL0.10   CL2.2    CL0.11  CL0.12  \n",
       "1  CL0      CL4      CL0     CL0     \n",
       "2  CL1      CL0      CL0     CL0     \n",
       "3  CL0      CL2      CL0     CL0     \n",
       "4  CL2      CL2      CL0     CL0     \n",
       "\n",
       "[5 rows x 32 columns]"
      ]
     },
     "execution_count": 306,
     "metadata": {},
     "output_type": "execute_result"
    }
   ],
   "source": [
    "# Rename the header of each columns\n",
    "\n",
    "df = df_i.T.reset_index().T.copy()\n",
    "df = df.reset_index(drop=True)\n",
    "df = df.rename(columns= {0:'ID',1:'Age',2:'Gender',3:'Education', 4:'Country', 5:'Ethnicity', 6:'NScore', 7:'EScore', 8:'OScore', 9:'AScore', 10:'CScore', 11: \"Impulsive\", 12:'SS', 13:'Alcohol', 14:'Amphet', 15:'Amyl', 16:'Benzos', 17:'Caff', 18:'Cannabis', 19: 'Choc', 20:'Coke', 21:'Crack', 22:'Ecstasy', 23:'Heroin', 24:'Ketamine', 25:'Legalh', 26:'LSD', 27:'Meth', 28:'Mushroom', 29:'Nicotine', 30: 'Semer', 31: 'VSA'})\n",
    "df.head()"
   ]
  },
  {
   "cell_type": "code",
   "execution_count": 307,
   "metadata": {},
   "outputs": [],
   "source": [
    "# Set Column 'ID' as the index\n",
    "df = df.set_index('ID')"
   ]
  },
  {
   "cell_type": "code",
   "execution_count": 308,
   "metadata": {},
   "outputs": [
    {
     "data": {
      "text/html": [
       "<div>\n",
       "<style scoped>\n",
       "    .dataframe tbody tr th:only-of-type {\n",
       "        vertical-align: middle;\n",
       "    }\n",
       "\n",
       "    .dataframe tbody tr th {\n",
       "        vertical-align: top;\n",
       "    }\n",
       "\n",
       "    .dataframe thead th {\n",
       "        text-align: right;\n",
       "    }\n",
       "</style>\n",
       "<table border=\"1\" class=\"dataframe\">\n",
       "  <thead>\n",
       "    <tr style=\"text-align: right;\">\n",
       "      <th></th>\n",
       "      <th>Age</th>\n",
       "      <th>Gender</th>\n",
       "      <th>Education</th>\n",
       "      <th>Country</th>\n",
       "      <th>Ethnicity</th>\n",
       "      <th>NScore</th>\n",
       "      <th>EScore</th>\n",
       "      <th>OScore</th>\n",
       "      <th>AScore</th>\n",
       "      <th>CScore</th>\n",
       "      <th>...</th>\n",
       "      <th>Ecstasy</th>\n",
       "      <th>Heroin</th>\n",
       "      <th>Ketamine</th>\n",
       "      <th>Legalh</th>\n",
       "      <th>LSD</th>\n",
       "      <th>Meth</th>\n",
       "      <th>Mushroom</th>\n",
       "      <th>Nicotine</th>\n",
       "      <th>Semer</th>\n",
       "      <th>VSA</th>\n",
       "    </tr>\n",
       "    <tr>\n",
       "      <th>ID</th>\n",
       "      <th></th>\n",
       "      <th></th>\n",
       "      <th></th>\n",
       "      <th></th>\n",
       "      <th></th>\n",
       "      <th></th>\n",
       "      <th></th>\n",
       "      <th></th>\n",
       "      <th></th>\n",
       "      <th></th>\n",
       "      <th></th>\n",
       "      <th></th>\n",
       "      <th></th>\n",
       "      <th></th>\n",
       "      <th></th>\n",
       "      <th></th>\n",
       "      <th></th>\n",
       "      <th></th>\n",
       "      <th></th>\n",
       "      <th></th>\n",
       "      <th></th>\n",
       "    </tr>\n",
       "  </thead>\n",
       "  <tbody>\n",
       "    <tr>\n",
       "      <th>1</th>\n",
       "      <td>NaN</td>\n",
       "      <td>NaN</td>\n",
       "      <td>NaN</td>\n",
       "      <td>NaN</td>\n",
       "      <td>NaN</td>\n",
       "      <td>NaN</td>\n",
       "      <td>NaN</td>\n",
       "      <td>NaN</td>\n",
       "      <td>NaN</td>\n",
       "      <td>NaN</td>\n",
       "      <td>...</td>\n",
       "      <td>NaN</td>\n",
       "      <td>NaN</td>\n",
       "      <td>NaN</td>\n",
       "      <td>NaN</td>\n",
       "      <td>NaN</td>\n",
       "      <td>NaN</td>\n",
       "      <td>NaN</td>\n",
       "      <td>NaN</td>\n",
       "      <td>NaN</td>\n",
       "      <td>NaN</td>\n",
       "    </tr>\n",
       "    <tr>\n",
       "      <th>2</th>\n",
       "      <td>25-34</td>\n",
       "      <td>Male</td>\n",
       "      <td>Doctorate Degree</td>\n",
       "      <td>UK</td>\n",
       "      <td>White</td>\n",
       "      <td>29</td>\n",
       "      <td>52</td>\n",
       "      <td>55</td>\n",
       "      <td>48</td>\n",
       "      <td>41</td>\n",
       "      <td>...</td>\n",
       "      <td>Used in last month</td>\n",
       "      <td>Never Used</td>\n",
       "      <td>Used in last decade</td>\n",
       "      <td>Never Used</td>\n",
       "      <td>Used in last decade</td>\n",
       "      <td>Used in last year</td>\n",
       "      <td>Never Used</td>\n",
       "      <td>Used in last month</td>\n",
       "      <td>Never Used</td>\n",
       "      <td>Never Used</td>\n",
       "    </tr>\n",
       "    <tr>\n",
       "      <th>3</th>\n",
       "      <td>35-44</td>\n",
       "      <td>Male</td>\n",
       "      <td>Professional certificate/diploma</td>\n",
       "      <td>UK</td>\n",
       "      <td>White</td>\n",
       "      <td>31</td>\n",
       "      <td>45</td>\n",
       "      <td>40</td>\n",
       "      <td>32</td>\n",
       "      <td>34</td>\n",
       "      <td>...</td>\n",
       "      <td>Never Used</td>\n",
       "      <td>Never Used</td>\n",
       "      <td>Never Used</td>\n",
       "      <td>Never Used</td>\n",
       "      <td>Never Used</td>\n",
       "      <td>Never Used</td>\n",
       "      <td>Used over a decade ago</td>\n",
       "      <td>Never Used</td>\n",
       "      <td>Never Used</td>\n",
       "      <td>Never Used</td>\n",
       "    </tr>\n",
       "    <tr>\n",
       "      <th>4</th>\n",
       "      <td>18-24</td>\n",
       "      <td>Female</td>\n",
       "      <td>Masters Degree</td>\n",
       "      <td>UK</td>\n",
       "      <td>White</td>\n",
       "      <td>34</td>\n",
       "      <td>34</td>\n",
       "      <td>46</td>\n",
       "      <td>47</td>\n",
       "      <td>46</td>\n",
       "      <td>...</td>\n",
       "      <td>Never Used</td>\n",
       "      <td>Never Used</td>\n",
       "      <td>Used in last decade</td>\n",
       "      <td>Never Used</td>\n",
       "      <td>Never Used</td>\n",
       "      <td>Never Used</td>\n",
       "      <td>Never Used</td>\n",
       "      <td>Used in last decade</td>\n",
       "      <td>Never Used</td>\n",
       "      <td>Never Used</td>\n",
       "    </tr>\n",
       "    <tr>\n",
       "      <th>5</th>\n",
       "      <td>35-44</td>\n",
       "      <td>Female</td>\n",
       "      <td>Doctorate Degree</td>\n",
       "      <td>UK</td>\n",
       "      <td>White</td>\n",
       "      <td>43</td>\n",
       "      <td>28</td>\n",
       "      <td>43</td>\n",
       "      <td>41</td>\n",
       "      <td>50</td>\n",
       "      <td>...</td>\n",
       "      <td>Used over a decade ago</td>\n",
       "      <td>Never Used</td>\n",
       "      <td>Never Used</td>\n",
       "      <td>Used over a decade ago</td>\n",
       "      <td>Never Used</td>\n",
       "      <td>Never Used</td>\n",
       "      <td>Used in last decade</td>\n",
       "      <td>Used in last decade</td>\n",
       "      <td>Never Used</td>\n",
       "      <td>Never Used</td>\n",
       "    </tr>\n",
       "    <tr>\n",
       "      <th>...</th>\n",
       "      <td>...</td>\n",
       "      <td>...</td>\n",
       "      <td>...</td>\n",
       "      <td>...</td>\n",
       "      <td>...</td>\n",
       "      <td>...</td>\n",
       "      <td>...</td>\n",
       "      <td>...</td>\n",
       "      <td>...</td>\n",
       "      <td>...</td>\n",
       "      <td>...</td>\n",
       "      <td>...</td>\n",
       "      <td>...</td>\n",
       "      <td>...</td>\n",
       "      <td>...</td>\n",
       "      <td>...</td>\n",
       "      <td>...</td>\n",
       "      <td>...</td>\n",
       "      <td>...</td>\n",
       "      <td>...</td>\n",
       "      <td>...</td>\n",
       "    </tr>\n",
       "    <tr>\n",
       "      <th>1884</th>\n",
       "      <td>18-24</td>\n",
       "      <td>Female</td>\n",
       "      <td>Some college or university, no certificate or degree</td>\n",
       "      <td>USA</td>\n",
       "      <td>White</td>\n",
       "      <td>25</td>\n",
       "      <td>51</td>\n",
       "      <td>57</td>\n",
       "      <td>48</td>\n",
       "      <td>33</td>\n",
       "      <td>...</td>\n",
       "      <td>Never Used</td>\n",
       "      <td>Never Used</td>\n",
       "      <td>Never Used</td>\n",
       "      <td>Used in last year</td>\n",
       "      <td>Used in last year</td>\n",
       "      <td>Never Used</td>\n",
       "      <td>Never Used</td>\n",
       "      <td>Never Used</td>\n",
       "      <td>Never Used</td>\n",
       "      <td>Used in last week</td>\n",
       "    </tr>\n",
       "    <tr>\n",
       "      <th>1885</th>\n",
       "      <td>18-24</td>\n",
       "      <td>Male</td>\n",
       "      <td>Some college or university, no certificate or degree</td>\n",
       "      <td>USA</td>\n",
       "      <td>White</td>\n",
       "      <td>33</td>\n",
       "      <td>51</td>\n",
       "      <td>50</td>\n",
       "      <td>48</td>\n",
       "      <td>30</td>\n",
       "      <td>...</td>\n",
       "      <td>Used in last decade</td>\n",
       "      <td>Never Used</td>\n",
       "      <td>Never Used</td>\n",
       "      <td>Used in last year</td>\n",
       "      <td>Used in last week</td>\n",
       "      <td>Used in last month</td>\n",
       "      <td>Used in last month</td>\n",
       "      <td>Used in last week</td>\n",
       "      <td>Never Used</td>\n",
       "      <td>Never Used</td>\n",
       "    </tr>\n",
       "    <tr>\n",
       "      <th>1886</th>\n",
       "      <td>25-34</td>\n",
       "      <td>Female</td>\n",
       "      <td>University Degree</td>\n",
       "      <td>USA</td>\n",
       "      <td>White</td>\n",
       "      <td>47</td>\n",
       "      <td>30</td>\n",
       "      <td>37</td>\n",
       "      <td>31</td>\n",
       "      <td>31</td>\n",
       "      <td>...</td>\n",
       "      <td>Used in last month</td>\n",
       "      <td>Never Used</td>\n",
       "      <td>Used in last decade</td>\n",
       "      <td>Never Used</td>\n",
       "      <td>Used in last decade</td>\n",
       "      <td>Never Used</td>\n",
       "      <td>Used in last decade</td>\n",
       "      <td>Used in last day</td>\n",
       "      <td>Never Used</td>\n",
       "      <td>Never Used</td>\n",
       "    </tr>\n",
       "    <tr>\n",
       "      <th>1887</th>\n",
       "      <td>18-24</td>\n",
       "      <td>Female</td>\n",
       "      <td>Some college or university, no certificate or degree</td>\n",
       "      <td>USA</td>\n",
       "      <td>White</td>\n",
       "      <td>45</td>\n",
       "      <td>26</td>\n",
       "      <td>48</td>\n",
       "      <td>32</td>\n",
       "      <td>22</td>\n",
       "      <td>...</td>\n",
       "      <td>Used in last year</td>\n",
       "      <td>Never Used</td>\n",
       "      <td>Never Used</td>\n",
       "      <td>Used in last year</td>\n",
       "      <td>Used in last year</td>\n",
       "      <td>Never Used</td>\n",
       "      <td>Used in last year</td>\n",
       "      <td>Used in last month</td>\n",
       "      <td>Never Used</td>\n",
       "      <td>Never Used</td>\n",
       "    </tr>\n",
       "    <tr>\n",
       "      <th>1888</th>\n",
       "      <td>18-24</td>\n",
       "      <td>Male</td>\n",
       "      <td>Some college or university, no certificate or degree</td>\n",
       "      <td>Republic of Ireland</td>\n",
       "      <td>White</td>\n",
       "      <td>31</td>\n",
       "      <td>53</td>\n",
       "      <td>56</td>\n",
       "      <td>50</td>\n",
       "      <td>45</td>\n",
       "      <td>...</td>\n",
       "      <td>Used in last year</td>\n",
       "      <td>Never Used</td>\n",
       "      <td>Never Used</td>\n",
       "      <td>Used in last year</td>\n",
       "      <td>Used in last year</td>\n",
       "      <td>Never Used</td>\n",
       "      <td>Used in last year</td>\n",
       "      <td>Used in last day</td>\n",
       "      <td>Never Used</td>\n",
       "      <td>Used in last decade</td>\n",
       "    </tr>\n",
       "  </tbody>\n",
       "</table>\n",
       "<p>1885 rows × 31 columns</p>\n",
       "</div>"
      ],
      "text/plain": [
       "        Age  Gender                                             Education  \\\n",
       "ID                                                                          \n",
       "1     NaN    NaN     NaN                                                    \n",
       "2     25-34  Male    Doctorate Degree                                       \n",
       "3     35-44  Male    Professional certificate/diploma                       \n",
       "4     18-24  Female  Masters Degree                                         \n",
       "5     35-44  Female  Doctorate Degree                                       \n",
       "...     ...     ...             ...                                         \n",
       "1884  18-24  Female  Some college or university, no certificate or degree   \n",
       "1885  18-24  Male    Some college or university, no certificate or degree   \n",
       "1886  25-34  Female  University Degree                                      \n",
       "1887  18-24  Female  Some college or university, no certificate or degree   \n",
       "1888  18-24  Male    Some college or university, no certificate or degree   \n",
       "\n",
       "                  Country Ethnicity NScore EScore OScore AScore CScore  ...  \\\n",
       "ID                                                                      ...   \n",
       "1     NaN                  NaN       NaN    NaN    NaN    NaN    NaN    ...   \n",
       "2     UK                   White     29     52     55     48     41     ...   \n",
       "3     UK                   White     31     45     40     32     34     ...   \n",
       "4     UK                   White     34     34     46     47     46     ...   \n",
       "5     UK                   White     43     28     43     41     50     ...   \n",
       "...   ..                     ...     ..     ..     ..     ..     ..     ...   \n",
       "1884  USA                  White     25     51     57     48     33     ...   \n",
       "1885  USA                  White     33     51     50     48     30     ...   \n",
       "1886  USA                  White     47     30     37     31     31     ...   \n",
       "1887  USA                  White     45     26     48     32     22     ...   \n",
       "1888  Republic of Ireland  White     31     53     56     50     45     ...   \n",
       "\n",
       "                     Ecstasy      Heroin             Ketamine  \\\n",
       "ID                                                              \n",
       "1     NaN                     NaN         NaN                   \n",
       "2     Used in last month      Never Used  Used in last decade   \n",
       "3     Never Used              Never Used  Never Used            \n",
       "4     Never Used              Never Used  Used in last decade   \n",
       "5     Used over a decade ago  Never Used  Never Used            \n",
       "...          ...                     ...                  ...   \n",
       "1884  Never Used              Never Used  Never Used            \n",
       "1885  Used in last decade     Never Used  Never Used            \n",
       "1886  Used in last month      Never Used  Used in last decade   \n",
       "1887  Used in last year       Never Used  Never Used            \n",
       "1888  Used in last year       Never Used  Never Used            \n",
       "\n",
       "                      Legalh                  LSD                Meth  \\\n",
       "ID                                                                      \n",
       "1     NaN                     NaN                  NaN                  \n",
       "2     Never Used              Used in last decade  Used in last year    \n",
       "3     Never Used              Never Used           Never Used           \n",
       "4     Never Used              Never Used           Never Used           \n",
       "5     Used over a decade ago  Never Used           Never Used           \n",
       "...          ...                     ...                  ...           \n",
       "1884  Used in last year       Used in last year    Never Used           \n",
       "1885  Used in last year       Used in last week    Used in last month   \n",
       "1886  Never Used              Used in last decade  Never Used           \n",
       "1887  Used in last year       Used in last year    Never Used           \n",
       "1888  Used in last year       Used in last year    Never Used           \n",
       "\n",
       "                    Mushroom             Nicotine       Semer  \\\n",
       "ID                                                              \n",
       "1     NaN                     NaN                  NaN          \n",
       "2     Never Used              Used in last month   Never Used   \n",
       "3     Used over a decade ago  Never Used           Never Used   \n",
       "4     Never Used              Used in last decade  Never Used   \n",
       "5     Used in last decade     Used in last decade  Never Used   \n",
       "...          ...                              ...         ...   \n",
       "1884  Never Used              Never Used           Never Used   \n",
       "1885  Used in last month      Used in last week    Never Used   \n",
       "1886  Used in last decade     Used in last day     Never Used   \n",
       "1887  Used in last year       Used in last month   Never Used   \n",
       "1888  Used in last year       Used in last day     Never Used   \n",
       "\n",
       "                      VSA  \n",
       "ID                         \n",
       "1     NaN                  \n",
       "2     Never Used           \n",
       "3     Never Used           \n",
       "4     Never Used           \n",
       "5     Never Used           \n",
       "...          ...           \n",
       "1884  Used in last week    \n",
       "1885  Never Used           \n",
       "1886  Never Used           \n",
       "1887  Never Used           \n",
       "1888  Used in last decade  \n",
       "\n",
       "[1885 rows x 31 columns]"
      ]
     },
     "execution_count": 308,
     "metadata": {},
     "output_type": "execute_result"
    }
   ],
   "source": [
    "# Translate each values into the given information\n",
    "\n",
    "# Age\n",
    "def map_age_range(df, age):\n",
    "    age_map = {-0.95197: '18-24',\n",
    "               -0.07854: '25-34',\n",
    "               0.49788: '35-44',\n",
    "               1.09449: '45-54',\n",
    "               1.82213: '55-64',\n",
    "               2.59171: '65+'}\n",
    "    df['Age'] = df[age].map(age_map)\n",
    "    return df\n",
    "df = map_age_range(df,'Age')\n",
    "df.head()\n",
    "\n",
    "# Gender\n",
    "def map_gender(df, gender):\n",
    "    gender_a = {0.48246: 'Female',\n",
    "               -0.48246: 'Male',}\n",
    "    df['Gender'] = df[gender].map(gender_a)\n",
    "    return df\n",
    "df = map_gender(df,'Gender')\n",
    "df\n",
    "\n",
    "#Education\n",
    "def map_edu(df, edu):\n",
    "    edu_a = {-2.43591: 'Left school before 16 years',\n",
    "               -1.73790: 'Left school at 16 years',\n",
    "               -1.43719: 'Left school at 17 years',\n",
    "               -1.22751: 'Left school at 18 years',\n",
    "               -0.61113: 'Some college or university, no certificate or degree',\n",
    "               -0.05921: 'Professional certificate/diploma',\n",
    "               0.45468: 'University Degree',\n",
    "               1.16365: 'Masters Degree',\n",
    "               1.98437: 'Doctorate Degree'}\n",
    "    df['Education'] = df[edu].map(edu_a)\n",
    "    return df\n",
    "df = map_edu(df,'Education')\n",
    "df\n",
    "\n",
    "# Country\n",
    "def map_country(df, count):\n",
    "    count_a = {-0.09765:'Australia',\n",
    "               0.24923: 'Canada',\n",
    "               -0.46841: 'New Zealand',\n",
    "               -0.28519:'Others',\n",
    "               0.21128:'Republic of Ireland',\n",
    "               0.96082: 'UK',\n",
    "               -0.57009: 'USA'}\n",
    "    df['Country'] = df[count].map(count_a)\n",
    "    return df\n",
    "df = map_country(df,'Country')\n",
    "df\n",
    "\n",
    "# Ethnicity\n",
    "def map_ethnic(df, ethnic):\n",
    "    ethnic_a = {-0.50212:'Asian',\n",
    "                -1.10702:'Black',\n",
    "                1.90725:'Mixed-Black/Asian',\n",
    "                0.12600:'Mixed-White/Asian',\n",
    "                -0.22166:'Mixed-White/Black',\n",
    "                0.11440:'Others',\n",
    "                -0.31685:'White'}\n",
    "    df['Ethnicity'] = df[ethnic].map(ethnic_a)\n",
    "    return df\n",
    "df = map_ethnic(df,'Ethnicity')\n",
    "df\n",
    "\n",
    "#NScore\n",
    "def map_nscore(df, nscore):\n",
    "    nscore_a = {-3.46436: '12',\n",
    "                -3.15735:'13',\n",
    "                -2.75696:'14',\n",
    "                -2.52197:'15',\n",
    "                -2.42317:'16',\n",
    "                -2.34360:'17',\n",
    "                -2.21844:'18',\n",
    "                -2.05048:'19',\n",
    "                -1.86962:'20',\n",
    "                -1.69163:'21',\n",
    "                -1.55078:'22',\n",
    "                -1.43907:'23',\n",
    "                -1.32828:'24',\n",
    "                -1.19430:'25',\n",
    "                -1.05308:'26',\n",
    "                -0.92104:'27',\n",
    "                -0.79151:'28',\n",
    "                -0.67825:'29',\n",
    "                -0.58016:'30',\n",
    "                -0.46725:'31',\n",
    "                -0.34799:'32',\n",
    "                -0.24649:'33',\n",
    "                -0.14882:'34',\n",
    "                -0.05188:'35',\n",
    "                0.04257:'36',\n",
    "                0.13606:'37',\n",
    "                0.22393:'38',\n",
    "                0.31287:'39',\n",
    "                0.41667:'40',\n",
    "                0.52135:'41',\n",
    "                0.62967:'42',\n",
    "                0.73545:'43',\n",
    "                0.82562:'44',\n",
    "                0.91093:'45',\n",
    "                1.02119:'46',\n",
    "                1.13281:'47',\n",
    "                1.23461:'48',\n",
    "                1.37297:'49',\n",
    "                1.49158:'50',\n",
    "                1.60383:'51',\n",
    "                1.72012:'52',\n",
    "                1.83990:'53',\n",
    "                1.98437:'54',\n",
    "                2.12700:'55',\n",
    "                2.28554:'56',\n",
    "                2.46262:'57',\n",
    "                2.61139:'58',\n",
    "                2.82196:'59',\n",
    "                3.27393:'60'\n",
    "                }\n",
    "    df['NScore'] = df[nscore].map(nscore_a)\n",
    "    return df\n",
    "df = map_nscore(df,'NScore')\n",
    "df\n",
    "\n",
    "#EScore\n",
    "def map_escore(df, escore):\n",
    "    escore_a = {-3.27393: '16',\n",
    "                -3.00537:'18',\n",
    "                -2.72827:'19',\n",
    "                -2.53830:'20',\n",
    "                -2.44904:'21',\n",
    "                -2.32338:'22',\n",
    "                -2.21069:'23',\n",
    "                -2.11437:'24',\n",
    "                -2.03972:'25',\n",
    "                -1.92173:'26',\n",
    "                -1.76250:'27',\n",
    "                -1.63340:'28',\n",
    "                -1.50796:'29',\n",
    "                -1.37639:'30',\n",
    "                -1.23177:'31',\n",
    "                -1.09207:'32',\n",
    "                -0.94779:'33',\n",
    "                -0.80615:'34',\n",
    "                -0.69509:'35',\n",
    "                -0.57545:'36',\n",
    "                -0.43999:'37',\n",
    "                -0.30033:'38',\n",
    "                -0.15487:'39',\n",
    "                0.00332:'40',\n",
    "                0.16767:'41',\n",
    "                0.32197:'42',\n",
    "                0.47617:'43',\n",
    "                0.63779:'44',\n",
    "                0.80523:'45',\n",
    "                0.96248:'46',\n",
    "                1.11406:'47',\n",
    "                1.28610:'48',\n",
    "                1.45421:'49',\n",
    "                1.58487:'50',\n",
    "                1.74091:'51',\n",
    "                1.93886:'52',\n",
    "                2.12700:'53',\n",
    "                2.32338:'54',\n",
    "                2.57309:'55',\n",
    "                2.85950:'56',\n",
    "                3.00537:'58',\n",
    "                3.27393:'59',\n",
    "\n",
    "                }\n",
    "    df['EScore'] = df[escore].map(escore_a)\n",
    "    return df\n",
    "df = map_escore(df,'EScore')\n",
    "df\n",
    "\n",
    "#OScore\n",
    "def map_oscore(df, oscore):\n",
    "    oscore_a = {-3.27393:'24',\n",
    "                -2.85950:'26',\n",
    "                -2.63199:'28',\n",
    "                -2.39883:'29',\n",
    "                -2.21069:'30',\n",
    "                -2.09015:'31',\n",
    "                -1.97495:'32',\n",
    "                -1.82919:'33',\n",
    "                -1.68062:'34',\n",
    "                -1.55521:'35',\n",
    "                -1.42424:'36',\n",
    "                -1.27553:'37',\n",
    "                -1.11902:'38',\n",
    "                -0.97631:'39',\n",
    "                -0.84732:'40',\n",
    "                -0.71727:'41',\n",
    "                -0.58331:'42',\n",
    "                -0.45174:'43',\n",
    "                -0.31776:'44',\n",
    "                -0.17779:'45',\n",
    "                -0.01928:'46',\n",
    "                0.14143:'47',\n",
    "                0.29338:'48',\n",
    "                0.44585:'49',\n",
    "                0.58331:'50',\n",
    "                0.72330:'51',\n",
    "                0.88309:'52',\n",
    "                1.06238:'53',\n",
    "                1.24033:'54',\n",
    "                1.43533:'55',\n",
    "                1.65653:'56',\n",
    "                1.88511:'57',\n",
    "                2.15324:'58',\n",
    "                2.44904:'59',\n",
    "                2.90161:'60',\n",
    "                }\n",
    "    df['OScore'] = df[oscore].map(oscore_a)\n",
    "    return df\n",
    "df = map_oscore(df,'OScore')\n",
    "df\n",
    "\n",
    "#AScore\n",
    "def map_ascore(df, ascore):\n",
    "    ascore_a = {-3.46436: '12',\n",
    "                -3.15735:'16',\n",
    "                -3.00537:'18',\n",
    "                -2.90161:'23',\n",
    "                -2.78793:'24',\n",
    "                -2.70172:'25',\n",
    "                -2.53830:'26',\n",
    "                -2.35413:'27',\n",
    "                -2.21844:'28',\n",
    "                -2.07848:'29',\n",
    "                -1.92595:'30',\n",
    "                -1.77200:'31',\n",
    "                -1.62090:'32',\n",
    "                -1.47955:'33',\n",
    "                -1.34289:'34',\n",
    "                -1.21213:'35',\n",
    "                -1.07533:'36',\n",
    "                -0.91699:'37',\n",
    "                -0.76096:'38',\n",
    "                -0.60633:'39',\n",
    "                -0.45321:'40',\n",
    "                -0.30172:'41',\n",
    "                -0.15487:'42',\n",
    "                -0.01729:'43',\n",
    "                0.13136:'44',\n",
    "                0.28783:'45',\n",
    "                0.43852:'46',\n",
    "                0.59042:'47',\n",
    "                0.76096:'48',\n",
    "                0.94156:'49',\n",
    "                1.11406:'50',\n",
    "                1.2861:'51',\n",
    "                1.45039:'52',\n",
    "                1.61108:'53',\n",
    "                1.81866:'54',\n",
    "                2.03972:'55',\n",
    "                2.23427:'56',\n",
    "                2.46262:'57',\n",
    "                2.75696:'58',\n",
    "                3.15735:'59',\n",
    "                3.46436:'60'\n",
    "                }\n",
    "    df['AScore'] = df[ascore].map(ascore_a)\n",
    "    return df\n",
    "df = map_ascore(df,'AScore')\n",
    "df\n",
    "\n",
    "#CScore\n",
    "def map_cscore(df, cscore):\n",
    "    cscore_a = {-3.46436: '17',\n",
    "                -3.15735:'19',\n",
    "                -2.90161:'20',\n",
    "                -2.72827:'21',\n",
    "                -2.57309:'22',\n",
    "                -2.42317:'23',\n",
    "                -2.30408:'24',\n",
    "                -2.18109:'25',\n",
    "                -2.04506:'26',\n",
    "                -1.92173:'27',\n",
    "                -1.78169:'28',\n",
    "                -1.64101:'29',\n",
    "                -1.51840:'30',\n",
    "                -1.38502:'31',\n",
    "                -1.25773:'32',\n",
    "                -1.13788:'33',\n",
    "                -1.01450:'34',\n",
    "                -0.89891:'35',\n",
    "                -0.78155:'36',\n",
    "                -0.65253:'37',\n",
    "                -0.52745:'38',\n",
    "                -0.40581:'39',\n",
    "                -0.27607:'40',\n",
    "                -0.14277:'41',\n",
    "                -0.00665:'42',\n",
    "                0.12331:'43',\n",
    "                0.25953:'44',\n",
    "                0.41594:'45',\n",
    "                0.58489:'46',\n",
    "                0.7583:'47',\n",
    "                0.93949:'48',\n",
    "                1.13407:'49',\n",
    "                1.30612:'50',\n",
    "                1.46191:'51',\n",
    "                1.63088:'52',\n",
    "                1.81175:'53',\n",
    "                2.04506:'54',\n",
    "                2.33337:'55',\n",
    "                2.63199:'56',\n",
    "                3.00537:'57',\n",
    "                3.46436:'59',\n",
    "                }\n",
    "    df['CScore'] = df[cscore].map(cscore_a)\n",
    "    return df\n",
    "df = map_cscore(df,'CScore')\n",
    "df\n",
    "\n",
    "#Drugs\n",
    "def map_drugs(df, drugs):\n",
    "    drugs_a = {'CL0':'Never Used',\n",
    "               'CL1':'Used over a decade ago',\n",
    "               'CL2':'Used in last decade',\n",
    "               'CL3':'Used in last year',\n",
    "               'CL4':'Used in last month',\n",
    "               'CL5':'Used in last week',\n",
    "               'CL6':'Used in last day',}\n",
    "    df[drugs] = df[drugs].map(drugs_a)\n",
    "    return df\n",
    "\n",
    "df = map_drugs(df,'Alcohol')\n",
    "df = map_drugs(df,'Amphet')\n",
    "df = map_drugs(df,'Amyl')\n",
    "df = map_drugs(df,'Benzos')\n",
    "df = map_drugs(df,'Caff')\n",
    "df = map_drugs(df,'Cannabis')\n",
    "df = map_drugs(df,'Choc')\n",
    "df = map_drugs(df,'Coke')\n",
    "df = map_drugs(df,'Crack')\n",
    "df = map_drugs(df,'Ecstasy')\n",
    "df = map_drugs(df,'Heroin')\n",
    "df = map_drugs(df,'Ketamine')\n",
    "df = map_drugs(df,'Legalh')\n",
    "df = map_drugs(df,'LSD')\n",
    "df = map_drugs(df,'Meth')\n",
    "df = map_drugs(df,'Mushroom')\n",
    "df = map_drugs(df,'Nicotine')\n",
    "df = map_drugs(df,'Semer')\n",
    "df = map_drugs(df,'VSA')\n",
    "\n",
    "df"
   ]
  },
  {
   "cell_type": "code",
   "execution_count": 309,
   "metadata": {},
   "outputs": [
    {
     "data": {
      "text/html": [
       "<div>\n",
       "<style scoped>\n",
       "    .dataframe tbody tr th:only-of-type {\n",
       "        vertical-align: middle;\n",
       "    }\n",
       "\n",
       "    .dataframe tbody tr th {\n",
       "        vertical-align: top;\n",
       "    }\n",
       "\n",
       "    .dataframe thead th {\n",
       "        text-align: right;\n",
       "    }\n",
       "</style>\n",
       "<table border=\"1\" class=\"dataframe\">\n",
       "  <thead>\n",
       "    <tr style=\"text-align: right;\">\n",
       "      <th></th>\n",
       "      <th>Age</th>\n",
       "      <th>Gender</th>\n",
       "      <th>Education</th>\n",
       "      <th>Country</th>\n",
       "      <th>Ethnicity</th>\n",
       "      <th>NScore</th>\n",
       "      <th>EScore</th>\n",
       "      <th>OScore</th>\n",
       "      <th>AScore</th>\n",
       "      <th>CScore</th>\n",
       "      <th>...</th>\n",
       "      <th>Ecstasy</th>\n",
       "      <th>Heroin</th>\n",
       "      <th>Ketamine</th>\n",
       "      <th>Legalh</th>\n",
       "      <th>LSD</th>\n",
       "      <th>Meth</th>\n",
       "      <th>Mushroom</th>\n",
       "      <th>Nicotine</th>\n",
       "      <th>Semer</th>\n",
       "      <th>VSA</th>\n",
       "    </tr>\n",
       "    <tr>\n",
       "      <th>ID</th>\n",
       "      <th></th>\n",
       "      <th></th>\n",
       "      <th></th>\n",
       "      <th></th>\n",
       "      <th></th>\n",
       "      <th></th>\n",
       "      <th></th>\n",
       "      <th></th>\n",
       "      <th></th>\n",
       "      <th></th>\n",
       "      <th></th>\n",
       "      <th></th>\n",
       "      <th></th>\n",
       "      <th></th>\n",
       "      <th></th>\n",
       "      <th></th>\n",
       "      <th></th>\n",
       "      <th></th>\n",
       "      <th></th>\n",
       "      <th></th>\n",
       "      <th></th>\n",
       "    </tr>\n",
       "  </thead>\n",
       "  <tbody>\n",
       "    <tr>\n",
       "      <th>1</th>\n",
       "      <td>NaN</td>\n",
       "      <td>NaN</td>\n",
       "      <td>NaN</td>\n",
       "      <td>NaN</td>\n",
       "      <td>NaN</td>\n",
       "      <td>NaN</td>\n",
       "      <td>NaN</td>\n",
       "      <td>NaN</td>\n",
       "      <td>NaN</td>\n",
       "      <td>NaN</td>\n",
       "      <td>...</td>\n",
       "      <td>NaN</td>\n",
       "      <td>NaN</td>\n",
       "      <td>NaN</td>\n",
       "      <td>NaN</td>\n",
       "      <td>NaN</td>\n",
       "      <td>NaN</td>\n",
       "      <td>NaN</td>\n",
       "      <td>NaN</td>\n",
       "      <td>NaN</td>\n",
       "      <td>NaN</td>\n",
       "    </tr>\n",
       "    <tr>\n",
       "      <th>2</th>\n",
       "      <td>25-34</td>\n",
       "      <td>Male</td>\n",
       "      <td>Doctorate Degree</td>\n",
       "      <td>UK</td>\n",
       "      <td>White</td>\n",
       "      <td>29</td>\n",
       "      <td>52</td>\n",
       "      <td>55</td>\n",
       "      <td>48</td>\n",
       "      <td>41</td>\n",
       "      <td>...</td>\n",
       "      <td>Used in last month</td>\n",
       "      <td>Never Used</td>\n",
       "      <td>Used in last decade</td>\n",
       "      <td>Never Used</td>\n",
       "      <td>Used in last decade</td>\n",
       "      <td>Used in last year</td>\n",
       "      <td>Never Used</td>\n",
       "      <td>Used in last month</td>\n",
       "      <td>Never Used</td>\n",
       "      <td>Never Used</td>\n",
       "    </tr>\n",
       "    <tr>\n",
       "      <th>3</th>\n",
       "      <td>35-44</td>\n",
       "      <td>Male</td>\n",
       "      <td>Professional certificate/diploma</td>\n",
       "      <td>UK</td>\n",
       "      <td>White</td>\n",
       "      <td>31</td>\n",
       "      <td>45</td>\n",
       "      <td>40</td>\n",
       "      <td>32</td>\n",
       "      <td>34</td>\n",
       "      <td>...</td>\n",
       "      <td>Never Used</td>\n",
       "      <td>Never Used</td>\n",
       "      <td>Never Used</td>\n",
       "      <td>Never Used</td>\n",
       "      <td>Never Used</td>\n",
       "      <td>Never Used</td>\n",
       "      <td>Used over a decade ago</td>\n",
       "      <td>Never Used</td>\n",
       "      <td>Never Used</td>\n",
       "      <td>Never Used</td>\n",
       "    </tr>\n",
       "    <tr>\n",
       "      <th>4</th>\n",
       "      <td>18-24</td>\n",
       "      <td>Female</td>\n",
       "      <td>Masters Degree</td>\n",
       "      <td>UK</td>\n",
       "      <td>White</td>\n",
       "      <td>34</td>\n",
       "      <td>34</td>\n",
       "      <td>46</td>\n",
       "      <td>47</td>\n",
       "      <td>46</td>\n",
       "      <td>...</td>\n",
       "      <td>Never Used</td>\n",
       "      <td>Never Used</td>\n",
       "      <td>Used in last decade</td>\n",
       "      <td>Never Used</td>\n",
       "      <td>Never Used</td>\n",
       "      <td>Never Used</td>\n",
       "      <td>Never Used</td>\n",
       "      <td>Used in last decade</td>\n",
       "      <td>Never Used</td>\n",
       "      <td>Never Used</td>\n",
       "    </tr>\n",
       "    <tr>\n",
       "      <th>5</th>\n",
       "      <td>35-44</td>\n",
       "      <td>Female</td>\n",
       "      <td>Doctorate Degree</td>\n",
       "      <td>UK</td>\n",
       "      <td>White</td>\n",
       "      <td>43</td>\n",
       "      <td>28</td>\n",
       "      <td>43</td>\n",
       "      <td>41</td>\n",
       "      <td>50</td>\n",
       "      <td>...</td>\n",
       "      <td>Used over a decade ago</td>\n",
       "      <td>Never Used</td>\n",
       "      <td>Never Used</td>\n",
       "      <td>Used over a decade ago</td>\n",
       "      <td>Never Used</td>\n",
       "      <td>Never Used</td>\n",
       "      <td>Used in last decade</td>\n",
       "      <td>Used in last decade</td>\n",
       "      <td>Never Used</td>\n",
       "      <td>Never Used</td>\n",
       "    </tr>\n",
       "  </tbody>\n",
       "</table>\n",
       "<p>5 rows × 31 columns</p>\n",
       "</div>"
      ],
      "text/plain": [
       "      Age  Gender                         Education Country Ethnicity NScore  \\\n",
       "ID                                                                             \n",
       "1   NaN    NaN     NaN                               NaN     NaN       NaN     \n",
       "2   25-34  Male    Doctorate Degree                  UK      White     29      \n",
       "3   35-44  Male    Professional certificate/diploma  UK      White     31      \n",
       "4   18-24  Female  Masters Degree                    UK      White     34      \n",
       "5   35-44  Female  Doctorate Degree                  UK      White     43      \n",
       "\n",
       "   EScore OScore AScore CScore  ...                 Ecstasy      Heroin  \\\n",
       "ID                              ...                                       \n",
       "1   NaN    NaN    NaN    NaN    ...  NaN                     NaN          \n",
       "2   52     55     48     41     ...  Used in last month      Never Used   \n",
       "3   45     40     32     34     ...  Never Used              Never Used   \n",
       "4   34     46     47     46     ...  Never Used              Never Used   \n",
       "5   28     43     41     50     ...  Used over a decade ago  Never Used   \n",
       "\n",
       "               Ketamine                  Legalh                  LSD  \\\n",
       "ID                                                                     \n",
       "1   NaN                  NaN                     NaN                   \n",
       "2   Used in last decade  Never Used              Used in last decade   \n",
       "3   Never Used           Never Used              Never Used            \n",
       "4   Used in last decade  Never Used              Never Used            \n",
       "5   Never Used           Used over a decade ago  Never Used            \n",
       "\n",
       "                 Meth                Mushroom             Nicotine  \\\n",
       "ID                                                                   \n",
       "1   NaN                NaN                     NaN                   \n",
       "2   Used in last year  Never Used              Used in last month    \n",
       "3   Never Used         Used over a decade ago  Never Used            \n",
       "4   Never Used         Never Used              Used in last decade   \n",
       "5   Never Used         Used in last decade     Used in last decade   \n",
       "\n",
       "         Semer         VSA  \n",
       "ID                          \n",
       "1   NaN         NaN         \n",
       "2   Never Used  Never Used  \n",
       "3   Never Used  Never Used  \n",
       "4   Never Used  Never Used  \n",
       "5   Never Used  Never Used  \n",
       "\n",
       "[5 rows x 31 columns]"
      ]
     },
     "metadata": {},
     "output_type": "display_data"
    },
    {
     "data": {
      "text/html": [
       "<div>\n",
       "<style scoped>\n",
       "    .dataframe tbody tr th:only-of-type {\n",
       "        vertical-align: middle;\n",
       "    }\n",
       "\n",
       "    .dataframe tbody tr th {\n",
       "        vertical-align: top;\n",
       "    }\n",
       "\n",
       "    .dataframe thead th {\n",
       "        text-align: right;\n",
       "    }\n",
       "</style>\n",
       "<table border=\"1\" class=\"dataframe\">\n",
       "  <thead>\n",
       "    <tr style=\"text-align: right;\">\n",
       "      <th></th>\n",
       "      <th>Age</th>\n",
       "      <th>Gender</th>\n",
       "      <th>Education</th>\n",
       "      <th>Country</th>\n",
       "      <th>Ethnicity</th>\n",
       "      <th>NScore</th>\n",
       "      <th>EScore</th>\n",
       "      <th>OScore</th>\n",
       "      <th>AScore</th>\n",
       "      <th>CScore</th>\n",
       "      <th>...</th>\n",
       "      <th>Ecstasy</th>\n",
       "      <th>Heroin</th>\n",
       "      <th>Ketamine</th>\n",
       "      <th>Legalh</th>\n",
       "      <th>LSD</th>\n",
       "      <th>Meth</th>\n",
       "      <th>Mushroom</th>\n",
       "      <th>Nicotine</th>\n",
       "      <th>Semer</th>\n",
       "      <th>VSA</th>\n",
       "    </tr>\n",
       "    <tr>\n",
       "      <th>ID</th>\n",
       "      <th></th>\n",
       "      <th></th>\n",
       "      <th></th>\n",
       "      <th></th>\n",
       "      <th></th>\n",
       "      <th></th>\n",
       "      <th></th>\n",
       "      <th></th>\n",
       "      <th></th>\n",
       "      <th></th>\n",
       "      <th></th>\n",
       "      <th></th>\n",
       "      <th></th>\n",
       "      <th></th>\n",
       "      <th></th>\n",
       "      <th></th>\n",
       "      <th></th>\n",
       "      <th></th>\n",
       "      <th></th>\n",
       "      <th></th>\n",
       "      <th></th>\n",
       "    </tr>\n",
       "  </thead>\n",
       "  <tbody>\n",
       "    <tr>\n",
       "      <th>1884</th>\n",
       "      <td>18-24</td>\n",
       "      <td>Female</td>\n",
       "      <td>Some college or university, no certificate or degree</td>\n",
       "      <td>USA</td>\n",
       "      <td>White</td>\n",
       "      <td>25</td>\n",
       "      <td>51</td>\n",
       "      <td>57</td>\n",
       "      <td>48</td>\n",
       "      <td>33</td>\n",
       "      <td>...</td>\n",
       "      <td>Never Used</td>\n",
       "      <td>Never Used</td>\n",
       "      <td>Never Used</td>\n",
       "      <td>Used in last year</td>\n",
       "      <td>Used in last year</td>\n",
       "      <td>Never Used</td>\n",
       "      <td>Never Used</td>\n",
       "      <td>Never Used</td>\n",
       "      <td>Never Used</td>\n",
       "      <td>Used in last week</td>\n",
       "    </tr>\n",
       "    <tr>\n",
       "      <th>1885</th>\n",
       "      <td>18-24</td>\n",
       "      <td>Male</td>\n",
       "      <td>Some college or university, no certificate or degree</td>\n",
       "      <td>USA</td>\n",
       "      <td>White</td>\n",
       "      <td>33</td>\n",
       "      <td>51</td>\n",
       "      <td>50</td>\n",
       "      <td>48</td>\n",
       "      <td>30</td>\n",
       "      <td>...</td>\n",
       "      <td>Used in last decade</td>\n",
       "      <td>Never Used</td>\n",
       "      <td>Never Used</td>\n",
       "      <td>Used in last year</td>\n",
       "      <td>Used in last week</td>\n",
       "      <td>Used in last month</td>\n",
       "      <td>Used in last month</td>\n",
       "      <td>Used in last week</td>\n",
       "      <td>Never Used</td>\n",
       "      <td>Never Used</td>\n",
       "    </tr>\n",
       "    <tr>\n",
       "      <th>1886</th>\n",
       "      <td>25-34</td>\n",
       "      <td>Female</td>\n",
       "      <td>University Degree</td>\n",
       "      <td>USA</td>\n",
       "      <td>White</td>\n",
       "      <td>47</td>\n",
       "      <td>30</td>\n",
       "      <td>37</td>\n",
       "      <td>31</td>\n",
       "      <td>31</td>\n",
       "      <td>...</td>\n",
       "      <td>Used in last month</td>\n",
       "      <td>Never Used</td>\n",
       "      <td>Used in last decade</td>\n",
       "      <td>Never Used</td>\n",
       "      <td>Used in last decade</td>\n",
       "      <td>Never Used</td>\n",
       "      <td>Used in last decade</td>\n",
       "      <td>Used in last day</td>\n",
       "      <td>Never Used</td>\n",
       "      <td>Never Used</td>\n",
       "    </tr>\n",
       "    <tr>\n",
       "      <th>1887</th>\n",
       "      <td>18-24</td>\n",
       "      <td>Female</td>\n",
       "      <td>Some college or university, no certificate or degree</td>\n",
       "      <td>USA</td>\n",
       "      <td>White</td>\n",
       "      <td>45</td>\n",
       "      <td>26</td>\n",
       "      <td>48</td>\n",
       "      <td>32</td>\n",
       "      <td>22</td>\n",
       "      <td>...</td>\n",
       "      <td>Used in last year</td>\n",
       "      <td>Never Used</td>\n",
       "      <td>Never Used</td>\n",
       "      <td>Used in last year</td>\n",
       "      <td>Used in last year</td>\n",
       "      <td>Never Used</td>\n",
       "      <td>Used in last year</td>\n",
       "      <td>Used in last month</td>\n",
       "      <td>Never Used</td>\n",
       "      <td>Never Used</td>\n",
       "    </tr>\n",
       "    <tr>\n",
       "      <th>1888</th>\n",
       "      <td>18-24</td>\n",
       "      <td>Male</td>\n",
       "      <td>Some college or university, no certificate or degree</td>\n",
       "      <td>Republic of Ireland</td>\n",
       "      <td>White</td>\n",
       "      <td>31</td>\n",
       "      <td>53</td>\n",
       "      <td>56</td>\n",
       "      <td>50</td>\n",
       "      <td>45</td>\n",
       "      <td>...</td>\n",
       "      <td>Used in last year</td>\n",
       "      <td>Never Used</td>\n",
       "      <td>Never Used</td>\n",
       "      <td>Used in last year</td>\n",
       "      <td>Used in last year</td>\n",
       "      <td>Never Used</td>\n",
       "      <td>Used in last year</td>\n",
       "      <td>Used in last day</td>\n",
       "      <td>Never Used</td>\n",
       "      <td>Used in last decade</td>\n",
       "    </tr>\n",
       "  </tbody>\n",
       "</table>\n",
       "<p>5 rows × 31 columns</p>\n",
       "</div>"
      ],
      "text/plain": [
       "        Age  Gender                                             Education  \\\n",
       "ID                                                                          \n",
       "1884  18-24  Female  Some college or university, no certificate or degree   \n",
       "1885  18-24  Male    Some college or university, no certificate or degree   \n",
       "1886  25-34  Female  University Degree                                      \n",
       "1887  18-24  Female  Some college or university, no certificate or degree   \n",
       "1888  18-24  Male    Some college or university, no certificate or degree   \n",
       "\n",
       "                  Country Ethnicity NScore EScore OScore AScore CScore  ...  \\\n",
       "ID                                                                      ...   \n",
       "1884  USA                  White     25     51     57     48     33     ...   \n",
       "1885  USA                  White     33     51     50     48     30     ...   \n",
       "1886  USA                  White     47     30     37     31     31     ...   \n",
       "1887  USA                  White     45     26     48     32     22     ...   \n",
       "1888  Republic of Ireland  White     31     53     56     50     45     ...   \n",
       "\n",
       "                  Ecstasy      Heroin             Ketamine             Legalh  \\\n",
       "ID                                                                              \n",
       "1884  Never Used           Never Used  Never Used           Used in last year   \n",
       "1885  Used in last decade  Never Used  Never Used           Used in last year   \n",
       "1886  Used in last month   Never Used  Used in last decade  Never Used          \n",
       "1887  Used in last year    Never Used  Never Used           Used in last year   \n",
       "1888  Used in last year    Never Used  Never Used           Used in last year   \n",
       "\n",
       "                      LSD                Meth             Mushroom  \\\n",
       "ID                                                                   \n",
       "1884  Used in last year    Never Used          Never Used            \n",
       "1885  Used in last week    Used in last month  Used in last month    \n",
       "1886  Used in last decade  Never Used          Used in last decade   \n",
       "1887  Used in last year    Never Used          Used in last year     \n",
       "1888  Used in last year    Never Used          Used in last year     \n",
       "\n",
       "                Nicotine       Semer                  VSA  \n",
       "ID                                                         \n",
       "1884  Never Used          Never Used  Used in last week    \n",
       "1885  Used in last week   Never Used  Never Used           \n",
       "1886  Used in last day    Never Used  Never Used           \n",
       "1887  Used in last month  Never Used  Never Used           \n",
       "1888  Used in last day    Never Used  Used in last decade  \n",
       "\n",
       "[5 rows x 31 columns]"
      ]
     },
     "metadata": {},
     "output_type": "display_data"
    }
   ],
   "source": [
    "# data has been translated!\n",
    "display(df.head(),df.tail())"
   ]
  },
  {
   "cell_type": "code",
   "execution_count": 310,
   "metadata": {},
   "outputs": [
    {
     "name": "stdout",
     "output_type": "stream",
     "text": [
      "The total rows and columns in this dataset are (1885, 31)\n",
      "<class 'pandas.core.frame.DataFrame'>\n",
      "Index: 1885 entries, 1 to 1888\n",
      "Data columns (total 31 columns):\n",
      " #   Column     Non-Null Count  Dtype \n",
      "---  ------     --------------  ----- \n",
      " 0   Age        1884 non-null   object\n",
      " 1   Gender     1884 non-null   object\n",
      " 2   Education  1884 non-null   object\n",
      " 3   Country    1884 non-null   object\n",
      " 4   Ethnicity  1884 non-null   object\n",
      " 5   NScore     1884 non-null   object\n",
      " 6   EScore     1884 non-null   object\n",
      " 7   OScore     1884 non-null   object\n",
      " 8   AScore     1884 non-null   object\n",
      " 9   CScore     1884 non-null   object\n",
      " 10  Impulsive  1885 non-null   object\n",
      " 11  SS         1885 non-null   object\n",
      " 12  Alcohol    1885 non-null   object\n",
      " 13  Amphet     1885 non-null   object\n",
      " 14  Amyl       1885 non-null   object\n",
      " 15  Benzos     1884 non-null   object\n",
      " 16  Caff       1885 non-null   object\n",
      " 17  Cannabis   1884 non-null   object\n",
      " 18  Choc       1884 non-null   object\n",
      " 19  Coke       1884 non-null   object\n",
      " 20  Crack      1884 non-null   object\n",
      " 21  Ecstasy    1884 non-null   object\n",
      " 22  Heroin     1884 non-null   object\n",
      " 23  Ketamine   1884 non-null   object\n",
      " 24  Legalh     1884 non-null   object\n",
      " 25  LSD        1884 non-null   object\n",
      " 26  Meth       1884 non-null   object\n",
      " 27  Mushroom   1884 non-null   object\n",
      " 28  Nicotine   1884 non-null   object\n",
      " 29  Semer      1884 non-null   object\n",
      " 30  VSA        1884 non-null   object\n",
      "dtypes: object(31)\n",
      "memory usage: 471.2+ KB\n"
     ]
    }
   ],
   "source": [
    "print(f'The total rows and columns in this dataset are {df.shape}')\n",
    "df.info()"
   ]
  },
  {
   "cell_type": "code",
   "execution_count": 311,
   "metadata": {},
   "outputs": [
    {
     "data": {
      "text/html": [
       "<div>\n",
       "<style scoped>\n",
       "    .dataframe tbody tr th:only-of-type {\n",
       "        vertical-align: middle;\n",
       "    }\n",
       "\n",
       "    .dataframe tbody tr th {\n",
       "        vertical-align: top;\n",
       "    }\n",
       "\n",
       "    .dataframe thead th {\n",
       "        text-align: right;\n",
       "    }\n",
       "</style>\n",
       "<table border=\"1\" class=\"dataframe\">\n",
       "  <thead>\n",
       "    <tr style=\"text-align: right;\">\n",
       "      <th></th>\n",
       "      <th>Age</th>\n",
       "      <th>Gender</th>\n",
       "      <th>Education</th>\n",
       "      <th>Country</th>\n",
       "      <th>Ethnicity</th>\n",
       "      <th>NScore</th>\n",
       "      <th>EScore</th>\n",
       "      <th>OScore</th>\n",
       "      <th>AScore</th>\n",
       "      <th>CScore</th>\n",
       "      <th>...</th>\n",
       "      <th>Ecstasy</th>\n",
       "      <th>Heroin</th>\n",
       "      <th>Ketamine</th>\n",
       "      <th>Legalh</th>\n",
       "      <th>LSD</th>\n",
       "      <th>Meth</th>\n",
       "      <th>Mushroom</th>\n",
       "      <th>Nicotine</th>\n",
       "      <th>Semer</th>\n",
       "      <th>VSA</th>\n",
       "    </tr>\n",
       "  </thead>\n",
       "  <tbody>\n",
       "    <tr>\n",
       "      <th>count</th>\n",
       "      <td>1884</td>\n",
       "      <td>1884</td>\n",
       "      <td>1884</td>\n",
       "      <td>1884</td>\n",
       "      <td>1884</td>\n",
       "      <td>1884</td>\n",
       "      <td>1884</td>\n",
       "      <td>1884</td>\n",
       "      <td>1884</td>\n",
       "      <td>1884</td>\n",
       "      <td>...</td>\n",
       "      <td>1884</td>\n",
       "      <td>1884</td>\n",
       "      <td>1884</td>\n",
       "      <td>1884</td>\n",
       "      <td>1884</td>\n",
       "      <td>1884</td>\n",
       "      <td>1884</td>\n",
       "      <td>1884</td>\n",
       "      <td>1884</td>\n",
       "      <td>1884</td>\n",
       "    </tr>\n",
       "    <tr>\n",
       "      <th>unique</th>\n",
       "      <td>6</td>\n",
       "      <td>2</td>\n",
       "      <td>9</td>\n",
       "      <td>7</td>\n",
       "      <td>7</td>\n",
       "      <td>49</td>\n",
       "      <td>42</td>\n",
       "      <td>35</td>\n",
       "      <td>41</td>\n",
       "      <td>41</td>\n",
       "      <td>...</td>\n",
       "      <td>7</td>\n",
       "      <td>7</td>\n",
       "      <td>7</td>\n",
       "      <td>7</td>\n",
       "      <td>7</td>\n",
       "      <td>7</td>\n",
       "      <td>7</td>\n",
       "      <td>7</td>\n",
       "      <td>5</td>\n",
       "      <td>7</td>\n",
       "    </tr>\n",
       "    <tr>\n",
       "      <th>top</th>\n",
       "      <td>18-24</td>\n",
       "      <td>Male</td>\n",
       "      <td>Some college or university, no certificate or degree</td>\n",
       "      <td>UK</td>\n",
       "      <td>White</td>\n",
       "      <td>31</td>\n",
       "      <td>40</td>\n",
       "      <td>46</td>\n",
       "      <td>44</td>\n",
       "      <td>46</td>\n",
       "      <td>...</td>\n",
       "      <td>Never Used</td>\n",
       "      <td>Never Used</td>\n",
       "      <td>Never Used</td>\n",
       "      <td>Never Used</td>\n",
       "      <td>Never Used</td>\n",
       "      <td>Never Used</td>\n",
       "      <td>Never Used</td>\n",
       "      <td>Used in last day</td>\n",
       "      <td>Never Used</td>\n",
       "      <td>Never Used</td>\n",
       "    </tr>\n",
       "    <tr>\n",
       "      <th>freq</th>\n",
       "      <td>643</td>\n",
       "      <td>943</td>\n",
       "      <td>506</td>\n",
       "      <td>1043</td>\n",
       "      <td>1720</td>\n",
       "      <td>87</td>\n",
       "      <td>130</td>\n",
       "      <td>134</td>\n",
       "      <td>118</td>\n",
       "      <td>113</td>\n",
       "      <td>...</td>\n",
       "      <td>1020</td>\n",
       "      <td>1604</td>\n",
       "      <td>1489</td>\n",
       "      <td>1093</td>\n",
       "      <td>1068</td>\n",
       "      <td>1428</td>\n",
       "      <td>981</td>\n",
       "      <td>610</td>\n",
       "      <td>1876</td>\n",
       "      <td>1454</td>\n",
       "    </tr>\n",
       "  </tbody>\n",
       "</table>\n",
       "<p>4 rows × 31 columns</p>\n",
       "</div>"
      ],
      "text/plain": [
       "          Age Gender                                             Education  \\\n",
       "count   1884   1884   1884                                                   \n",
       "unique  6      2      9                                                      \n",
       "top     18-24  Male   Some college or university, no certificate or degree   \n",
       "freq    643    943    506                                                    \n",
       "\n",
       "       Country Ethnicity NScore EScore OScore AScore CScore  ...     Ecstasy  \\\n",
       "count   1884    1884      1884   1884   1884   1884   1884   ...  1884         \n",
       "unique  7       7         49     42     35     41     41     ...  7            \n",
       "top     UK      White     31     40     46     44     46     ...  Never Used   \n",
       "freq    1043    1720      87     130    134    118    113    ...  1020         \n",
       "\n",
       "            Heroin    Ketamine      Legalh         LSD        Meth  \\\n",
       "count   1884        1884        1884        1884        1884         \n",
       "unique  7           7           7           7           7            \n",
       "top     Never Used  Never Used  Never Used  Never Used  Never Used   \n",
       "freq    1604        1489        1093        1068        1428         \n",
       "\n",
       "          Mushroom          Nicotine       Semer         VSA  \n",
       "count   1884        1884              1884        1884        \n",
       "unique  7           7                 5           7           \n",
       "top     Never Used  Used in last day  Never Used  Never Used  \n",
       "freq    981         610               1876        1454        \n",
       "\n",
       "[4 rows x 31 columns]"
      ]
     },
     "metadata": {},
     "output_type": "display_data"
    },
    {
     "data": {
      "text/html": [
       "<div>\n",
       "<style scoped>\n",
       "    .dataframe tbody tr th:only-of-type {\n",
       "        vertical-align: middle;\n",
       "    }\n",
       "\n",
       "    .dataframe tbody tr th {\n",
       "        vertical-align: top;\n",
       "    }\n",
       "\n",
       "    .dataframe thead th {\n",
       "        text-align: right;\n",
       "    }\n",
       "</style>\n",
       "<table border=\"1\" class=\"dataframe\">\n",
       "  <thead>\n",
       "    <tr style=\"text-align: right;\">\n",
       "      <th></th>\n",
       "      <th>Age</th>\n",
       "      <th>Gender</th>\n",
       "      <th>Education</th>\n",
       "      <th>Country</th>\n",
       "      <th>Ethnicity</th>\n",
       "      <th>NScore</th>\n",
       "      <th>EScore</th>\n",
       "      <th>OScore</th>\n",
       "      <th>AScore</th>\n",
       "      <th>CScore</th>\n",
       "      <th>...</th>\n",
       "      <th>Ecstasy</th>\n",
       "      <th>Heroin</th>\n",
       "      <th>Ketamine</th>\n",
       "      <th>Legalh</th>\n",
       "      <th>LSD</th>\n",
       "      <th>Meth</th>\n",
       "      <th>Mushroom</th>\n",
       "      <th>Nicotine</th>\n",
       "      <th>Semer</th>\n",
       "      <th>VSA</th>\n",
       "    </tr>\n",
       "  </thead>\n",
       "  <tbody>\n",
       "    <tr>\n",
       "      <th>count</th>\n",
       "      <td>1884</td>\n",
       "      <td>1884</td>\n",
       "      <td>1884</td>\n",
       "      <td>1884</td>\n",
       "      <td>1884</td>\n",
       "      <td>1884</td>\n",
       "      <td>1884</td>\n",
       "      <td>1884</td>\n",
       "      <td>1884</td>\n",
       "      <td>1884</td>\n",
       "      <td>...</td>\n",
       "      <td>1884</td>\n",
       "      <td>1884</td>\n",
       "      <td>1884</td>\n",
       "      <td>1884</td>\n",
       "      <td>1884</td>\n",
       "      <td>1884</td>\n",
       "      <td>1884</td>\n",
       "      <td>1884</td>\n",
       "      <td>1884</td>\n",
       "      <td>1884</td>\n",
       "    </tr>\n",
       "    <tr>\n",
       "      <th>unique</th>\n",
       "      <td>6</td>\n",
       "      <td>2</td>\n",
       "      <td>9</td>\n",
       "      <td>7</td>\n",
       "      <td>7</td>\n",
       "      <td>49</td>\n",
       "      <td>42</td>\n",
       "      <td>35</td>\n",
       "      <td>41</td>\n",
       "      <td>41</td>\n",
       "      <td>...</td>\n",
       "      <td>7</td>\n",
       "      <td>7</td>\n",
       "      <td>7</td>\n",
       "      <td>7</td>\n",
       "      <td>7</td>\n",
       "      <td>7</td>\n",
       "      <td>7</td>\n",
       "      <td>7</td>\n",
       "      <td>5</td>\n",
       "      <td>7</td>\n",
       "    </tr>\n",
       "    <tr>\n",
       "      <th>top</th>\n",
       "      <td>18-24</td>\n",
       "      <td>Male</td>\n",
       "      <td>Some college or university, no certificate or degree</td>\n",
       "      <td>UK</td>\n",
       "      <td>White</td>\n",
       "      <td>31</td>\n",
       "      <td>40</td>\n",
       "      <td>46</td>\n",
       "      <td>44</td>\n",
       "      <td>46</td>\n",
       "      <td>...</td>\n",
       "      <td>Never Used</td>\n",
       "      <td>Never Used</td>\n",
       "      <td>Never Used</td>\n",
       "      <td>Never Used</td>\n",
       "      <td>Never Used</td>\n",
       "      <td>Never Used</td>\n",
       "      <td>Never Used</td>\n",
       "      <td>Used in last day</td>\n",
       "      <td>Never Used</td>\n",
       "      <td>Never Used</td>\n",
       "    </tr>\n",
       "    <tr>\n",
       "      <th>freq</th>\n",
       "      <td>643</td>\n",
       "      <td>943</td>\n",
       "      <td>506</td>\n",
       "      <td>1043</td>\n",
       "      <td>1720</td>\n",
       "      <td>87</td>\n",
       "      <td>130</td>\n",
       "      <td>134</td>\n",
       "      <td>118</td>\n",
       "      <td>113</td>\n",
       "      <td>...</td>\n",
       "      <td>1020</td>\n",
       "      <td>1604</td>\n",
       "      <td>1489</td>\n",
       "      <td>1093</td>\n",
       "      <td>1068</td>\n",
       "      <td>1428</td>\n",
       "      <td>981</td>\n",
       "      <td>610</td>\n",
       "      <td>1876</td>\n",
       "      <td>1454</td>\n",
       "    </tr>\n",
       "  </tbody>\n",
       "</table>\n",
       "<p>4 rows × 31 columns</p>\n",
       "</div>"
      ],
      "text/plain": [
       "          Age Gender                                             Education  \\\n",
       "count   1884   1884   1884                                                   \n",
       "unique  6      2      9                                                      \n",
       "top     18-24  Male   Some college or university, no certificate or degree   \n",
       "freq    643    943    506                                                    \n",
       "\n",
       "       Country Ethnicity NScore EScore OScore AScore CScore  ...     Ecstasy  \\\n",
       "count   1884    1884      1884   1884   1884   1884   1884   ...  1884         \n",
       "unique  7       7         49     42     35     41     41     ...  7            \n",
       "top     UK      White     31     40     46     44     46     ...  Never Used   \n",
       "freq    1043    1720      87     130    134    118    113    ...  1020         \n",
       "\n",
       "            Heroin    Ketamine      Legalh         LSD        Meth  \\\n",
       "count   1884        1884        1884        1884        1884         \n",
       "unique  7           7           7           7           7            \n",
       "top     Never Used  Never Used  Never Used  Never Used  Never Used   \n",
       "freq    1604        1489        1093        1068        1428         \n",
       "\n",
       "          Mushroom          Nicotine       Semer         VSA  \n",
       "count   1884        1884              1884        1884        \n",
       "unique  7           7                 5           7           \n",
       "top     Never Used  Used in last day  Never Used  Never Used  \n",
       "freq    981         610               1876        1454        \n",
       "\n",
       "[4 rows x 31 columns]"
      ]
     },
     "metadata": {},
     "output_type": "display_data"
    }
   ],
   "source": [
    "display(df.describe(), df.describe(include='object'))"
   ]
  },
  {
   "cell_type": "code",
   "execution_count": 312,
   "metadata": {},
   "outputs": [
    {
     "data": {
      "text/plain": [
       "0"
      ]
     },
     "execution_count": 312,
     "metadata": {},
     "output_type": "execute_result"
    }
   ],
   "source": [
    "# Duplicated data\n",
    "df.duplicated().sum()"
   ]
  },
  {
   "cell_type": "code",
   "execution_count": 313,
   "metadata": {},
   "outputs": [
    {
     "data": {
      "text/plain": [
       "Age          1\n",
       "Gender       1\n",
       "Education    1\n",
       "Country      1\n",
       "Ethnicity    1\n",
       "NScore       1\n",
       "EScore       1\n",
       "OScore       1\n",
       "AScore       1\n",
       "CScore       1\n",
       "Impulsive    0\n",
       "SS           0\n",
       "Alcohol      0\n",
       "Amphet       0\n",
       "Amyl         0\n",
       "Benzos       1\n",
       "Caff         0\n",
       "Cannabis     1\n",
       "Choc         1\n",
       "Coke         1\n",
       "Crack        1\n",
       "Ecstasy      1\n",
       "Heroin       1\n",
       "Ketamine     1\n",
       "Legalh       1\n",
       "LSD          1\n",
       "Meth         1\n",
       "Mushroom     1\n",
       "Nicotine     1\n",
       "Semer        1\n",
       "VSA          1\n",
       "dtype: int64"
      ]
     },
     "execution_count": 313,
     "metadata": {},
     "output_type": "execute_result"
    }
   ],
   "source": [
    "# Number of missing value in each columns\n",
    "df.isna().sum()"
   ]
  },
  {
   "cell_type": "code",
   "execution_count": 314,
   "metadata": {},
   "outputs": [
    {
     "data": {
      "text/html": [
       "<div>\n",
       "<style scoped>\n",
       "    .dataframe tbody tr th:only-of-type {\n",
       "        vertical-align: middle;\n",
       "    }\n",
       "\n",
       "    .dataframe tbody tr th {\n",
       "        vertical-align: top;\n",
       "    }\n",
       "\n",
       "    .dataframe thead th {\n",
       "        text-align: right;\n",
       "    }\n",
       "</style>\n",
       "<table border=\"1\" class=\"dataframe\">\n",
       "  <thead>\n",
       "    <tr style=\"text-align: right;\">\n",
       "      <th></th>\n",
       "      <th>Column Name</th>\n",
       "      <th>Number of Unique</th>\n",
       "      <th>Unique Sample</th>\n",
       "    </tr>\n",
       "  </thead>\n",
       "  <tbody>\n",
       "    <tr>\n",
       "      <th>0</th>\n",
       "      <td>Age</td>\n",
       "      <td>6</td>\n",
       "      <td>[nan, 25-34, 35-44, 18-24, 65+, 45-54, 55-64]</td>\n",
       "    </tr>\n",
       "    <tr>\n",
       "      <th>1</th>\n",
       "      <td>Gender</td>\n",
       "      <td>2</td>\n",
       "      <td>[nan, Male, Female]</td>\n",
       "    </tr>\n",
       "    <tr>\n",
       "      <th>2</th>\n",
       "      <td>Education</td>\n",
       "      <td>9</td>\n",
       "      <td>[nan, Doctorate Degree, Professional certificate/diploma, Masters Degree, Left school at 18 years, Left school at 16 years, University Degree, Some college or university, no certificate or degree, Left school before 16 years, Left school at 17 years]</td>\n",
       "    </tr>\n",
       "    <tr>\n",
       "      <th>3</th>\n",
       "      <td>Country</td>\n",
       "      <td>7</td>\n",
       "      <td>[nan, UK, Canada, USA, Others, Australia, Republic of Ireland, New Zealand]</td>\n",
       "    </tr>\n",
       "    <tr>\n",
       "      <th>4</th>\n",
       "      <td>Ethnicity</td>\n",
       "      <td>7</td>\n",
       "      <td>[nan, White, Others, Mixed-White/Black, Asian, Mixed-White/Asian, Black, Mixed-Black/Asian]</td>\n",
       "    </tr>\n",
       "    <tr>\n",
       "      <th>5</th>\n",
       "      <td>NScore</td>\n",
       "      <td>49</td>\n",
       "      <td>[nan, 29, 31, 34, 43, 24, 42, 33, 26, 56, 28, 27, 19, 22, 41, 49, 32, 25, 40, 51, 35, 36, 39, 46, 44, 37, 47, 23, 30, 38, 18, 45, 17, 53, 50, 60, 21, 54, 59, 48, 20, 55, 16, 57, 52, 58, 14, 15, 13, 12]</td>\n",
       "    </tr>\n",
       "    <tr>\n",
       "      <th>6</th>\n",
       "      <td>EScore</td>\n",
       "      <td>42</td>\n",
       "      <td>[nan, 52, 45, 34, 28, 38, 32, 55, 40, 41, 49, 29, 31, 39, 27, 43, 33, 16, 44, 37, 51, 36, 42, 48, 46, 47, 35, 50, 30, 26, 58, 53, 54, 23, 22, 24, 19, 20, 21, 25, 56, 59, 18]</td>\n",
       "    </tr>\n",
       "    <tr>\n",
       "      <th>7</th>\n",
       "      <td>OScore</td>\n",
       "      <td>35</td>\n",
       "      <td>[nan, 55, 40, 46, 43, 35, 39, 36, 38, 47, 49, 34, 44, 45, 29, 51, 37, 54, 24, 41, 52, 48, 28, 53, 32, 42, 33, 26, 31, 50, 58, 30, 56, 57, 60, 59]</td>\n",
       "    </tr>\n",
       "    <tr>\n",
       "      <th>8</th>\n",
       "      <td>AScore</td>\n",
       "      <td>41</td>\n",
       "      <td>[nan, 48, 32, 47, 41, 55, 38, 30, 49, 39, 36, 45, 40, 53, 50, 43, 33, 46, 51, 23, 44, 29, 54, 42, 37, 35, 34, 52, 31, 57, 56, 27, 25, 28, 58, 26, 59, 24, 18, 12, 16, 60]</td>\n",
       "    </tr>\n",
       "    <tr>\n",
       "      <th>9</th>\n",
       "      <td>CScore</td>\n",
       "      <td>41</td>\n",
       "      <td>[nan, 41, 34, 46, 50, 52, 48, 49, 43, 53, 38, 36, 59, 47, 31, 30, 33, 35, 51, 42, 25, 37, 45, 39, 44, 27, 40, 29, 54, 55, 32, 56, 20, 28, 26, 22, 24, 23, 19, 17, 21, 57]</td>\n",
       "    </tr>\n",
       "    <tr>\n",
       "      <th>10</th>\n",
       "      <td>Impulsive</td>\n",
       "      <td>11</td>\n",
       "      <td>[-0.21712, -0.71126, -1.37983, -0.21712, 0.19268, 0.52975, 1.29221, 1.86203, -2.55524, 0.88113, 2.90161]</td>\n",
       "    </tr>\n",
       "    <tr>\n",
       "      <th>11</th>\n",
       "      <td>SS</td>\n",
       "      <td>12</td>\n",
       "      <td>[-1.18084, -0.21575, 0.40148, -1.18084, -1.54858, 0.07987, -0.52593, -0.84637, 1.2247, 0.7654, -2.07848, 1.92173]</td>\n",
       "    </tr>\n",
       "    <tr>\n",
       "      <th>12</th>\n",
       "      <td>Alcohol</td>\n",
       "      <td>7</td>\n",
       "      <td>[Used in last week, Used in last day, Used in last month, Used in last decade, Used over a decade ago, Never Used, Used in last year]</td>\n",
       "    </tr>\n",
       "    <tr>\n",
       "      <th>13</th>\n",
       "      <td>Amphet</td>\n",
       "      <td>7</td>\n",
       "      <td>[Used in last decade, Never Used, Used over a decade ago, Used in last year, Used in last week, Used in last month, Used in last day]</td>\n",
       "    </tr>\n",
       "    <tr>\n",
       "      <th>14</th>\n",
       "      <td>Amyl</td>\n",
       "      <td>7</td>\n",
       "      <td>[Never Used, Used in last decade, Used over a decade ago, Used in last year, Used in last week, Used in last month, Used in last day]</td>\n",
       "    </tr>\n",
       "    <tr>\n",
       "      <th>15</th>\n",
       "      <td>Benzos</td>\n",
       "      <td>7</td>\n",
       "      <td>[nan, Never Used, Used in last year, Used over a decade ago, Used in last month, Used in last decade, Used in last week, Used in last day]</td>\n",
       "    </tr>\n",
       "    <tr>\n",
       "      <th>16</th>\n",
       "      <td>Caff</td>\n",
       "      <td>7</td>\n",
       "      <td>[Used in last day, Used in last week, Used in last month, Used in last year, Never Used, Used over a decade ago, Used in last decade]</td>\n",
       "    </tr>\n",
       "    <tr>\n",
       "      <th>17</th>\n",
       "      <td>Cannabis</td>\n",
       "      <td>7</td>\n",
       "      <td>[nan, Used in last month, Used in last year, Used in last decade, Never Used, Used over a decade ago, Used in last day, Used in last week]</td>\n",
       "    </tr>\n",
       "    <tr>\n",
       "      <th>18</th>\n",
       "      <td>Choc</td>\n",
       "      <td>7</td>\n",
       "      <td>[nan, Used in last day, Used in last month, Used in last week, Never Used, Used in last year, Used in last decade, Used over a decade ago]</td>\n",
       "    </tr>\n",
       "    <tr>\n",
       "      <th>19</th>\n",
       "      <td>Coke</td>\n",
       "      <td>7</td>\n",
       "      <td>[nan, Used in last year, Never Used, Used in last decade, Used over a decade ago, Used in last day, Used in last week, Used in last month]</td>\n",
       "    </tr>\n",
       "    <tr>\n",
       "      <th>20</th>\n",
       "      <td>Crack</td>\n",
       "      <td>7</td>\n",
       "      <td>[nan, Never Used, Used over a decade ago, Used in last decade, Used in last year, Used in last week, Used in last month, Used in last day]</td>\n",
       "    </tr>\n",
       "    <tr>\n",
       "      <th>21</th>\n",
       "      <td>Ecstasy</td>\n",
       "      <td>7</td>\n",
       "      <td>[nan, Used in last month, Never Used, Used over a decade ago, Used in last year, Used in last decade, Used in last day, Used in last week]</td>\n",
       "    </tr>\n",
       "    <tr>\n",
       "      <th>22</th>\n",
       "      <td>Heroin</td>\n",
       "      <td>7</td>\n",
       "      <td>[nan, Never Used, Used over a decade ago, Used in last decade, Used in last year, Used in last week, Used in last day, Used in last month]</td>\n",
       "    </tr>\n",
       "    <tr>\n",
       "      <th>23</th>\n",
       "      <td>Ketamine</td>\n",
       "      <td>7</td>\n",
       "      <td>[nan, Used in last decade, Never Used, Used in last year, Used over a decade ago, Used in last week, Used in last month, Used in last day]</td>\n",
       "    </tr>\n",
       "    <tr>\n",
       "      <th>24</th>\n",
       "      <td>Legalh</td>\n",
       "      <td>7</td>\n",
       "      <td>[nan, Never Used, Used over a decade ago, Used in last decade, Used in last year, Used in last week, Used in last month, Used in last day]</td>\n",
       "    </tr>\n",
       "    <tr>\n",
       "      <th>25</th>\n",
       "      <td>LSD</td>\n",
       "      <td>7</td>\n",
       "      <td>[nan, Used in last decade, Never Used, Used over a decade ago, Used in last year, Used in last month, Used in last week, Used in last day]</td>\n",
       "    </tr>\n",
       "    <tr>\n",
       "      <th>26</th>\n",
       "      <td>Meth</td>\n",
       "      <td>7</td>\n",
       "      <td>[nan, Used in last year, Never Used, Used over a decade ago, Used in last day, Used in last month, Used in last decade, Used in last week]</td>\n",
       "    </tr>\n",
       "    <tr>\n",
       "      <th>27</th>\n",
       "      <td>Mushroom</td>\n",
       "      <td>7</td>\n",
       "      <td>[nan, Never Used, Used over a decade ago, Used in last decade, Used in last year, Used in last month, Used in last week, Used in last day]</td>\n",
       "    </tr>\n",
       "    <tr>\n",
       "      <th>28</th>\n",
       "      <td>Nicotine</td>\n",
       "      <td>7</td>\n",
       "      <td>[nan, Used in last month, Never Used, Used in last decade, Used in last day, Used over a decade ago, Used in last year, Used in last week]</td>\n",
       "    </tr>\n",
       "    <tr>\n",
       "      <th>29</th>\n",
       "      <td>Semer</td>\n",
       "      <td>5</td>\n",
       "      <td>[nan, Never Used, Used in last decade, Used in last year, Used in last month, Used over a decade ago]</td>\n",
       "    </tr>\n",
       "    <tr>\n",
       "      <th>30</th>\n",
       "      <td>VSA</td>\n",
       "      <td>7</td>\n",
       "      <td>[nan, Never Used, Used over a decade ago, Used in last year, Used in last day, Used in last decade, Used in last week, Used in last month]</td>\n",
       "    </tr>\n",
       "  </tbody>\n",
       "</table>\n",
       "</div>"
      ],
      "text/plain": [
       "   Column Name  Number of Unique  \\\n",
       "0   Age         6                  \n",
       "1   Gender      2                  \n",
       "2   Education   9                  \n",
       "3   Country     7                  \n",
       "4   Ethnicity   7                  \n",
       "5   NScore      49                 \n",
       "6   EScore      42                 \n",
       "7   OScore      35                 \n",
       "8   AScore      41                 \n",
       "9   CScore      41                 \n",
       "10  Impulsive   11                 \n",
       "11  SS          12                 \n",
       "12  Alcohol     7                  \n",
       "13  Amphet      7                  \n",
       "14  Amyl        7                  \n",
       "15  Benzos      7                  \n",
       "16  Caff        7                  \n",
       "17  Cannabis    7                  \n",
       "18  Choc        7                  \n",
       "19  Coke        7                  \n",
       "20  Crack       7                  \n",
       "21  Ecstasy     7                  \n",
       "22  Heroin      7                  \n",
       "23  Ketamine    7                  \n",
       "24  Legalh      7                  \n",
       "25  LSD         7                  \n",
       "26  Meth        7                  \n",
       "27  Mushroom    7                  \n",
       "28  Nicotine    7                  \n",
       "29  Semer       5                  \n",
       "30  VSA         7                  \n",
       "\n",
       "                                                                                                                                                                                                                                                 Unique Sample  \n",
       "0   [nan, 25-34, 35-44, 18-24, 65+, 45-54, 55-64]                                                                                                                                                                                                               \n",
       "1   [nan, Male, Female]                                                                                                                                                                                                                                         \n",
       "2   [nan, Doctorate Degree, Professional certificate/diploma, Masters Degree, Left school at 18 years, Left school at 16 years, University Degree, Some college or university, no certificate or degree, Left school before 16 years, Left school at 17 years]  \n",
       "3   [nan, UK, Canada, USA, Others, Australia, Republic of Ireland, New Zealand]                                                                                                                                                                                 \n",
       "4   [nan, White, Others, Mixed-White/Black, Asian, Mixed-White/Asian, Black, Mixed-Black/Asian]                                                                                                                                                                 \n",
       "5   [nan, 29, 31, 34, 43, 24, 42, 33, 26, 56, 28, 27, 19, 22, 41, 49, 32, 25, 40, 51, 35, 36, 39, 46, 44, 37, 47, 23, 30, 38, 18, 45, 17, 53, 50, 60, 21, 54, 59, 48, 20, 55, 16, 57, 52, 58, 14, 15, 13, 12]                                                   \n",
       "6   [nan, 52, 45, 34, 28, 38, 32, 55, 40, 41, 49, 29, 31, 39, 27, 43, 33, 16, 44, 37, 51, 36, 42, 48, 46, 47, 35, 50, 30, 26, 58, 53, 54, 23, 22, 24, 19, 20, 21, 25, 56, 59, 18]                                                                               \n",
       "7   [nan, 55, 40, 46, 43, 35, 39, 36, 38, 47, 49, 34, 44, 45, 29, 51, 37, 54, 24, 41, 52, 48, 28, 53, 32, 42, 33, 26, 31, 50, 58, 30, 56, 57, 60, 59]                                                                                                           \n",
       "8   [nan, 48, 32, 47, 41, 55, 38, 30, 49, 39, 36, 45, 40, 53, 50, 43, 33, 46, 51, 23, 44, 29, 54, 42, 37, 35, 34, 52, 31, 57, 56, 27, 25, 28, 58, 26, 59, 24, 18, 12, 16, 60]                                                                                   \n",
       "9   [nan, 41, 34, 46, 50, 52, 48, 49, 43, 53, 38, 36, 59, 47, 31, 30, 33, 35, 51, 42, 25, 37, 45, 39, 44, 27, 40, 29, 54, 55, 32, 56, 20, 28, 26, 22, 24, 23, 19, 17, 21, 57]                                                                                   \n",
       "10  [-0.21712, -0.71126, -1.37983, -0.21712, 0.19268, 0.52975, 1.29221, 1.86203, -2.55524, 0.88113, 2.90161]                                                                                                                                                    \n",
       "11  [-1.18084, -0.21575, 0.40148, -1.18084, -1.54858, 0.07987, -0.52593, -0.84637, 1.2247, 0.7654, -2.07848, 1.92173]                                                                                                                                           \n",
       "12  [Used in last week, Used in last day, Used in last month, Used in last decade, Used over a decade ago, Never Used, Used in last year]                                                                                                                       \n",
       "13  [Used in last decade, Never Used, Used over a decade ago, Used in last year, Used in last week, Used in last month, Used in last day]                                                                                                                       \n",
       "14  [Never Used, Used in last decade, Used over a decade ago, Used in last year, Used in last week, Used in last month, Used in last day]                                                                                                                       \n",
       "15  [nan, Never Used, Used in last year, Used over a decade ago, Used in last month, Used in last decade, Used in last week, Used in last day]                                                                                                                  \n",
       "16  [Used in last day, Used in last week, Used in last month, Used in last year, Never Used, Used over a decade ago, Used in last decade]                                                                                                                       \n",
       "17  [nan, Used in last month, Used in last year, Used in last decade, Never Used, Used over a decade ago, Used in last day, Used in last week]                                                                                                                  \n",
       "18  [nan, Used in last day, Used in last month, Used in last week, Never Used, Used in last year, Used in last decade, Used over a decade ago]                                                                                                                  \n",
       "19  [nan, Used in last year, Never Used, Used in last decade, Used over a decade ago, Used in last day, Used in last week, Used in last month]                                                                                                                  \n",
       "20  [nan, Never Used, Used over a decade ago, Used in last decade, Used in last year, Used in last week, Used in last month, Used in last day]                                                                                                                  \n",
       "21  [nan, Used in last month, Never Used, Used over a decade ago, Used in last year, Used in last decade, Used in last day, Used in last week]                                                                                                                  \n",
       "22  [nan, Never Used, Used over a decade ago, Used in last decade, Used in last year, Used in last week, Used in last day, Used in last month]                                                                                                                  \n",
       "23  [nan, Used in last decade, Never Used, Used in last year, Used over a decade ago, Used in last week, Used in last month, Used in last day]                                                                                                                  \n",
       "24  [nan, Never Used, Used over a decade ago, Used in last decade, Used in last year, Used in last week, Used in last month, Used in last day]                                                                                                                  \n",
       "25  [nan, Used in last decade, Never Used, Used over a decade ago, Used in last year, Used in last month, Used in last week, Used in last day]                                                                                                                  \n",
       "26  [nan, Used in last year, Never Used, Used over a decade ago, Used in last day, Used in last month, Used in last decade, Used in last week]                                                                                                                  \n",
       "27  [nan, Never Used, Used over a decade ago, Used in last decade, Used in last year, Used in last month, Used in last week, Used in last day]                                                                                                                  \n",
       "28  [nan, Used in last month, Never Used, Used in last decade, Used in last day, Used over a decade ago, Used in last year, Used in last week]                                                                                                                  \n",
       "29  [nan, Never Used, Used in last decade, Used in last year, Used in last month, Used over a decade ago]                                                                                                                                                       \n",
       "30  [nan, Never Used, Used over a decade ago, Used in last year, Used in last day, Used in last decade, Used in last week, Used in last month]                                                                                                                  "
      ]
     },
     "execution_count": 314,
     "metadata": {},
     "output_type": "execute_result"
    }
   ],
   "source": [
    "# Unique data in each columns\n",
    "\n",
    "pd.set_option('display.max_colwidth', -1)\n",
    "\n",
    "listItem = []\n",
    "for col in df.columns :\n",
    "    listItem.append( [col, df[col].nunique(), df[col].unique()])\n",
    "\n",
    "tabel1Desc = pd.DataFrame(columns=['Column Name', 'Number of Unique', 'Unique Sample'],\n",
    "                     data=listItem)\n",
    "tabel1Desc"
   ]
  },
  {
   "cell_type": "code",
   "execution_count": 315,
   "metadata": {},
   "outputs": [
    {
     "data": {
      "text/plain": [
       "Some college or university, no certificate or degree    506\n",
       "University Degree                                       480\n",
       "Masters Degree                                          283\n",
       "Professional certificate/diploma                        269\n",
       "Left school at 18 years                                 100\n",
       "Left school at 16 years                                 99 \n",
       "Doctorate Degree                                        89 \n",
       "Left school at 17 years                                 30 \n",
       "Left school before 16 years                             28 \n",
       "Name: Education, dtype: int64"
      ]
     },
     "execution_count": 315,
     "metadata": {},
     "output_type": "execute_result"
    }
   ],
   "source": [
    "df['Education'].value_counts()\n"
   ]
  },
  {
   "cell_type": "code",
   "execution_count": 316,
   "metadata": {},
   "outputs": [
    {
     "data": {
      "text/plain": [
       "UK                     1043\n",
       "USA                    557 \n",
       "Others                 118 \n",
       "Canada                 87  \n",
       "Australia              54  \n",
       "Republic of Ireland    20  \n",
       "New Zealand            5   \n",
       "Name: Country, dtype: int64"
      ]
     },
     "execution_count": 316,
     "metadata": {},
     "output_type": "execute_result"
    }
   ],
   "source": [
    "df['Country'].value_counts()\n"
   ]
  },
  {
   "cell_type": "code",
   "execution_count": 317,
   "metadata": {},
   "outputs": [
    {
     "data": {
      "text/plain": [
       "White                1720\n",
       "Others               63  \n",
       "Black                33  \n",
       "Asian                26  \n",
       "Mixed-White/Black    20  \n",
       "Mixed-White/Asian    19  \n",
       "Mixed-Black/Asian    3   \n",
       "Name: Ethnicity, dtype: int64"
      ]
     },
     "execution_count": 317,
     "metadata": {},
     "output_type": "execute_result"
    }
   ],
   "source": [
    "df['Ethnicity'].value_counts()"
   ]
  },
  {
   "attachments": {},
   "cell_type": "markdown",
   "metadata": {},
   "source": [
    "Overall, we know that:\n",
    "- This dataset contains 32 columns and 1885 rows.\n",
    "- There is one missing value in our data. \n",
    "- 'Chocolate' is not consider as a drug, so we can delete this column. (Soruce = [link](https://gardenstatetreatmentcenter.com/chocolate-drug/#:~:text=Chocolate%20is%20not%20a%20controlled,can%20act%20like%20a%20drug.))\n",
    "\n",
    "- As mentioned before, 'Semer' is a fictitious drug. To prevent confusion, we will remove this column.\n",
    "- 'Caffeine' is considered a widely consumed substance that can be found in various products, including coffee, tea, and energy drinks. Children under 16 years old may also consume caffeine, up until elderly. I personally think the consumption of caffeine will significantly differ from the other drugs and would make a potential bias and challenges during our analysis. It would be best for us to drop 'Caffeine' to create more balanced and comparable groups.\n",
    "- All drugs columns are categorical. It would be easier for us to change the data into ordinal data for analytical purposes.\n",
    "- Since there are no enough information for 'Impulsive' and 'SS' for us to translate, it would be easier for us to delete these columns.\n",
    "- There is a significant difference in the representations of Education and Ethnicity. It would be better if we merge some categories into one (if it is not too important)\n",
    "- There is a disparity in the participants' Country. It would be better if we merge each country into Continents.\n"
   ]
  },
  {
   "attachments": {},
   "cell_type": "markdown",
   "metadata": {},
   "source": [
    "# Missing Values"
   ]
  },
  {
   "cell_type": "code",
   "execution_count": 318,
   "metadata": {},
   "outputs": [
    {
     "data": {
      "text/plain": [
       "Index(['1'], dtype='object', name='ID')"
      ]
     },
     "execution_count": 318,
     "metadata": {},
     "output_type": "execute_result"
    }
   ],
   "source": [
    "missing_index = df.index[df.isnull().any(axis=1)]\n",
    "missing_index\n",
    "\n",
    "# Missing value is located in index number 0"
   ]
  },
  {
   "cell_type": "code",
   "execution_count": 319,
   "metadata": {},
   "outputs": [
    {
     "data": {
      "text/html": [
       "<div>\n",
       "<style scoped>\n",
       "    .dataframe tbody tr th:only-of-type {\n",
       "        vertical-align: middle;\n",
       "    }\n",
       "\n",
       "    .dataframe tbody tr th {\n",
       "        vertical-align: top;\n",
       "    }\n",
       "\n",
       "    .dataframe thead th {\n",
       "        text-align: right;\n",
       "    }\n",
       "</style>\n",
       "<table border=\"1\" class=\"dataframe\">\n",
       "  <thead>\n",
       "    <tr style=\"text-align: right;\">\n",
       "      <th></th>\n",
       "      <th>Age</th>\n",
       "      <th>Gender</th>\n",
       "      <th>Education</th>\n",
       "      <th>Country</th>\n",
       "      <th>Ethnicity</th>\n",
       "      <th>NScore</th>\n",
       "      <th>EScore</th>\n",
       "      <th>OScore</th>\n",
       "      <th>AScore</th>\n",
       "      <th>CScore</th>\n",
       "      <th>...</th>\n",
       "      <th>Ecstasy</th>\n",
       "      <th>Heroin</th>\n",
       "      <th>Ketamine</th>\n",
       "      <th>Legalh</th>\n",
       "      <th>LSD</th>\n",
       "      <th>Meth</th>\n",
       "      <th>Mushroom</th>\n",
       "      <th>Nicotine</th>\n",
       "      <th>Semer</th>\n",
       "      <th>VSA</th>\n",
       "    </tr>\n",
       "    <tr>\n",
       "      <th>ID</th>\n",
       "      <th></th>\n",
       "      <th></th>\n",
       "      <th></th>\n",
       "      <th></th>\n",
       "      <th></th>\n",
       "      <th></th>\n",
       "      <th></th>\n",
       "      <th></th>\n",
       "      <th></th>\n",
       "      <th></th>\n",
       "      <th></th>\n",
       "      <th></th>\n",
       "      <th></th>\n",
       "      <th></th>\n",
       "      <th></th>\n",
       "      <th></th>\n",
       "      <th></th>\n",
       "      <th></th>\n",
       "      <th></th>\n",
       "      <th></th>\n",
       "      <th></th>\n",
       "    </tr>\n",
       "  </thead>\n",
       "  <tbody>\n",
       "    <tr>\n",
       "      <th>1</th>\n",
       "      <td>NaN</td>\n",
       "      <td>NaN</td>\n",
       "      <td>NaN</td>\n",
       "      <td>NaN</td>\n",
       "      <td>NaN</td>\n",
       "      <td>NaN</td>\n",
       "      <td>NaN</td>\n",
       "      <td>NaN</td>\n",
       "      <td>NaN</td>\n",
       "      <td>NaN</td>\n",
       "      <td>...</td>\n",
       "      <td>NaN</td>\n",
       "      <td>NaN</td>\n",
       "      <td>NaN</td>\n",
       "      <td>NaN</td>\n",
       "      <td>NaN</td>\n",
       "      <td>NaN</td>\n",
       "      <td>NaN</td>\n",
       "      <td>NaN</td>\n",
       "      <td>NaN</td>\n",
       "      <td>NaN</td>\n",
       "    </tr>\n",
       "    <tr>\n",
       "      <th>2</th>\n",
       "      <td>25-34</td>\n",
       "      <td>Male</td>\n",
       "      <td>Doctorate Degree</td>\n",
       "      <td>UK</td>\n",
       "      <td>White</td>\n",
       "      <td>29</td>\n",
       "      <td>52</td>\n",
       "      <td>55</td>\n",
       "      <td>48</td>\n",
       "      <td>41</td>\n",
       "      <td>...</td>\n",
       "      <td>Used in last month</td>\n",
       "      <td>Never Used</td>\n",
       "      <td>Used in last decade</td>\n",
       "      <td>Never Used</td>\n",
       "      <td>Used in last decade</td>\n",
       "      <td>Used in last year</td>\n",
       "      <td>Never Used</td>\n",
       "      <td>Used in last month</td>\n",
       "      <td>Never Used</td>\n",
       "      <td>Never Used</td>\n",
       "    </tr>\n",
       "    <tr>\n",
       "      <th>3</th>\n",
       "      <td>35-44</td>\n",
       "      <td>Male</td>\n",
       "      <td>Professional certificate/diploma</td>\n",
       "      <td>UK</td>\n",
       "      <td>White</td>\n",
       "      <td>31</td>\n",
       "      <td>45</td>\n",
       "      <td>40</td>\n",
       "      <td>32</td>\n",
       "      <td>34</td>\n",
       "      <td>...</td>\n",
       "      <td>Never Used</td>\n",
       "      <td>Never Used</td>\n",
       "      <td>Never Used</td>\n",
       "      <td>Never Used</td>\n",
       "      <td>Never Used</td>\n",
       "      <td>Never Used</td>\n",
       "      <td>Used over a decade ago</td>\n",
       "      <td>Never Used</td>\n",
       "      <td>Never Used</td>\n",
       "      <td>Never Used</td>\n",
       "    </tr>\n",
       "    <tr>\n",
       "      <th>4</th>\n",
       "      <td>18-24</td>\n",
       "      <td>Female</td>\n",
       "      <td>Masters Degree</td>\n",
       "      <td>UK</td>\n",
       "      <td>White</td>\n",
       "      <td>34</td>\n",
       "      <td>34</td>\n",
       "      <td>46</td>\n",
       "      <td>47</td>\n",
       "      <td>46</td>\n",
       "      <td>...</td>\n",
       "      <td>Never Used</td>\n",
       "      <td>Never Used</td>\n",
       "      <td>Used in last decade</td>\n",
       "      <td>Never Used</td>\n",
       "      <td>Never Used</td>\n",
       "      <td>Never Used</td>\n",
       "      <td>Never Used</td>\n",
       "      <td>Used in last decade</td>\n",
       "      <td>Never Used</td>\n",
       "      <td>Never Used</td>\n",
       "    </tr>\n",
       "    <tr>\n",
       "      <th>5</th>\n",
       "      <td>35-44</td>\n",
       "      <td>Female</td>\n",
       "      <td>Doctorate Degree</td>\n",
       "      <td>UK</td>\n",
       "      <td>White</td>\n",
       "      <td>43</td>\n",
       "      <td>28</td>\n",
       "      <td>43</td>\n",
       "      <td>41</td>\n",
       "      <td>50</td>\n",
       "      <td>...</td>\n",
       "      <td>Used over a decade ago</td>\n",
       "      <td>Never Used</td>\n",
       "      <td>Never Used</td>\n",
       "      <td>Used over a decade ago</td>\n",
       "      <td>Never Used</td>\n",
       "      <td>Never Used</td>\n",
       "      <td>Used in last decade</td>\n",
       "      <td>Used in last decade</td>\n",
       "      <td>Never Used</td>\n",
       "      <td>Never Used</td>\n",
       "    </tr>\n",
       "  </tbody>\n",
       "</table>\n",
       "<p>5 rows × 31 columns</p>\n",
       "</div>"
      ],
      "text/plain": [
       "      Age  Gender                         Education Country Ethnicity NScore  \\\n",
       "ID                                                                             \n",
       "1   NaN    NaN     NaN                               NaN     NaN       NaN     \n",
       "2   25-34  Male    Doctorate Degree                  UK      White     29      \n",
       "3   35-44  Male    Professional certificate/diploma  UK      White     31      \n",
       "4   18-24  Female  Masters Degree                    UK      White     34      \n",
       "5   35-44  Female  Doctorate Degree                  UK      White     43      \n",
       "\n",
       "   EScore OScore AScore CScore  ...                 Ecstasy      Heroin  \\\n",
       "ID                              ...                                       \n",
       "1   NaN    NaN    NaN    NaN    ...  NaN                     NaN          \n",
       "2   52     55     48     41     ...  Used in last month      Never Used   \n",
       "3   45     40     32     34     ...  Never Used              Never Used   \n",
       "4   34     46     47     46     ...  Never Used              Never Used   \n",
       "5   28     43     41     50     ...  Used over a decade ago  Never Used   \n",
       "\n",
       "               Ketamine                  Legalh                  LSD  \\\n",
       "ID                                                                     \n",
       "1   NaN                  NaN                     NaN                   \n",
       "2   Used in last decade  Never Used              Used in last decade   \n",
       "3   Never Used           Never Used              Never Used            \n",
       "4   Used in last decade  Never Used              Never Used            \n",
       "5   Never Used           Used over a decade ago  Never Used            \n",
       "\n",
       "                 Meth                Mushroom             Nicotine  \\\n",
       "ID                                                                   \n",
       "1   NaN                NaN                     NaN                   \n",
       "2   Used in last year  Never Used              Used in last month    \n",
       "3   Never Used         Used over a decade ago  Never Used            \n",
       "4   Never Used         Never Used              Used in last decade   \n",
       "5   Never Used         Used in last decade     Used in last decade   \n",
       "\n",
       "         Semer         VSA  \n",
       "ID                          \n",
       "1   NaN         NaN         \n",
       "2   Never Used  Never Used  \n",
       "3   Never Used  Never Used  \n",
       "4   Never Used  Never Used  \n",
       "5   Never Used  Never Used  \n",
       "\n",
       "[5 rows x 31 columns]"
      ]
     },
     "execution_count": 319,
     "metadata": {},
     "output_type": "execute_result"
    }
   ],
   "source": [
    "df.head()"
   ]
  },
  {
   "cell_type": "code",
   "execution_count": 320,
   "metadata": {},
   "outputs": [
    {
     "data": {
      "text/html": [
       "<div>\n",
       "<style scoped>\n",
       "    .dataframe tbody tr th:only-of-type {\n",
       "        vertical-align: middle;\n",
       "    }\n",
       "\n",
       "    .dataframe tbody tr th {\n",
       "        vertical-align: top;\n",
       "    }\n",
       "\n",
       "    .dataframe thead th {\n",
       "        text-align: right;\n",
       "    }\n",
       "</style>\n",
       "<table border=\"1\" class=\"dataframe\">\n",
       "  <thead>\n",
       "    <tr style=\"text-align: right;\">\n",
       "      <th></th>\n",
       "      <th>Age</th>\n",
       "      <th>Gender</th>\n",
       "      <th>Education</th>\n",
       "      <th>Country</th>\n",
       "      <th>Ethnicity</th>\n",
       "      <th>NScore</th>\n",
       "      <th>EScore</th>\n",
       "      <th>OScore</th>\n",
       "      <th>AScore</th>\n",
       "      <th>CScore</th>\n",
       "      <th>...</th>\n",
       "      <th>Ecstasy</th>\n",
       "      <th>Heroin</th>\n",
       "      <th>Ketamine</th>\n",
       "      <th>Legalh</th>\n",
       "      <th>LSD</th>\n",
       "      <th>Meth</th>\n",
       "      <th>Mushroom</th>\n",
       "      <th>Nicotine</th>\n",
       "      <th>Semer</th>\n",
       "      <th>VSA</th>\n",
       "    </tr>\n",
       "    <tr>\n",
       "      <th>ID</th>\n",
       "      <th></th>\n",
       "      <th></th>\n",
       "      <th></th>\n",
       "      <th></th>\n",
       "      <th></th>\n",
       "      <th></th>\n",
       "      <th></th>\n",
       "      <th></th>\n",
       "      <th></th>\n",
       "      <th></th>\n",
       "      <th></th>\n",
       "      <th></th>\n",
       "      <th></th>\n",
       "      <th></th>\n",
       "      <th></th>\n",
       "      <th></th>\n",
       "      <th></th>\n",
       "      <th></th>\n",
       "      <th></th>\n",
       "      <th></th>\n",
       "      <th></th>\n",
       "    </tr>\n",
       "  </thead>\n",
       "  <tbody>\n",
       "    <tr>\n",
       "      <th>1</th>\n",
       "      <td>35-44</td>\n",
       "      <td>Female</td>\n",
       "      <td>Professional certificate/diploma</td>\n",
       "      <td>UK</td>\n",
       "      <td>Mixed-White/Asian</td>\n",
       "      <td>39</td>\n",
       "      <td>36</td>\n",
       "      <td>42</td>\n",
       "      <td>37</td>\n",
       "      <td>42</td>\n",
       "      <td>...</td>\n",
       "      <td>Never Used</td>\n",
       "      <td>Never Used</td>\n",
       "      <td>Never Used</td>\n",
       "      <td>Never Used</td>\n",
       "      <td>Never Used</td>\n",
       "      <td>Never Used</td>\n",
       "      <td>Never Used</td>\n",
       "      <td>Used in last decade</td>\n",
       "      <td>Never Used</td>\n",
       "      <td>Never Used</td>\n",
       "    </tr>\n",
       "    <tr>\n",
       "      <th>2</th>\n",
       "      <td>25-34</td>\n",
       "      <td>Male</td>\n",
       "      <td>Doctorate Degree</td>\n",
       "      <td>UK</td>\n",
       "      <td>White</td>\n",
       "      <td>29</td>\n",
       "      <td>52</td>\n",
       "      <td>55</td>\n",
       "      <td>48</td>\n",
       "      <td>41</td>\n",
       "      <td>...</td>\n",
       "      <td>Used in last month</td>\n",
       "      <td>Never Used</td>\n",
       "      <td>Used in last decade</td>\n",
       "      <td>Never Used</td>\n",
       "      <td>Used in last decade</td>\n",
       "      <td>Used in last year</td>\n",
       "      <td>Never Used</td>\n",
       "      <td>Used in last month</td>\n",
       "      <td>Never Used</td>\n",
       "      <td>Never Used</td>\n",
       "    </tr>\n",
       "    <tr>\n",
       "      <th>3</th>\n",
       "      <td>35-44</td>\n",
       "      <td>Male</td>\n",
       "      <td>Professional certificate/diploma</td>\n",
       "      <td>UK</td>\n",
       "      <td>White</td>\n",
       "      <td>31</td>\n",
       "      <td>45</td>\n",
       "      <td>40</td>\n",
       "      <td>32</td>\n",
       "      <td>34</td>\n",
       "      <td>...</td>\n",
       "      <td>Never Used</td>\n",
       "      <td>Never Used</td>\n",
       "      <td>Never Used</td>\n",
       "      <td>Never Used</td>\n",
       "      <td>Never Used</td>\n",
       "      <td>Never Used</td>\n",
       "      <td>Used over a decade ago</td>\n",
       "      <td>Never Used</td>\n",
       "      <td>Never Used</td>\n",
       "      <td>Never Used</td>\n",
       "    </tr>\n",
       "    <tr>\n",
       "      <th>4</th>\n",
       "      <td>18-24</td>\n",
       "      <td>Female</td>\n",
       "      <td>Masters Degree</td>\n",
       "      <td>UK</td>\n",
       "      <td>White</td>\n",
       "      <td>34</td>\n",
       "      <td>34</td>\n",
       "      <td>46</td>\n",
       "      <td>47</td>\n",
       "      <td>46</td>\n",
       "      <td>...</td>\n",
       "      <td>Never Used</td>\n",
       "      <td>Never Used</td>\n",
       "      <td>Used in last decade</td>\n",
       "      <td>Never Used</td>\n",
       "      <td>Never Used</td>\n",
       "      <td>Never Used</td>\n",
       "      <td>Never Used</td>\n",
       "      <td>Used in last decade</td>\n",
       "      <td>Never Used</td>\n",
       "      <td>Never Used</td>\n",
       "    </tr>\n",
       "    <tr>\n",
       "      <th>5</th>\n",
       "      <td>35-44</td>\n",
       "      <td>Female</td>\n",
       "      <td>Doctorate Degree</td>\n",
       "      <td>UK</td>\n",
       "      <td>White</td>\n",
       "      <td>43</td>\n",
       "      <td>28</td>\n",
       "      <td>43</td>\n",
       "      <td>41</td>\n",
       "      <td>50</td>\n",
       "      <td>...</td>\n",
       "      <td>Used over a decade ago</td>\n",
       "      <td>Never Used</td>\n",
       "      <td>Never Used</td>\n",
       "      <td>Used over a decade ago</td>\n",
       "      <td>Never Used</td>\n",
       "      <td>Never Used</td>\n",
       "      <td>Used in last decade</td>\n",
       "      <td>Used in last decade</td>\n",
       "      <td>Never Used</td>\n",
       "      <td>Never Used</td>\n",
       "    </tr>\n",
       "  </tbody>\n",
       "</table>\n",
       "<p>5 rows × 31 columns</p>\n",
       "</div>"
      ],
      "text/plain": [
       "      Age  Gender                         Education Country  \\\n",
       "ID                                                            \n",
       "1   35-44  Female  Professional certificate/diploma  UK       \n",
       "2   25-34  Male    Doctorate Degree                  UK       \n",
       "3   35-44  Male    Professional certificate/diploma  UK       \n",
       "4   18-24  Female  Masters Degree                    UK       \n",
       "5   35-44  Female  Doctorate Degree                  UK       \n",
       "\n",
       "            Ethnicity NScore EScore OScore AScore CScore  ...  \\\n",
       "ID                                                        ...   \n",
       "1   Mixed-White/Asian  39     36     42     37     42     ...   \n",
       "2   White              29     52     55     48     41     ...   \n",
       "3   White              31     45     40     32     34     ...   \n",
       "4   White              34     34     46     47     46     ...   \n",
       "5   White              43     28     43     41     50     ...   \n",
       "\n",
       "                   Ecstasy      Heroin             Ketamine  \\\n",
       "ID                                                            \n",
       "1   Never Used              Never Used  Never Used            \n",
       "2   Used in last month      Never Used  Used in last decade   \n",
       "3   Never Used              Never Used  Never Used            \n",
       "4   Never Used              Never Used  Used in last decade   \n",
       "5   Used over a decade ago  Never Used  Never Used            \n",
       "\n",
       "                    Legalh                  LSD               Meth  \\\n",
       "ID                                                                   \n",
       "1   Never Used              Never Used           Never Used          \n",
       "2   Never Used              Used in last decade  Used in last year   \n",
       "3   Never Used              Never Used           Never Used          \n",
       "4   Never Used              Never Used           Never Used          \n",
       "5   Used over a decade ago  Never Used           Never Used          \n",
       "\n",
       "                  Mushroom             Nicotine       Semer         VSA  \n",
       "ID                                                                       \n",
       "1   Never Used              Used in last decade  Never Used  Never Used  \n",
       "2   Never Used              Used in last month   Never Used  Never Used  \n",
       "3   Used over a decade ago  Never Used           Never Used  Never Used  \n",
       "4   Never Used              Used in last decade  Never Used  Never Used  \n",
       "5   Used in last decade     Used in last decade  Never Used  Never Used  \n",
       "\n",
       "[5 rows x 31 columns]"
      ]
     },
     "execution_count": 320,
     "metadata": {},
     "output_type": "execute_result"
    }
   ],
   "source": [
    "# from the information, we know that the only missing values are all located in the first data. \n",
    "# Since we know the value from the raw data, we can change it manually\n",
    "\n",
    "df['Age'][0] = '35-44'\n",
    "df['Gender'][0] = 'Female'\n",
    "df['Education'][0] = 'Professional certificate/diploma'\n",
    "df['Country'][0] = 'UK'\n",
    "df['Ethnicity'][0] = 'Mixed-White/Asian'\n",
    "df['NScore'][0] = '39'\n",
    "df['EScore'][0] = '36'\n",
    "df['OScore'][0] = '42'\n",
    "df['AScore'][0] = '37'\n",
    "df['CScore'][0] = '42'\n",
    "df['Benzos'][0] = 'Used in last decade'\n",
    "df['Cannabis'][0] = 'Never Used'\n",
    "df['Choc'][0] = 'Used in last week'\n",
    "df['Coke'][0] = 'Never Used'\n",
    "df['Crack'][0] = 'Never Used'\n",
    "df['Ecstasy'][0] = 'Never Used'\n",
    "df['Heroin'][0] = 'Never Used'\n",
    "df['Ketamine'][0] = 'Never Used'\n",
    "df['Legalh'][0] = 'Never Used'\n",
    "df['LSD'][0] = 'Never Used'\n",
    "df['Meth'][0] = 'Never Used'\n",
    "df['Mushroom'][0] = 'Never Used'\n",
    "df['Nicotine'][0] = 'Used in last decade'\n",
    "df['Semer'][0] = 'Never Used'\n",
    "df['VSA'][0] = 'Never Used'\n",
    "\n",
    "df.head()"
   ]
  },
  {
   "cell_type": "code",
   "execution_count": 321,
   "metadata": {},
   "outputs": [],
   "source": [
    "# We can drop all the unnecessary columns which we mentioned before\n",
    "\n",
    "df_clean = df.drop(columns =['Choc', 'Semer', 'Caff','Impulsive','SS']).copy()"
   ]
  },
  {
   "cell_type": "code",
   "execution_count": 322,
   "metadata": {},
   "outputs": [
    {
     "data": {
      "text/html": [
       "<div>\n",
       "<style scoped>\n",
       "    .dataframe tbody tr th:only-of-type {\n",
       "        vertical-align: middle;\n",
       "    }\n",
       "\n",
       "    .dataframe tbody tr th {\n",
       "        vertical-align: top;\n",
       "    }\n",
       "\n",
       "    .dataframe thead th {\n",
       "        text-align: right;\n",
       "    }\n",
       "</style>\n",
       "<table border=\"1\" class=\"dataframe\">\n",
       "  <thead>\n",
       "    <tr style=\"text-align: right;\">\n",
       "      <th></th>\n",
       "      <th>Age</th>\n",
       "      <th>Gender</th>\n",
       "      <th>Education</th>\n",
       "      <th>Country</th>\n",
       "      <th>Ethnicity</th>\n",
       "      <th>NScore</th>\n",
       "      <th>EScore</th>\n",
       "      <th>OScore</th>\n",
       "      <th>AScore</th>\n",
       "      <th>CScore</th>\n",
       "      <th>...</th>\n",
       "      <th>Crack</th>\n",
       "      <th>Ecstasy</th>\n",
       "      <th>Heroin</th>\n",
       "      <th>Ketamine</th>\n",
       "      <th>Legalh</th>\n",
       "      <th>LSD</th>\n",
       "      <th>Meth</th>\n",
       "      <th>Mushroom</th>\n",
       "      <th>Nicotine</th>\n",
       "      <th>VSA</th>\n",
       "    </tr>\n",
       "    <tr>\n",
       "      <th>ID</th>\n",
       "      <th></th>\n",
       "      <th></th>\n",
       "      <th></th>\n",
       "      <th></th>\n",
       "      <th></th>\n",
       "      <th></th>\n",
       "      <th></th>\n",
       "      <th></th>\n",
       "      <th></th>\n",
       "      <th></th>\n",
       "      <th></th>\n",
       "      <th></th>\n",
       "      <th></th>\n",
       "      <th></th>\n",
       "      <th></th>\n",
       "      <th></th>\n",
       "      <th></th>\n",
       "      <th></th>\n",
       "      <th></th>\n",
       "      <th></th>\n",
       "      <th></th>\n",
       "    </tr>\n",
       "  </thead>\n",
       "  <tbody>\n",
       "    <tr>\n",
       "      <th>1</th>\n",
       "      <td>35-44</td>\n",
       "      <td>Female</td>\n",
       "      <td>Professional certificate/diploma</td>\n",
       "      <td>UK</td>\n",
       "      <td>Mixed-White/Asian</td>\n",
       "      <td>39</td>\n",
       "      <td>36</td>\n",
       "      <td>42</td>\n",
       "      <td>37</td>\n",
       "      <td>42</td>\n",
       "      <td>...</td>\n",
       "      <td>0</td>\n",
       "      <td>0</td>\n",
       "      <td>0</td>\n",
       "      <td>0</td>\n",
       "      <td>0</td>\n",
       "      <td>0</td>\n",
       "      <td>0</td>\n",
       "      <td>0</td>\n",
       "      <td>2</td>\n",
       "      <td>0</td>\n",
       "    </tr>\n",
       "    <tr>\n",
       "      <th>2</th>\n",
       "      <td>25-34</td>\n",
       "      <td>Male</td>\n",
       "      <td>Doctorate Degree</td>\n",
       "      <td>UK</td>\n",
       "      <td>White</td>\n",
       "      <td>29</td>\n",
       "      <td>52</td>\n",
       "      <td>55</td>\n",
       "      <td>48</td>\n",
       "      <td>41</td>\n",
       "      <td>...</td>\n",
       "      <td>0</td>\n",
       "      <td>4</td>\n",
       "      <td>0</td>\n",
       "      <td>2</td>\n",
       "      <td>0</td>\n",
       "      <td>2</td>\n",
       "      <td>3</td>\n",
       "      <td>0</td>\n",
       "      <td>4</td>\n",
       "      <td>0</td>\n",
       "    </tr>\n",
       "    <tr>\n",
       "      <th>3</th>\n",
       "      <td>35-44</td>\n",
       "      <td>Male</td>\n",
       "      <td>Professional certificate/diploma</td>\n",
       "      <td>UK</td>\n",
       "      <td>White</td>\n",
       "      <td>31</td>\n",
       "      <td>45</td>\n",
       "      <td>40</td>\n",
       "      <td>32</td>\n",
       "      <td>34</td>\n",
       "      <td>...</td>\n",
       "      <td>0</td>\n",
       "      <td>0</td>\n",
       "      <td>0</td>\n",
       "      <td>0</td>\n",
       "      <td>0</td>\n",
       "      <td>0</td>\n",
       "      <td>0</td>\n",
       "      <td>1</td>\n",
       "      <td>0</td>\n",
       "      <td>0</td>\n",
       "    </tr>\n",
       "    <tr>\n",
       "      <th>4</th>\n",
       "      <td>18-24</td>\n",
       "      <td>Female</td>\n",
       "      <td>Masters Degree</td>\n",
       "      <td>UK</td>\n",
       "      <td>White</td>\n",
       "      <td>34</td>\n",
       "      <td>34</td>\n",
       "      <td>46</td>\n",
       "      <td>47</td>\n",
       "      <td>46</td>\n",
       "      <td>...</td>\n",
       "      <td>0</td>\n",
       "      <td>0</td>\n",
       "      <td>0</td>\n",
       "      <td>2</td>\n",
       "      <td>0</td>\n",
       "      <td>0</td>\n",
       "      <td>0</td>\n",
       "      <td>0</td>\n",
       "      <td>2</td>\n",
       "      <td>0</td>\n",
       "    </tr>\n",
       "    <tr>\n",
       "      <th>5</th>\n",
       "      <td>35-44</td>\n",
       "      <td>Female</td>\n",
       "      <td>Doctorate Degree</td>\n",
       "      <td>UK</td>\n",
       "      <td>White</td>\n",
       "      <td>43</td>\n",
       "      <td>28</td>\n",
       "      <td>43</td>\n",
       "      <td>41</td>\n",
       "      <td>50</td>\n",
       "      <td>...</td>\n",
       "      <td>0</td>\n",
       "      <td>1</td>\n",
       "      <td>0</td>\n",
       "      <td>0</td>\n",
       "      <td>1</td>\n",
       "      <td>0</td>\n",
       "      <td>0</td>\n",
       "      <td>2</td>\n",
       "      <td>2</td>\n",
       "      <td>0</td>\n",
       "    </tr>\n",
       "    <tr>\n",
       "      <th>...</th>\n",
       "      <td>...</td>\n",
       "      <td>...</td>\n",
       "      <td>...</td>\n",
       "      <td>...</td>\n",
       "      <td>...</td>\n",
       "      <td>...</td>\n",
       "      <td>...</td>\n",
       "      <td>...</td>\n",
       "      <td>...</td>\n",
       "      <td>...</td>\n",
       "      <td>...</td>\n",
       "      <td>...</td>\n",
       "      <td>...</td>\n",
       "      <td>...</td>\n",
       "      <td>...</td>\n",
       "      <td>...</td>\n",
       "      <td>...</td>\n",
       "      <td>...</td>\n",
       "      <td>...</td>\n",
       "      <td>...</td>\n",
       "      <td>...</td>\n",
       "    </tr>\n",
       "    <tr>\n",
       "      <th>1884</th>\n",
       "      <td>18-24</td>\n",
       "      <td>Female</td>\n",
       "      <td>Some college or university, no certificate or degree</td>\n",
       "      <td>USA</td>\n",
       "      <td>White</td>\n",
       "      <td>25</td>\n",
       "      <td>51</td>\n",
       "      <td>57</td>\n",
       "      <td>48</td>\n",
       "      <td>33</td>\n",
       "      <td>...</td>\n",
       "      <td>0</td>\n",
       "      <td>0</td>\n",
       "      <td>0</td>\n",
       "      <td>0</td>\n",
       "      <td>3</td>\n",
       "      <td>3</td>\n",
       "      <td>0</td>\n",
       "      <td>0</td>\n",
       "      <td>0</td>\n",
       "      <td>5</td>\n",
       "    </tr>\n",
       "    <tr>\n",
       "      <th>1885</th>\n",
       "      <td>18-24</td>\n",
       "      <td>Male</td>\n",
       "      <td>Some college or university, no certificate or degree</td>\n",
       "      <td>USA</td>\n",
       "      <td>White</td>\n",
       "      <td>33</td>\n",
       "      <td>51</td>\n",
       "      <td>50</td>\n",
       "      <td>48</td>\n",
       "      <td>30</td>\n",
       "      <td>...</td>\n",
       "      <td>0</td>\n",
       "      <td>2</td>\n",
       "      <td>0</td>\n",
       "      <td>0</td>\n",
       "      <td>3</td>\n",
       "      <td>5</td>\n",
       "      <td>4</td>\n",
       "      <td>4</td>\n",
       "      <td>5</td>\n",
       "      <td>0</td>\n",
       "    </tr>\n",
       "    <tr>\n",
       "      <th>1886</th>\n",
       "      <td>25-34</td>\n",
       "      <td>Female</td>\n",
       "      <td>University Degree</td>\n",
       "      <td>USA</td>\n",
       "      <td>White</td>\n",
       "      <td>47</td>\n",
       "      <td>30</td>\n",
       "      <td>37</td>\n",
       "      <td>31</td>\n",
       "      <td>31</td>\n",
       "      <td>...</td>\n",
       "      <td>0</td>\n",
       "      <td>4</td>\n",
       "      <td>0</td>\n",
       "      <td>2</td>\n",
       "      <td>0</td>\n",
       "      <td>2</td>\n",
       "      <td>0</td>\n",
       "      <td>2</td>\n",
       "      <td>6</td>\n",
       "      <td>0</td>\n",
       "    </tr>\n",
       "    <tr>\n",
       "      <th>1887</th>\n",
       "      <td>18-24</td>\n",
       "      <td>Female</td>\n",
       "      <td>Some college or university, no certificate or degree</td>\n",
       "      <td>USA</td>\n",
       "      <td>White</td>\n",
       "      <td>45</td>\n",
       "      <td>26</td>\n",
       "      <td>48</td>\n",
       "      <td>32</td>\n",
       "      <td>22</td>\n",
       "      <td>...</td>\n",
       "      <td>0</td>\n",
       "      <td>3</td>\n",
       "      <td>0</td>\n",
       "      <td>0</td>\n",
       "      <td>3</td>\n",
       "      <td>3</td>\n",
       "      <td>0</td>\n",
       "      <td>3</td>\n",
       "      <td>4</td>\n",
       "      <td>0</td>\n",
       "    </tr>\n",
       "    <tr>\n",
       "      <th>1888</th>\n",
       "      <td>18-24</td>\n",
       "      <td>Male</td>\n",
       "      <td>Some college or university, no certificate or degree</td>\n",
       "      <td>Republic of Ireland</td>\n",
       "      <td>White</td>\n",
       "      <td>31</td>\n",
       "      <td>53</td>\n",
       "      <td>56</td>\n",
       "      <td>50</td>\n",
       "      <td>45</td>\n",
       "      <td>...</td>\n",
       "      <td>0</td>\n",
       "      <td>3</td>\n",
       "      <td>0</td>\n",
       "      <td>0</td>\n",
       "      <td>3</td>\n",
       "      <td>3</td>\n",
       "      <td>0</td>\n",
       "      <td>3</td>\n",
       "      <td>6</td>\n",
       "      <td>2</td>\n",
       "    </tr>\n",
       "  </tbody>\n",
       "</table>\n",
       "<p>1885 rows × 26 columns</p>\n",
       "</div>"
      ],
      "text/plain": [
       "        Age  Gender                                             Education  \\\n",
       "ID                                                                          \n",
       "1     35-44  Female  Professional certificate/diploma                       \n",
       "2     25-34  Male    Doctorate Degree                                       \n",
       "3     35-44  Male    Professional certificate/diploma                       \n",
       "4     18-24  Female  Masters Degree                                         \n",
       "5     35-44  Female  Doctorate Degree                                       \n",
       "...     ...     ...             ...                                         \n",
       "1884  18-24  Female  Some college or university, no certificate or degree   \n",
       "1885  18-24  Male    Some college or university, no certificate or degree   \n",
       "1886  25-34  Female  University Degree                                      \n",
       "1887  18-24  Female  Some college or university, no certificate or degree   \n",
       "1888  18-24  Male    Some college or university, no certificate or degree   \n",
       "\n",
       "                  Country          Ethnicity NScore EScore OScore AScore  \\\n",
       "ID                                                                         \n",
       "1     UK                   Mixed-White/Asian  39     36     42     37      \n",
       "2     UK                   White              29     52     55     48      \n",
       "3     UK                   White              31     45     40     32      \n",
       "4     UK                   White              34     34     46     47      \n",
       "5     UK                   White              43     28     43     41      \n",
       "...   ..                     ...              ..     ..     ..     ..      \n",
       "1884  USA                  White              25     51     57     48      \n",
       "1885  USA                  White              33     51     50     48      \n",
       "1886  USA                  White              47     30     37     31      \n",
       "1887  USA                  White              45     26     48     32      \n",
       "1888  Republic of Ireland  White              31     53     56     50      \n",
       "\n",
       "     CScore  ... Crack Ecstasy Heroin Ketamine Legalh LSD Meth Mushroom  \\\n",
       "ID           ...                                                          \n",
       "1     42     ...  0     0       0      0        0      0   0    0         \n",
       "2     41     ...  0     4       0      2        0      2   3    0         \n",
       "3     34     ...  0     0       0      0        0      0   0    1         \n",
       "4     46     ...  0     0       0      2        0      0   0    0         \n",
       "5     50     ...  0     1       0      0        1      0   0    2         \n",
       "...   ..     ... ..    ..      ..     ..       ..     ..  ..   ..         \n",
       "1884  33     ...  0     0       0      0        3      3   0    0         \n",
       "1885  30     ...  0     2       0      0        3      5   4    4         \n",
       "1886  31     ...  0     4       0      2        0      2   0    2         \n",
       "1887  22     ...  0     3       0      0        3      3   0    3         \n",
       "1888  45     ...  0     3       0      0        3      3   0    3         \n",
       "\n",
       "     Nicotine VSA  \n",
       "ID                 \n",
       "1     2        0   \n",
       "2     4        0   \n",
       "3     0        0   \n",
       "4     2        0   \n",
       "5     2        0   \n",
       "...  ..       ..   \n",
       "1884  0        5   \n",
       "1885  5        0   \n",
       "1886  6        0   \n",
       "1887  4        0   \n",
       "1888  6        2   \n",
       "\n",
       "[1885 rows x 26 columns]"
      ]
     },
     "execution_count": 322,
     "metadata": {},
     "output_type": "execute_result"
    }
   ],
   "source": [
    "# Replacing all the consumption period into ordinal numbers in all drug columns\n",
    "\n",
    "df_clean.loc[:,'Alcohol':] = df_clean.loc[:,'Alcohol':].replace({\n",
    "    'Never Used':0, \n",
    "    'Used over a decade ago':1, \n",
    "    'Used in last decade':2, \n",
    "    'Used in last year':3,\n",
    "    'Used in last month':4,\n",
    "    'Used in last week':5,\n",
    "    'Used in last day':6})\n",
    "df_clean"
   ]
  },
  {
   "cell_type": "code",
   "execution_count": 323,
   "metadata": {},
   "outputs": [
    {
     "name": "stdout",
     "output_type": "stream",
     "text": [
      "<class 'pandas.core.frame.DataFrame'>\n",
      "Index: 1885 entries, 1 to 1888\n",
      "Data columns (total 26 columns):\n",
      " #   Column     Non-Null Count  Dtype \n",
      "---  ------     --------------  ----- \n",
      " 0   Age        1885 non-null   object\n",
      " 1   Gender     1885 non-null   object\n",
      " 2   Education  1885 non-null   object\n",
      " 3   Country    1885 non-null   object\n",
      " 4   Ethnicity  1885 non-null   object\n",
      " 5   NScore     1885 non-null   int64 \n",
      " 6   EScore     1885 non-null   int64 \n",
      " 7   OScore     1885 non-null   int64 \n",
      " 8   AScore     1885 non-null   int64 \n",
      " 9   CScore     1885 non-null   int64 \n",
      " 10  Alcohol    1885 non-null   int64 \n",
      " 11  Amphet     1885 non-null   int64 \n",
      " 12  Amyl       1885 non-null   int64 \n",
      " 13  Benzos     1885 non-null   int64 \n",
      " 14  Cannabis   1885 non-null   int64 \n",
      " 15  Coke       1885 non-null   int64 \n",
      " 16  Crack      1885 non-null   int64 \n",
      " 17  Ecstasy    1885 non-null   int64 \n",
      " 18  Heroin     1885 non-null   int64 \n",
      " 19  Ketamine   1885 non-null   int64 \n",
      " 20  Legalh     1885 non-null   int64 \n",
      " 21  LSD        1885 non-null   int64 \n",
      " 22  Meth       1885 non-null   int64 \n",
      " 23  Mushroom   1885 non-null   int64 \n",
      " 24  Nicotine   1885 non-null   int64 \n",
      " 25  VSA        1885 non-null   int64 \n",
      "dtypes: int64(21), object(5)\n",
      "memory usage: 462.2+ KB\n"
     ]
    }
   ],
   "source": [
    "for column in df_clean.columns[5:]:\n",
    "    df_clean[column] = df_clean[column].astype(int)\n",
    "df_clean.info()"
   ]
  },
  {
   "cell_type": "code",
   "execution_count": 324,
   "metadata": {},
   "outputs": [
    {
     "data": {
      "text/html": [
       "<div>\n",
       "<style scoped>\n",
       "    .dataframe tbody tr th:only-of-type {\n",
       "        vertical-align: middle;\n",
       "    }\n",
       "\n",
       "    .dataframe tbody tr th {\n",
       "        vertical-align: top;\n",
       "    }\n",
       "\n",
       "    .dataframe thead th {\n",
       "        text-align: right;\n",
       "    }\n",
       "</style>\n",
       "<table border=\"1\" class=\"dataframe\">\n",
       "  <thead>\n",
       "    <tr style=\"text-align: right;\">\n",
       "      <th></th>\n",
       "      <th>Age</th>\n",
       "      <th>Gender</th>\n",
       "      <th>Education</th>\n",
       "      <th>Country</th>\n",
       "      <th>Ethnicity</th>\n",
       "      <th>NScore</th>\n",
       "      <th>EScore</th>\n",
       "      <th>OScore</th>\n",
       "      <th>AScore</th>\n",
       "      <th>CScore</th>\n",
       "      <th>...</th>\n",
       "      <th>Ecstasy</th>\n",
       "      <th>Heroin</th>\n",
       "      <th>Ketamine</th>\n",
       "      <th>Legalh</th>\n",
       "      <th>LSD</th>\n",
       "      <th>Meth</th>\n",
       "      <th>Mushroom</th>\n",
       "      <th>Nicotine</th>\n",
       "      <th>VSA</th>\n",
       "      <th>Total_Consumption</th>\n",
       "    </tr>\n",
       "    <tr>\n",
       "      <th>ID</th>\n",
       "      <th></th>\n",
       "      <th></th>\n",
       "      <th></th>\n",
       "      <th></th>\n",
       "      <th></th>\n",
       "      <th></th>\n",
       "      <th></th>\n",
       "      <th></th>\n",
       "      <th></th>\n",
       "      <th></th>\n",
       "      <th></th>\n",
       "      <th></th>\n",
       "      <th></th>\n",
       "      <th></th>\n",
       "      <th></th>\n",
       "      <th></th>\n",
       "      <th></th>\n",
       "      <th></th>\n",
       "      <th></th>\n",
       "      <th></th>\n",
       "      <th></th>\n",
       "    </tr>\n",
       "  </thead>\n",
       "  <tbody>\n",
       "    <tr>\n",
       "      <th>1</th>\n",
       "      <td>35-44</td>\n",
       "      <td>Female</td>\n",
       "      <td>Professional certificate/diploma</td>\n",
       "      <td>UK</td>\n",
       "      <td>Mixed-White/Asian</td>\n",
       "      <td>39</td>\n",
       "      <td>36</td>\n",
       "      <td>42</td>\n",
       "      <td>37</td>\n",
       "      <td>42</td>\n",
       "      <td>...</td>\n",
       "      <td>0</td>\n",
       "      <td>0</td>\n",
       "      <td>0</td>\n",
       "      <td>0</td>\n",
       "      <td>0</td>\n",
       "      <td>0</td>\n",
       "      <td>0</td>\n",
       "      <td>2</td>\n",
       "      <td>0</td>\n",
       "      <td>11</td>\n",
       "    </tr>\n",
       "    <tr>\n",
       "      <th>2</th>\n",
       "      <td>25-34</td>\n",
       "      <td>Male</td>\n",
       "      <td>Doctorate Degree</td>\n",
       "      <td>UK</td>\n",
       "      <td>White</td>\n",
       "      <td>29</td>\n",
       "      <td>52</td>\n",
       "      <td>55</td>\n",
       "      <td>48</td>\n",
       "      <td>41</td>\n",
       "      <td>...</td>\n",
       "      <td>4</td>\n",
       "      <td>0</td>\n",
       "      <td>2</td>\n",
       "      <td>0</td>\n",
       "      <td>2</td>\n",
       "      <td>3</td>\n",
       "      <td>0</td>\n",
       "      <td>4</td>\n",
       "      <td>0</td>\n",
       "      <td>31</td>\n",
       "    </tr>\n",
       "    <tr>\n",
       "      <th>3</th>\n",
       "      <td>35-44</td>\n",
       "      <td>Male</td>\n",
       "      <td>Professional certificate/diploma</td>\n",
       "      <td>UK</td>\n",
       "      <td>White</td>\n",
       "      <td>31</td>\n",
       "      <td>45</td>\n",
       "      <td>40</td>\n",
       "      <td>32</td>\n",
       "      <td>34</td>\n",
       "      <td>...</td>\n",
       "      <td>0</td>\n",
       "      <td>0</td>\n",
       "      <td>0</td>\n",
       "      <td>0</td>\n",
       "      <td>0</td>\n",
       "      <td>0</td>\n",
       "      <td>1</td>\n",
       "      <td>0</td>\n",
       "      <td>0</td>\n",
       "      <td>10</td>\n",
       "    </tr>\n",
       "    <tr>\n",
       "      <th>4</th>\n",
       "      <td>18-24</td>\n",
       "      <td>Female</td>\n",
       "      <td>Masters Degree</td>\n",
       "      <td>UK</td>\n",
       "      <td>White</td>\n",
       "      <td>34</td>\n",
       "      <td>34</td>\n",
       "      <td>46</td>\n",
       "      <td>47</td>\n",
       "      <td>46</td>\n",
       "      <td>...</td>\n",
       "      <td>0</td>\n",
       "      <td>0</td>\n",
       "      <td>2</td>\n",
       "      <td>0</td>\n",
       "      <td>0</td>\n",
       "      <td>0</td>\n",
       "      <td>0</td>\n",
       "      <td>2</td>\n",
       "      <td>0</td>\n",
       "      <td>15</td>\n",
       "    </tr>\n",
       "    <tr>\n",
       "      <th>5</th>\n",
       "      <td>35-44</td>\n",
       "      <td>Female</td>\n",
       "      <td>Doctorate Degree</td>\n",
       "      <td>UK</td>\n",
       "      <td>White</td>\n",
       "      <td>43</td>\n",
       "      <td>28</td>\n",
       "      <td>43</td>\n",
       "      <td>41</td>\n",
       "      <td>50</td>\n",
       "      <td>...</td>\n",
       "      <td>1</td>\n",
       "      <td>0</td>\n",
       "      <td>0</td>\n",
       "      <td>1</td>\n",
       "      <td>0</td>\n",
       "      <td>0</td>\n",
       "      <td>2</td>\n",
       "      <td>2</td>\n",
       "      <td>0</td>\n",
       "      <td>15</td>\n",
       "    </tr>\n",
       "  </tbody>\n",
       "</table>\n",
       "<p>5 rows × 27 columns</p>\n",
       "</div>"
      ],
      "text/plain": [
       "      Age  Gender                         Education Country  \\\n",
       "ID                                                            \n",
       "1   35-44  Female  Professional certificate/diploma  UK       \n",
       "2   25-34  Male    Doctorate Degree                  UK       \n",
       "3   35-44  Male    Professional certificate/diploma  UK       \n",
       "4   18-24  Female  Masters Degree                    UK       \n",
       "5   35-44  Female  Doctorate Degree                  UK       \n",
       "\n",
       "            Ethnicity  NScore  EScore  OScore  AScore  CScore  ...  Ecstasy  \\\n",
       "ID                                                             ...            \n",
       "1   Mixed-White/Asian  39      36      42      37      42      ...  0         \n",
       "2   White              29      52      55      48      41      ...  4         \n",
       "3   White              31      45      40      32      34      ...  0         \n",
       "4   White              34      34      46      47      46      ...  0         \n",
       "5   White              43      28      43      41      50      ...  1         \n",
       "\n",
       "    Heroin  Ketamine  Legalh  LSD  Meth  Mushroom  Nicotine  VSA  \\\n",
       "ID                                                                 \n",
       "1   0       0         0       0    0     0         2         0     \n",
       "2   0       2         0       2    3     0         4         0     \n",
       "3   0       0         0       0    0     1         0         0     \n",
       "4   0       2         0       0    0     0         2         0     \n",
       "5   0       0         1       0    0     2         2         0     \n",
       "\n",
       "    Total_Consumption  \n",
       "ID                     \n",
       "1   11                 \n",
       "2   31                 \n",
       "3   10                 \n",
       "4   15                 \n",
       "5   15                 \n",
       "\n",
       "[5 rows x 27 columns]"
      ]
     },
     "execution_count": 324,
     "metadata": {},
     "output_type": "execute_result"
    }
   ],
   "source": [
    "# Make new column that consist of the total frequency of overall drugs consumption\n",
    "df_clean['Total_Consumption'] = df_clean.groupby('ID')['Alcohol', 'Amphet', 'Amyl','Benzos', 'Cannabis','Coke', 'Crack', 'Ecstasy', 'Heroin', 'Ketamine', 'Legalh', 'LSD', 'Meth', 'Mushroom','Nicotine','VSA'].sum().sum(axis=1)\n",
    "df_clean.head()"
   ]
  },
  {
   "attachments": {},
   "cell_type": "markdown",
   "metadata": {},
   "source": [
    "## Merging Some 'Education' Categories"
   ]
  },
  {
   "cell_type": "code",
   "execution_count": 325,
   "metadata": {},
   "outputs": [
    {
     "data": {
      "text/plain": [
       "Some college or university, no certificate or degree    506\n",
       "University Degree                                       480\n",
       "Masters Degree                                          283\n",
       "Professional certificate/diploma                        270\n",
       "Left school at 18 years                                 100\n",
       "Left school at 16 years                                 99 \n",
       "Doctorate Degree                                        89 \n",
       "Left school at 17 years                                 30 \n",
       "Left school before 16 years                             28 \n",
       "Name: Education, dtype: int64"
      ]
     },
     "execution_count": 325,
     "metadata": {},
     "output_type": "execute_result"
    }
   ],
   "source": [
    "# There is a significant disparity in the educational levels of participants\n",
    "# The idea is to combine 'Left school before 16 years' 'Left school at 16 years' 'Left school at 17 years' and 'Left school at 18 years'\n",
    "# Check whether there are significant differences between each of those categories\n",
    "df_clean['Education'].value_counts()"
   ]
  },
  {
   "cell_type": "code",
   "execution_count": 326,
   "metadata": {},
   "outputs": [
    {
     "data": {
      "text/plain": [
       "4.789542054539483e-05"
      ]
     },
     "execution_count": 326,
     "metadata": {},
     "output_type": "execute_result"
    }
   ],
   "source": [
    "cat = [\"Left school before 16 years\", \"Left school at 16 years\", \"Left school at 17 years\", \"Left school at 18 years\"]\n",
    "edu_cat = df_clean[df_clean['Education'].isin(cat)]\n",
    "\n",
    "# Means of each Categories\n",
    "edu_cat.groupby('Education').mean()\n",
    "\n",
    "# ANOVA Test\n",
    "# H0 = There is no significant difference in the means of 'Total_Consumption' among the 4 education categories.\n",
    "# H1 = There is a significant difference in the means of 'Total_Consumption' among the 4 education categories.\n",
    "from scipy.stats import f_oneway\n",
    "stats, pvalue = f_oneway(\n",
    "    edu_cat.loc[edu_cat['Education'] == \"Left school before 16 years\"]['Total_Consumption'],\n",
    "    edu_cat.loc[edu_cat['Education'] == \"Left school at 16 years\"]['Total_Consumption'],\n",
    "    edu_cat.loc[edu_cat['Education'] == \"Left school at 17 years\"]['Total_Consumption'],\n",
    "    edu_cat.loc[edu_cat['Education'] == \"Left school at 18 years\"]['Total_Consumption']\n",
    ")\n",
    "pvalue"
   ]
  },
  {
   "cell_type": "code",
   "execution_count": 327,
   "metadata": {},
   "outputs": [
    {
     "name": "stdout",
     "output_type": "stream",
     "text": [
      "                    Multiple Comparison of Means - Tukey HSD, FWER=0.05                    \n",
      "===========================================================================================\n",
      "         group1                    group2           meandiff p-adj   lower    upper  reject\n",
      "-------------------------------------------------------------------------------------------\n",
      "Left school at 16 years     Left school at 17 years   8.4556 0.0297   0.5867 16.3244   True\n",
      "Left school at 16 years     Left school at 18 years   9.7156    0.0   4.3625 15.0687   True\n",
      "Left school at 16 years Left school before 16 years   5.9841 0.2243  -2.0976 14.0658  False\n",
      "Left school at 17 years     Left school at 18 years     1.26 0.9759  -6.5997  9.1197  False\n",
      "Left school at 17 years Left school before 16 years  -2.4714 0.9175 -12.3928  7.4499  False\n",
      "Left school at 18 years Left school before 16 years  -3.7314 0.6303 -11.8042  4.3413  False\n",
      "-------------------------------------------------------------------------------------------\n"
     ]
    }
   ],
   "source": [
    "# Reject H0. There is a significant difference  in the means of 'Total_Consumption' between each categories\n",
    "# To know which categories differ from each others, Post Hoc test will be conducted (Tukey's Honestly Significant Difference (HSD) test)\n",
    "from statsmodels.stats.multicomp import pairwise_tukeyhsd\n",
    "tukey = pairwise_tukeyhsd(edu_cat['Total_Consumption'].values, edu_cat['Education'].values)\n",
    "print(tukey)\n"
   ]
  },
  {
   "attachments": {},
   "cell_type": "markdown",
   "metadata": {},
   "source": [
    "- Individuals who left school at 16 years and those who left school at 18 years have a significantly different total consumption. \n",
    "- There are no significant differences among the remaining categories.\n",
    "- So I decided to combine 'Left school before 16 years', 'Left school at 16 years', 'Left school at 17 years' into 1 category"
   ]
  },
  {
   "cell_type": "code",
   "execution_count": 328,
   "metadata": {},
   "outputs": [
    {
     "data": {
      "text/plain": [
       "Some college or university, no certificate or degree    506\n",
       "University Degree                                       480\n",
       "Masters Degree                                          283\n",
       "Professional certificate/diploma                        270\n",
       "Left school at 17 & 18 years                            130\n",
       "Left school <=16 years                                  127\n",
       "Doctorate Degree                                        89 \n",
       "Name: Education, dtype: int64"
      ]
     },
     "execution_count": 328,
     "metadata": {},
     "output_type": "execute_result"
    }
   ],
   "source": [
    "df_clean['Education'] = df_clean['Education'].replace([\"Left school before 16 years\", \"Left school at 16 years\"], \"Left school <=16 years\")\n",
    "df_clean['Education'] = df_clean['Education'].replace([\"Left school at 17 years\", \"Left school at 18 years\"], \"Left school at 17 & 18 years\")\n",
    "\n",
    "df_clean['Education'].value_counts()"
   ]
  },
  {
   "attachments": {},
   "cell_type": "markdown",
   "metadata": {},
   "source": [
    "## Merging Some 'Ethnicity' Categories"
   ]
  },
  {
   "cell_type": "code",
   "execution_count": 329,
   "metadata": {},
   "outputs": [
    {
     "data": {
      "text/plain": [
       "White                1720\n",
       "Others               63  \n",
       "Black                33  \n",
       "Asian                26  \n",
       "Mixed-White/Asian    20  \n",
       "Mixed-White/Black    20  \n",
       "Mixed-Black/Asian    3   \n",
       "Name: Ethnicity, dtype: int64"
      ]
     },
     "execution_count": 329,
     "metadata": {},
     "output_type": "execute_result"
    }
   ],
   "source": [
    "# The proportions of White participants and Mixed participants differ significantly\n",
    "# The idea is to combine some categories to reduce the disparity\n",
    "# Check whether there are significant differences between each categories\n",
    "df_clean['Ethnicity'].value_counts()\n"
   ]
  },
  {
   "cell_type": "code",
   "execution_count": 330,
   "metadata": {},
   "outputs": [
    {
     "data": {
      "text/plain": [
       "0.824632181571218"
      ]
     },
     "execution_count": 330,
     "metadata": {},
     "output_type": "execute_result"
    }
   ],
   "source": [
    "cat = [\"Mixed-White/Asian\", \"Mixed-White/Black\", \"Mixed-Black/Asian\"]\n",
    "eth_cat = df_clean[df_clean['Ethnicity'].isin(cat)]\n",
    "\n",
    "# Means of each Categories\n",
    "eth_cat.groupby('Ethnicity').mean()\n",
    "\n",
    "# ANOVA Test\n",
    "\n",
    "# H0 = There is no significant difference in the means of 'Total_Consumption' among the 3 ethnicity categories.\n",
    "# H1 = There is a significant difference in the means of 'Total_Consumption' among the 3 ethnicity categories.\n",
    "stats, pvalue = f_oneway(\n",
    "    eth_cat.loc[eth_cat['Ethnicity'] == \"Mixed-White/Asian\"]['Total_Consumption'],\n",
    "    eth_cat.loc[eth_cat['Ethnicity'] == \"Mixed-White/Black\"]['Total_Consumption'],\n",
    "    eth_cat.loc[eth_cat['Ethnicity'] == \"Mixed-Black/Asian\"]['Total_Consumption'],\n",
    ")\n",
    "pvalue"
   ]
  },
  {
   "cell_type": "code",
   "execution_count": 331,
   "metadata": {},
   "outputs": [
    {
     "data": {
      "text/plain": [
       "White     1720\n",
       "Others    63  \n",
       "Mixed     43  \n",
       "Black     33  \n",
       "Asian     26  \n",
       "Name: Ethnicity, dtype: int64"
      ]
     },
     "execution_count": 331,
     "metadata": {},
     "output_type": "execute_result"
    }
   ],
   "source": [
    "# H0 accepted = There is no significant difference in the means of 'Total_Consumption' between each categories\n",
    "# Merging all 'Mixed' Ethnicities into 1 category\n",
    "df_clean['Ethnicity'] = df_clean['Ethnicity'].replace([\"Mixed-White/Asian\", \"Mixed-White/Black\", \"Mixed-Black/Asian\"], 'Mixed')\n",
    "df_clean['Ethnicity'].value_counts()"
   ]
  },
  {
   "attachments": {},
   "cell_type": "markdown",
   "metadata": {},
   "source": [
    "## Switch 'Country' into 'Continent' Column"
   ]
  },
  {
   "cell_type": "code",
   "execution_count": 332,
   "metadata": {},
   "outputs": [
    {
     "data": {
      "text/plain": [
       "UK                     1044\n",
       "USA                    557 \n",
       "Others                 118 \n",
       "Canada                 87  \n",
       "Australia              54  \n",
       "Republic of Ireland    20  \n",
       "New Zealand            5   \n",
       "Name: Country, dtype: int64"
      ]
     },
     "execution_count": 332,
     "metadata": {},
     "output_type": "execute_result"
    }
   ],
   "source": [
    "df_clean['Country'].value_counts()\n"
   ]
  },
  {
   "cell_type": "code",
   "execution_count": 333,
   "metadata": {},
   "outputs": [
    {
     "data": {
      "text/plain": [
       "Europe     1064\n",
       "America    644 \n",
       "Others     118 \n",
       "Oceania    59  \n",
       "Name: Continent, dtype: int64"
      ]
     },
     "execution_count": 333,
     "metadata": {},
     "output_type": "execute_result"
    }
   ],
   "source": [
    "df_clean['Country'] = df_clean['Country'].replace({\n",
    "    'UK': 'Europe',\n",
    "    'Republic of Ireland': 'Europe',\n",
    "    'Australia': 'Oceania',\n",
    "    'New Zealand': 'Oceania',\n",
    "    'USA': 'America',\n",
    "    'Canada': 'America'\n",
    "})\n",
    "df_clean.rename(columns={'Country': 'Continent'}, inplace=True)\n",
    "df_clean['Continent'].value_counts()\n"
   ]
  },
  {
   "cell_type": "code",
   "execution_count": 334,
   "metadata": {},
   "outputs": [
    {
     "data": {
      "text/html": [
       "<div>\n",
       "<style scoped>\n",
       "    .dataframe tbody tr th:only-of-type {\n",
       "        vertical-align: middle;\n",
       "    }\n",
       "\n",
       "    .dataframe tbody tr th {\n",
       "        vertical-align: top;\n",
       "    }\n",
       "\n",
       "    .dataframe thead th {\n",
       "        text-align: right;\n",
       "    }\n",
       "</style>\n",
       "<table border=\"1\" class=\"dataframe\">\n",
       "  <thead>\n",
       "    <tr style=\"text-align: right;\">\n",
       "      <th></th>\n",
       "      <th>Age</th>\n",
       "      <th>Gender</th>\n",
       "      <th>Education</th>\n",
       "      <th>Continent</th>\n",
       "      <th>Ethnicity</th>\n",
       "      <th>NScore</th>\n",
       "      <th>EScore</th>\n",
       "      <th>OScore</th>\n",
       "      <th>AScore</th>\n",
       "      <th>CScore</th>\n",
       "      <th>...</th>\n",
       "      <th>Ecstasy</th>\n",
       "      <th>Heroin</th>\n",
       "      <th>Ketamine</th>\n",
       "      <th>Legalh</th>\n",
       "      <th>LSD</th>\n",
       "      <th>Meth</th>\n",
       "      <th>Mushroom</th>\n",
       "      <th>Nicotine</th>\n",
       "      <th>VSA</th>\n",
       "      <th>Total_Consumption</th>\n",
       "    </tr>\n",
       "    <tr>\n",
       "      <th>ID</th>\n",
       "      <th></th>\n",
       "      <th></th>\n",
       "      <th></th>\n",
       "      <th></th>\n",
       "      <th></th>\n",
       "      <th></th>\n",
       "      <th></th>\n",
       "      <th></th>\n",
       "      <th></th>\n",
       "      <th></th>\n",
       "      <th></th>\n",
       "      <th></th>\n",
       "      <th></th>\n",
       "      <th></th>\n",
       "      <th></th>\n",
       "      <th></th>\n",
       "      <th></th>\n",
       "      <th></th>\n",
       "      <th></th>\n",
       "      <th></th>\n",
       "      <th></th>\n",
       "    </tr>\n",
       "  </thead>\n",
       "  <tbody>\n",
       "    <tr>\n",
       "      <th>1</th>\n",
       "      <td>35-44</td>\n",
       "      <td>Female</td>\n",
       "      <td>Professional certificate/diploma</td>\n",
       "      <td>Europe</td>\n",
       "      <td>Mixed</td>\n",
       "      <td>39</td>\n",
       "      <td>36</td>\n",
       "      <td>42</td>\n",
       "      <td>37</td>\n",
       "      <td>42</td>\n",
       "      <td>...</td>\n",
       "      <td>0</td>\n",
       "      <td>0</td>\n",
       "      <td>0</td>\n",
       "      <td>0</td>\n",
       "      <td>0</td>\n",
       "      <td>0</td>\n",
       "      <td>0</td>\n",
       "      <td>2</td>\n",
       "      <td>0</td>\n",
       "      <td>11</td>\n",
       "    </tr>\n",
       "    <tr>\n",
       "      <th>2</th>\n",
       "      <td>25-34</td>\n",
       "      <td>Male</td>\n",
       "      <td>Doctorate Degree</td>\n",
       "      <td>Europe</td>\n",
       "      <td>White</td>\n",
       "      <td>29</td>\n",
       "      <td>52</td>\n",
       "      <td>55</td>\n",
       "      <td>48</td>\n",
       "      <td>41</td>\n",
       "      <td>...</td>\n",
       "      <td>4</td>\n",
       "      <td>0</td>\n",
       "      <td>2</td>\n",
       "      <td>0</td>\n",
       "      <td>2</td>\n",
       "      <td>3</td>\n",
       "      <td>0</td>\n",
       "      <td>4</td>\n",
       "      <td>0</td>\n",
       "      <td>31</td>\n",
       "    </tr>\n",
       "    <tr>\n",
       "      <th>3</th>\n",
       "      <td>35-44</td>\n",
       "      <td>Male</td>\n",
       "      <td>Professional certificate/diploma</td>\n",
       "      <td>Europe</td>\n",
       "      <td>White</td>\n",
       "      <td>31</td>\n",
       "      <td>45</td>\n",
       "      <td>40</td>\n",
       "      <td>32</td>\n",
       "      <td>34</td>\n",
       "      <td>...</td>\n",
       "      <td>0</td>\n",
       "      <td>0</td>\n",
       "      <td>0</td>\n",
       "      <td>0</td>\n",
       "      <td>0</td>\n",
       "      <td>0</td>\n",
       "      <td>1</td>\n",
       "      <td>0</td>\n",
       "      <td>0</td>\n",
       "      <td>10</td>\n",
       "    </tr>\n",
       "    <tr>\n",
       "      <th>4</th>\n",
       "      <td>18-24</td>\n",
       "      <td>Female</td>\n",
       "      <td>Masters Degree</td>\n",
       "      <td>Europe</td>\n",
       "      <td>White</td>\n",
       "      <td>34</td>\n",
       "      <td>34</td>\n",
       "      <td>46</td>\n",
       "      <td>47</td>\n",
       "      <td>46</td>\n",
       "      <td>...</td>\n",
       "      <td>0</td>\n",
       "      <td>0</td>\n",
       "      <td>2</td>\n",
       "      <td>0</td>\n",
       "      <td>0</td>\n",
       "      <td>0</td>\n",
       "      <td>0</td>\n",
       "      <td>2</td>\n",
       "      <td>0</td>\n",
       "      <td>15</td>\n",
       "    </tr>\n",
       "    <tr>\n",
       "      <th>5</th>\n",
       "      <td>35-44</td>\n",
       "      <td>Female</td>\n",
       "      <td>Doctorate Degree</td>\n",
       "      <td>Europe</td>\n",
       "      <td>White</td>\n",
       "      <td>43</td>\n",
       "      <td>28</td>\n",
       "      <td>43</td>\n",
       "      <td>41</td>\n",
       "      <td>50</td>\n",
       "      <td>...</td>\n",
       "      <td>1</td>\n",
       "      <td>0</td>\n",
       "      <td>0</td>\n",
       "      <td>1</td>\n",
       "      <td>0</td>\n",
       "      <td>0</td>\n",
       "      <td>2</td>\n",
       "      <td>2</td>\n",
       "      <td>0</td>\n",
       "      <td>15</td>\n",
       "    </tr>\n",
       "  </tbody>\n",
       "</table>\n",
       "<p>5 rows × 27 columns</p>\n",
       "</div>"
      ],
      "text/plain": [
       "      Age  Gender                         Education Continent Ethnicity  \\\n",
       "ID                                                                        \n",
       "1   35-44  Female  Professional certificate/diploma  Europe    Mixed      \n",
       "2   25-34  Male    Doctorate Degree                  Europe    White      \n",
       "3   35-44  Male    Professional certificate/diploma  Europe    White      \n",
       "4   18-24  Female  Masters Degree                    Europe    White      \n",
       "5   35-44  Female  Doctorate Degree                  Europe    White      \n",
       "\n",
       "    NScore  EScore  OScore  AScore  CScore  ...  Ecstasy  Heroin  Ketamine  \\\n",
       "ID                                          ...                              \n",
       "1   39      36      42      37      42      ...  0        0       0          \n",
       "2   29      52      55      48      41      ...  4        0       2          \n",
       "3   31      45      40      32      34      ...  0        0       0          \n",
       "4   34      34      46      47      46      ...  0        0       2          \n",
       "5   43      28      43      41      50      ...  1        0       0          \n",
       "\n",
       "    Legalh  LSD  Meth  Mushroom  Nicotine  VSA  Total_Consumption  \n",
       "ID                                                                 \n",
       "1   0       0    0     0         2         0    11                 \n",
       "2   0       2    3     0         4         0    31                 \n",
       "3   0       0    0     1         0         0    10                 \n",
       "4   0       0    0     0         2         0    15                 \n",
       "5   1       0    0     2         2         0    15                 \n",
       "\n",
       "[5 rows x 27 columns]"
      ]
     },
     "execution_count": 334,
     "metadata": {},
     "output_type": "execute_result"
    }
   ],
   "source": [
    "df_clean.head()"
   ]
  },
  {
   "cell_type": "code",
   "execution_count": 335,
   "metadata": {},
   "outputs": [],
   "source": [
    "# Now that Total_Consumption are no longer needed, Drop those columns\n",
    "df_clean = df_clean.drop(columns =['Total_Consumption']).copy()\n"
   ]
  },
  {
   "attachments": {},
   "cell_type": "markdown",
   "metadata": {},
   "source": [
    "# Cleaned Data\n",
    "\n",
    "We've cleaned the data, now lets see our dataset's updated information"
   ]
  },
  {
   "cell_type": "code",
   "execution_count": 336,
   "metadata": {},
   "outputs": [
    {
     "data": {
      "text/html": [
       "<div>\n",
       "<style scoped>\n",
       "    .dataframe tbody tr th:only-of-type {\n",
       "        vertical-align: middle;\n",
       "    }\n",
       "\n",
       "    .dataframe tbody tr th {\n",
       "        vertical-align: top;\n",
       "    }\n",
       "\n",
       "    .dataframe thead th {\n",
       "        text-align: right;\n",
       "    }\n",
       "</style>\n",
       "<table border=\"1\" class=\"dataframe\">\n",
       "  <thead>\n",
       "    <tr style=\"text-align: right;\">\n",
       "      <th></th>\n",
       "      <th>Age</th>\n",
       "      <th>Gender</th>\n",
       "      <th>Education</th>\n",
       "      <th>Continent</th>\n",
       "      <th>Ethnicity</th>\n",
       "      <th>NScore</th>\n",
       "      <th>EScore</th>\n",
       "      <th>OScore</th>\n",
       "      <th>AScore</th>\n",
       "      <th>CScore</th>\n",
       "      <th>...</th>\n",
       "      <th>Crack</th>\n",
       "      <th>Ecstasy</th>\n",
       "      <th>Heroin</th>\n",
       "      <th>Ketamine</th>\n",
       "      <th>Legalh</th>\n",
       "      <th>LSD</th>\n",
       "      <th>Meth</th>\n",
       "      <th>Mushroom</th>\n",
       "      <th>Nicotine</th>\n",
       "      <th>VSA</th>\n",
       "    </tr>\n",
       "    <tr>\n",
       "      <th>ID</th>\n",
       "      <th></th>\n",
       "      <th></th>\n",
       "      <th></th>\n",
       "      <th></th>\n",
       "      <th></th>\n",
       "      <th></th>\n",
       "      <th></th>\n",
       "      <th></th>\n",
       "      <th></th>\n",
       "      <th></th>\n",
       "      <th></th>\n",
       "      <th></th>\n",
       "      <th></th>\n",
       "      <th></th>\n",
       "      <th></th>\n",
       "      <th></th>\n",
       "      <th></th>\n",
       "      <th></th>\n",
       "      <th></th>\n",
       "      <th></th>\n",
       "      <th></th>\n",
       "    </tr>\n",
       "  </thead>\n",
       "  <tbody>\n",
       "    <tr>\n",
       "      <th>1</th>\n",
       "      <td>35-44</td>\n",
       "      <td>Female</td>\n",
       "      <td>Professional certificate/diploma</td>\n",
       "      <td>Europe</td>\n",
       "      <td>Mixed</td>\n",
       "      <td>39</td>\n",
       "      <td>36</td>\n",
       "      <td>42</td>\n",
       "      <td>37</td>\n",
       "      <td>42</td>\n",
       "      <td>...</td>\n",
       "      <td>0</td>\n",
       "      <td>0</td>\n",
       "      <td>0</td>\n",
       "      <td>0</td>\n",
       "      <td>0</td>\n",
       "      <td>0</td>\n",
       "      <td>0</td>\n",
       "      <td>0</td>\n",
       "      <td>2</td>\n",
       "      <td>0</td>\n",
       "    </tr>\n",
       "    <tr>\n",
       "      <th>2</th>\n",
       "      <td>25-34</td>\n",
       "      <td>Male</td>\n",
       "      <td>Doctorate Degree</td>\n",
       "      <td>Europe</td>\n",
       "      <td>White</td>\n",
       "      <td>29</td>\n",
       "      <td>52</td>\n",
       "      <td>55</td>\n",
       "      <td>48</td>\n",
       "      <td>41</td>\n",
       "      <td>...</td>\n",
       "      <td>0</td>\n",
       "      <td>4</td>\n",
       "      <td>0</td>\n",
       "      <td>2</td>\n",
       "      <td>0</td>\n",
       "      <td>2</td>\n",
       "      <td>3</td>\n",
       "      <td>0</td>\n",
       "      <td>4</td>\n",
       "      <td>0</td>\n",
       "    </tr>\n",
       "    <tr>\n",
       "      <th>3</th>\n",
       "      <td>35-44</td>\n",
       "      <td>Male</td>\n",
       "      <td>Professional certificate/diploma</td>\n",
       "      <td>Europe</td>\n",
       "      <td>White</td>\n",
       "      <td>31</td>\n",
       "      <td>45</td>\n",
       "      <td>40</td>\n",
       "      <td>32</td>\n",
       "      <td>34</td>\n",
       "      <td>...</td>\n",
       "      <td>0</td>\n",
       "      <td>0</td>\n",
       "      <td>0</td>\n",
       "      <td>0</td>\n",
       "      <td>0</td>\n",
       "      <td>0</td>\n",
       "      <td>0</td>\n",
       "      <td>1</td>\n",
       "      <td>0</td>\n",
       "      <td>0</td>\n",
       "    </tr>\n",
       "    <tr>\n",
       "      <th>4</th>\n",
       "      <td>18-24</td>\n",
       "      <td>Female</td>\n",
       "      <td>Masters Degree</td>\n",
       "      <td>Europe</td>\n",
       "      <td>White</td>\n",
       "      <td>34</td>\n",
       "      <td>34</td>\n",
       "      <td>46</td>\n",
       "      <td>47</td>\n",
       "      <td>46</td>\n",
       "      <td>...</td>\n",
       "      <td>0</td>\n",
       "      <td>0</td>\n",
       "      <td>0</td>\n",
       "      <td>2</td>\n",
       "      <td>0</td>\n",
       "      <td>0</td>\n",
       "      <td>0</td>\n",
       "      <td>0</td>\n",
       "      <td>2</td>\n",
       "      <td>0</td>\n",
       "    </tr>\n",
       "    <tr>\n",
       "      <th>5</th>\n",
       "      <td>35-44</td>\n",
       "      <td>Female</td>\n",
       "      <td>Doctorate Degree</td>\n",
       "      <td>Europe</td>\n",
       "      <td>White</td>\n",
       "      <td>43</td>\n",
       "      <td>28</td>\n",
       "      <td>43</td>\n",
       "      <td>41</td>\n",
       "      <td>50</td>\n",
       "      <td>...</td>\n",
       "      <td>0</td>\n",
       "      <td>1</td>\n",
       "      <td>0</td>\n",
       "      <td>0</td>\n",
       "      <td>1</td>\n",
       "      <td>0</td>\n",
       "      <td>0</td>\n",
       "      <td>2</td>\n",
       "      <td>2</td>\n",
       "      <td>0</td>\n",
       "    </tr>\n",
       "  </tbody>\n",
       "</table>\n",
       "<p>5 rows × 26 columns</p>\n",
       "</div>"
      ],
      "text/plain": [
       "      Age  Gender                         Education Continent Ethnicity  \\\n",
       "ID                                                                        \n",
       "1   35-44  Female  Professional certificate/diploma  Europe    Mixed      \n",
       "2   25-34  Male    Doctorate Degree                  Europe    White      \n",
       "3   35-44  Male    Professional certificate/diploma  Europe    White      \n",
       "4   18-24  Female  Masters Degree                    Europe    White      \n",
       "5   35-44  Female  Doctorate Degree                  Europe    White      \n",
       "\n",
       "    NScore  EScore  OScore  AScore  CScore  ...  Crack  Ecstasy  Heroin  \\\n",
       "ID                                          ...                           \n",
       "1   39      36      42      37      42      ...  0      0        0        \n",
       "2   29      52      55      48      41      ...  0      4        0        \n",
       "3   31      45      40      32      34      ...  0      0        0        \n",
       "4   34      34      46      47      46      ...  0      0        0        \n",
       "5   43      28      43      41      50      ...  0      1        0        \n",
       "\n",
       "    Ketamine  Legalh  LSD  Meth  Mushroom  Nicotine  VSA  \n",
       "ID                                                        \n",
       "1   0         0       0    0     0         2         0    \n",
       "2   2         0       2    3     0         4         0    \n",
       "3   0         0       0    0     1         0         0    \n",
       "4   2         0       0    0     0         2         0    \n",
       "5   0         1       0    0     2         2         0    \n",
       "\n",
       "[5 rows x 26 columns]"
      ]
     },
     "execution_count": 336,
     "metadata": {},
     "output_type": "execute_result"
    }
   ],
   "source": [
    "df_clean.head()"
   ]
  },
  {
   "cell_type": "code",
   "execution_count": 337,
   "metadata": {},
   "outputs": [
    {
     "name": "stdout",
     "output_type": "stream",
     "text": [
      "(1885, 26)\n"
     ]
    },
    {
     "data": {
      "text/html": [
       "<div>\n",
       "<style scoped>\n",
       "    .dataframe tbody tr th:only-of-type {\n",
       "        vertical-align: middle;\n",
       "    }\n",
       "\n",
       "    .dataframe tbody tr th {\n",
       "        vertical-align: top;\n",
       "    }\n",
       "\n",
       "    .dataframe thead th {\n",
       "        text-align: right;\n",
       "    }\n",
       "</style>\n",
       "<table border=\"1\" class=\"dataframe\">\n",
       "  <thead>\n",
       "    <tr style=\"text-align: right;\">\n",
       "      <th></th>\n",
       "      <th>dataFeatures</th>\n",
       "      <th>dataType</th>\n",
       "      <th>null</th>\n",
       "      <th>unique</th>\n",
       "      <th>uniqueSample</th>\n",
       "    </tr>\n",
       "  </thead>\n",
       "  <tbody>\n",
       "    <tr>\n",
       "      <th>0</th>\n",
       "      <td>Age</td>\n",
       "      <td>object</td>\n",
       "      <td>0</td>\n",
       "      <td>6</td>\n",
       "      <td>[18-24, 45-54]</td>\n",
       "    </tr>\n",
       "    <tr>\n",
       "      <th>1</th>\n",
       "      <td>Gender</td>\n",
       "      <td>object</td>\n",
       "      <td>0</td>\n",
       "      <td>2</td>\n",
       "      <td>[Female, Male]</td>\n",
       "    </tr>\n",
       "    <tr>\n",
       "      <th>2</th>\n",
       "      <td>Education</td>\n",
       "      <td>object</td>\n",
       "      <td>0</td>\n",
       "      <td>7</td>\n",
       "      <td>[University Degree, Doctorate Degree]</td>\n",
       "    </tr>\n",
       "    <tr>\n",
       "      <th>3</th>\n",
       "      <td>Continent</td>\n",
       "      <td>object</td>\n",
       "      <td>0</td>\n",
       "      <td>4</td>\n",
       "      <td>[Others, Oceania]</td>\n",
       "    </tr>\n",
       "    <tr>\n",
       "      <th>4</th>\n",
       "      <td>Ethnicity</td>\n",
       "      <td>object</td>\n",
       "      <td>0</td>\n",
       "      <td>5</td>\n",
       "      <td>[Others, Asian]</td>\n",
       "    </tr>\n",
       "    <tr>\n",
       "      <th>5</th>\n",
       "      <td>NScore</td>\n",
       "      <td>int64</td>\n",
       "      <td>0</td>\n",
       "      <td>49</td>\n",
       "      <td>[49, 51]</td>\n",
       "    </tr>\n",
       "    <tr>\n",
       "      <th>6</th>\n",
       "      <td>EScore</td>\n",
       "      <td>int64</td>\n",
       "      <td>0</td>\n",
       "      <td>42</td>\n",
       "      <td>[50, 27]</td>\n",
       "    </tr>\n",
       "    <tr>\n",
       "      <th>7</th>\n",
       "      <td>OScore</td>\n",
       "      <td>int64</td>\n",
       "      <td>0</td>\n",
       "      <td>35</td>\n",
       "      <td>[54, 38]</td>\n",
       "    </tr>\n",
       "    <tr>\n",
       "      <th>8</th>\n",
       "      <td>AScore</td>\n",
       "      <td>int64</td>\n",
       "      <td>0</td>\n",
       "      <td>41</td>\n",
       "      <td>[59, 55]</td>\n",
       "    </tr>\n",
       "    <tr>\n",
       "      <th>9</th>\n",
       "      <td>CScore</td>\n",
       "      <td>int64</td>\n",
       "      <td>0</td>\n",
       "      <td>41</td>\n",
       "      <td>[48, 33]</td>\n",
       "    </tr>\n",
       "    <tr>\n",
       "      <th>10</th>\n",
       "      <td>Alcohol</td>\n",
       "      <td>int64</td>\n",
       "      <td>0</td>\n",
       "      <td>7</td>\n",
       "      <td>[5, 4]</td>\n",
       "    </tr>\n",
       "    <tr>\n",
       "      <th>11</th>\n",
       "      <td>Amphet</td>\n",
       "      <td>int64</td>\n",
       "      <td>0</td>\n",
       "      <td>7</td>\n",
       "      <td>[1, 3]</td>\n",
       "    </tr>\n",
       "    <tr>\n",
       "      <th>12</th>\n",
       "      <td>Amyl</td>\n",
       "      <td>int64</td>\n",
       "      <td>0</td>\n",
       "      <td>7</td>\n",
       "      <td>[2, 1]</td>\n",
       "    </tr>\n",
       "    <tr>\n",
       "      <th>13</th>\n",
       "      <td>Benzos</td>\n",
       "      <td>int64</td>\n",
       "      <td>0</td>\n",
       "      <td>7</td>\n",
       "      <td>[1, 3]</td>\n",
       "    </tr>\n",
       "    <tr>\n",
       "      <th>14</th>\n",
       "      <td>Cannabis</td>\n",
       "      <td>int64</td>\n",
       "      <td>0</td>\n",
       "      <td>7</td>\n",
       "      <td>[0, 5]</td>\n",
       "    </tr>\n",
       "    <tr>\n",
       "      <th>15</th>\n",
       "      <td>Coke</td>\n",
       "      <td>int64</td>\n",
       "      <td>0</td>\n",
       "      <td>7</td>\n",
       "      <td>[5, 0]</td>\n",
       "    </tr>\n",
       "    <tr>\n",
       "      <th>16</th>\n",
       "      <td>Crack</td>\n",
       "      <td>int64</td>\n",
       "      <td>0</td>\n",
       "      <td>7</td>\n",
       "      <td>[5, 6]</td>\n",
       "    </tr>\n",
       "    <tr>\n",
       "      <th>17</th>\n",
       "      <td>Ecstasy</td>\n",
       "      <td>int64</td>\n",
       "      <td>0</td>\n",
       "      <td>7</td>\n",
       "      <td>[4, 0]</td>\n",
       "    </tr>\n",
       "    <tr>\n",
       "      <th>18</th>\n",
       "      <td>Heroin</td>\n",
       "      <td>int64</td>\n",
       "      <td>0</td>\n",
       "      <td>7</td>\n",
       "      <td>[6, 4]</td>\n",
       "    </tr>\n",
       "    <tr>\n",
       "      <th>19</th>\n",
       "      <td>Ketamine</td>\n",
       "      <td>int64</td>\n",
       "      <td>0</td>\n",
       "      <td>7</td>\n",
       "      <td>[3, 1]</td>\n",
       "    </tr>\n",
       "    <tr>\n",
       "      <th>20</th>\n",
       "      <td>Legalh</td>\n",
       "      <td>int64</td>\n",
       "      <td>0</td>\n",
       "      <td>7</td>\n",
       "      <td>[1, 0]</td>\n",
       "    </tr>\n",
       "    <tr>\n",
       "      <th>21</th>\n",
       "      <td>LSD</td>\n",
       "      <td>int64</td>\n",
       "      <td>0</td>\n",
       "      <td>7</td>\n",
       "      <td>[1, 4]</td>\n",
       "    </tr>\n",
       "    <tr>\n",
       "      <th>22</th>\n",
       "      <td>Meth</td>\n",
       "      <td>int64</td>\n",
       "      <td>0</td>\n",
       "      <td>7</td>\n",
       "      <td>[5, 4]</td>\n",
       "    </tr>\n",
       "    <tr>\n",
       "      <th>23</th>\n",
       "      <td>Mushroom</td>\n",
       "      <td>int64</td>\n",
       "      <td>0</td>\n",
       "      <td>7</td>\n",
       "      <td>[1, 6]</td>\n",
       "    </tr>\n",
       "    <tr>\n",
       "      <th>24</th>\n",
       "      <td>Nicotine</td>\n",
       "      <td>int64</td>\n",
       "      <td>0</td>\n",
       "      <td>7</td>\n",
       "      <td>[3, 1]</td>\n",
       "    </tr>\n",
       "    <tr>\n",
       "      <th>25</th>\n",
       "      <td>VSA</td>\n",
       "      <td>int64</td>\n",
       "      <td>0</td>\n",
       "      <td>7</td>\n",
       "      <td>[5, 4]</td>\n",
       "    </tr>\n",
       "  </tbody>\n",
       "</table>\n",
       "</div>"
      ],
      "text/plain": [
       "   dataFeatures dataType  null  unique                           uniqueSample\n",
       "0   Age          object   0     6       [18-24, 45-54]                       \n",
       "1   Gender       object   0     2       [Female, Male]                       \n",
       "2   Education    object   0     7       [University Degree, Doctorate Degree]\n",
       "3   Continent    object   0     4       [Others, Oceania]                    \n",
       "4   Ethnicity    object   0     5       [Others, Asian]                      \n",
       "5   NScore       int64    0     49      [49, 51]                             \n",
       "6   EScore       int64    0     42      [50, 27]                             \n",
       "7   OScore       int64    0     35      [54, 38]                             \n",
       "8   AScore       int64    0     41      [59, 55]                             \n",
       "9   CScore       int64    0     41      [48, 33]                             \n",
       "10  Alcohol      int64    0     7       [5, 4]                               \n",
       "11  Amphet       int64    0     7       [1, 3]                               \n",
       "12  Amyl         int64    0     7       [2, 1]                               \n",
       "13  Benzos       int64    0     7       [1, 3]                               \n",
       "14  Cannabis     int64    0     7       [0, 5]                               \n",
       "15  Coke         int64    0     7       [5, 0]                               \n",
       "16  Crack        int64    0     7       [5, 6]                               \n",
       "17  Ecstasy      int64    0     7       [4, 0]                               \n",
       "18  Heroin       int64    0     7       [6, 4]                               \n",
       "19  Ketamine     int64    0     7       [3, 1]                               \n",
       "20  Legalh       int64    0     7       [1, 0]                               \n",
       "21  LSD          int64    0     7       [1, 4]                               \n",
       "22  Meth         int64    0     7       [5, 4]                               \n",
       "23  Mushroom     int64    0     7       [1, 6]                               \n",
       "24  Nicotine     int64    0     7       [3, 1]                               \n",
       "25  VSA          int64    0     7       [5, 4]                               "
      ]
     },
     "execution_count": 337,
     "metadata": {},
     "output_type": "execute_result"
    }
   ],
   "source": [
    "listItem = []\n",
    "for col in df_clean.columns :\n",
    "    listItem.append([col, df_clean[col].dtype, df_clean[col].isna().sum(),\n",
    "                    df_clean[col].nunique(), list(df_clean[col].drop_duplicates().sample(2).values)]);\n",
    "\n",
    "dfDesc = pd.DataFrame(columns=['dataFeatures', 'dataType', 'null', 'unique', 'uniqueSample'],\n",
    "                     data=listItem)\n",
    "print(df_clean.shape)\n",
    "dfDesc"
   ]
  },
  {
   "attachments": {},
   "cell_type": "markdown",
   "metadata": {},
   "source": [
    "Beforehand, we had 1885 rows and 32 columns in our data. 6 columns has been removed."
   ]
  },
  {
   "attachments": {},
   "cell_type": "markdown",
   "metadata": {},
   "source": [
    "# Data Analysis\n",
    "\n",
    "After performing data cleaning, our next step is to conduct an analysis to **identify the top co-occurring drugs and examine the associated characteristics of individuals who consume these drug combinations**. \n",
    "\n",
    "This analysis entails examining the relationships between different drugs to identify the top co-occurring drug combinations with the strongest correlations. \n",
    "Then, new columns will be created to indicate whether participants consume both co-occurring drugs (denoted as 1), or if they do not (denoted as 0). \n",
    "Afterward, the focus will be on exploring the associations between co-occurring drug consumers (target=1) and demographic variables, as well as behavioral variables. This comprehensive exploration aims to provide valuable insights into the patterns and profiles of drug users within the research study."
   ]
  },
  {
   "attachments": {},
   "cell_type": "markdown",
   "metadata": {},
   "source": [
    "### 1. Correlation"
   ]
  },
  {
   "cell_type": "code",
   "execution_count": 338,
   "metadata": {},
   "outputs": [
    {
     "data": {
      "text/html": [
       "<div>\n",
       "<style scoped>\n",
       "    .dataframe tbody tr th:only-of-type {\n",
       "        vertical-align: middle;\n",
       "    }\n",
       "\n",
       "    .dataframe tbody tr th {\n",
       "        vertical-align: top;\n",
       "    }\n",
       "\n",
       "    .dataframe thead th {\n",
       "        text-align: right;\n",
       "    }\n",
       "</style>\n",
       "<table border=\"1\" class=\"dataframe\">\n",
       "  <thead>\n",
       "    <tr style=\"text-align: right;\">\n",
       "      <th></th>\n",
       "      <th>Alcohol</th>\n",
       "      <th>Amphet</th>\n",
       "      <th>Amyl</th>\n",
       "      <th>Benzos</th>\n",
       "      <th>Cannabis</th>\n",
       "      <th>Coke</th>\n",
       "      <th>Crack</th>\n",
       "      <th>Ecstasy</th>\n",
       "      <th>Heroin</th>\n",
       "      <th>Ketamine</th>\n",
       "      <th>Legalh</th>\n",
       "      <th>LSD</th>\n",
       "      <th>Meth</th>\n",
       "      <th>Mushroom</th>\n",
       "      <th>Nicotine</th>\n",
       "      <th>VSA</th>\n",
       "    </tr>\n",
       "  </thead>\n",
       "  <tbody>\n",
       "    <tr>\n",
       "      <th>Alcohol</th>\n",
       "      <td>1.000000</td>\n",
       "      <td>-0.019874</td>\n",
       "      <td>0.075594</td>\n",
       "      <td>-0.029224</td>\n",
       "      <td>0.002330</td>\n",
       "      <td>0.053844</td>\n",
       "      <td>-0.057205</td>\n",
       "      <td>0.038368</td>\n",
       "      <td>-0.054706</td>\n",
       "      <td>0.047467</td>\n",
       "      <td>0.007961</td>\n",
       "      <td>-0.018231</td>\n",
       "      <td>-0.080322</td>\n",
       "      <td>-0.002445</td>\n",
       "      <td>0.043876</td>\n",
       "      <td>-0.003645</td>\n",
       "    </tr>\n",
       "    <tr>\n",
       "      <th>Amphet</th>\n",
       "      <td>-0.019874</td>\n",
       "      <td>1.000000</td>\n",
       "      <td>0.364245</td>\n",
       "      <td>0.505061</td>\n",
       "      <td>0.502548</td>\n",
       "      <td>0.605431</td>\n",
       "      <td>0.338850</td>\n",
       "      <td>0.579192</td>\n",
       "      <td>0.382546</td>\n",
       "      <td>0.404472</td>\n",
       "      <td>0.481968</td>\n",
       "      <td>0.496598</td>\n",
       "      <td>0.421956</td>\n",
       "      <td>0.481950</td>\n",
       "      <td>0.393667</td>\n",
       "      <td>0.331140</td>\n",
       "    </tr>\n",
       "    <tr>\n",
       "      <th>Amyl</th>\n",
       "      <td>0.075594</td>\n",
       "      <td>0.364245</td>\n",
       "      <td>1.000000</td>\n",
       "      <td>0.217389</td>\n",
       "      <td>0.215248</td>\n",
       "      <td>0.393278</td>\n",
       "      <td>0.180671</td>\n",
       "      <td>0.355915</td>\n",
       "      <td>0.171750</td>\n",
       "      <td>0.341484</td>\n",
       "      <td>0.213318</td>\n",
       "      <td>0.206202</td>\n",
       "      <td>0.080643</td>\n",
       "      <td>0.235316</td>\n",
       "      <td>0.226595</td>\n",
       "      <td>0.188280</td>\n",
       "    </tr>\n",
       "    <tr>\n",
       "      <th>Benzos</th>\n",
       "      <td>-0.029224</td>\n",
       "      <td>0.505061</td>\n",
       "      <td>0.217389</td>\n",
       "      <td>1.000000</td>\n",
       "      <td>0.370676</td>\n",
       "      <td>0.467510</td>\n",
       "      <td>0.371153</td>\n",
       "      <td>0.373751</td>\n",
       "      <td>0.435455</td>\n",
       "      <td>0.317265</td>\n",
       "      <td>0.346590</td>\n",
       "      <td>0.370143</td>\n",
       "      <td>0.514272</td>\n",
       "      <td>0.374776</td>\n",
       "      <td>0.318038</td>\n",
       "      <td>0.315883</td>\n",
       "    </tr>\n",
       "    <tr>\n",
       "      <th>Cannabis</th>\n",
       "      <td>0.002330</td>\n",
       "      <td>0.502548</td>\n",
       "      <td>0.215248</td>\n",
       "      <td>0.370676</td>\n",
       "      <td>1.000000</td>\n",
       "      <td>0.476375</td>\n",
       "      <td>0.241320</td>\n",
       "      <td>0.565297</td>\n",
       "      <td>0.239651</td>\n",
       "      <td>0.321649</td>\n",
       "      <td>0.577157</td>\n",
       "      <td>0.543240</td>\n",
       "      <td>0.321803</td>\n",
       "      <td>0.593579</td>\n",
       "      <td>0.515582</td>\n",
       "      <td>0.291365</td>\n",
       "    </tr>\n",
       "    <tr>\n",
       "      <th>Coke</th>\n",
       "      <td>0.053844</td>\n",
       "      <td>0.605431</td>\n",
       "      <td>0.393278</td>\n",
       "      <td>0.467510</td>\n",
       "      <td>0.476375</td>\n",
       "      <td>1.000000</td>\n",
       "      <td>0.407330</td>\n",
       "      <td>0.629823</td>\n",
       "      <td>0.429324</td>\n",
       "      <td>0.465759</td>\n",
       "      <td>0.421363</td>\n",
       "      <td>0.462780</td>\n",
       "      <td>0.375504</td>\n",
       "      <td>0.468099</td>\n",
       "      <td>0.414394</td>\n",
       "      <td>0.324091</td>\n",
       "    </tr>\n",
       "    <tr>\n",
       "      <th>Crack</th>\n",
       "      <td>-0.057205</td>\n",
       "      <td>0.338850</td>\n",
       "      <td>0.180671</td>\n",
       "      <td>0.371153</td>\n",
       "      <td>0.241320</td>\n",
       "      <td>0.407330</td>\n",
       "      <td>1.000000</td>\n",
       "      <td>0.260246</td>\n",
       "      <td>0.543465</td>\n",
       "      <td>0.271255</td>\n",
       "      <td>0.198971</td>\n",
       "      <td>0.307022</td>\n",
       "      <td>0.391481</td>\n",
       "      <td>0.293532</td>\n",
       "      <td>0.256377</td>\n",
       "      <td>0.308242</td>\n",
       "    </tr>\n",
       "    <tr>\n",
       "      <th>Ecstasy</th>\n",
       "      <td>0.038368</td>\n",
       "      <td>0.579192</td>\n",
       "      <td>0.355915</td>\n",
       "      <td>0.373751</td>\n",
       "      <td>0.565297</td>\n",
       "      <td>0.629823</td>\n",
       "      <td>0.260246</td>\n",
       "      <td>1.000000</td>\n",
       "      <td>0.289653</td>\n",
       "      <td>0.524569</td>\n",
       "      <td>0.569860</td>\n",
       "      <td>0.581545</td>\n",
       "      <td>0.312112</td>\n",
       "      <td>0.565209</td>\n",
       "      <td>0.392670</td>\n",
       "      <td>0.284837</td>\n",
       "    </tr>\n",
       "    <tr>\n",
       "      <th>Heroin</th>\n",
       "      <td>-0.054706</td>\n",
       "      <td>0.382546</td>\n",
       "      <td>0.171750</td>\n",
       "      <td>0.435455</td>\n",
       "      <td>0.239651</td>\n",
       "      <td>0.429324</td>\n",
       "      <td>0.543465</td>\n",
       "      <td>0.289653</td>\n",
       "      <td>1.000000</td>\n",
       "      <td>0.298591</td>\n",
       "      <td>0.243886</td>\n",
       "      <td>0.343392</td>\n",
       "      <td>0.500383</td>\n",
       "      <td>0.298882</td>\n",
       "      <td>0.246349</td>\n",
       "      <td>0.314402</td>\n",
       "    </tr>\n",
       "    <tr>\n",
       "      <th>Ketamine</th>\n",
       "      <td>0.047467</td>\n",
       "      <td>0.404472</td>\n",
       "      <td>0.341484</td>\n",
       "      <td>0.317265</td>\n",
       "      <td>0.321649</td>\n",
       "      <td>0.465759</td>\n",
       "      <td>0.271255</td>\n",
       "      <td>0.524569</td>\n",
       "      <td>0.298591</td>\n",
       "      <td>1.000000</td>\n",
       "      <td>0.406547</td>\n",
       "      <td>0.415405</td>\n",
       "      <td>0.236919</td>\n",
       "      <td>0.411012</td>\n",
       "      <td>0.257145</td>\n",
       "      <td>0.214453</td>\n",
       "    </tr>\n",
       "    <tr>\n",
       "      <th>Legalh</th>\n",
       "      <td>0.007961</td>\n",
       "      <td>0.481968</td>\n",
       "      <td>0.213318</td>\n",
       "      <td>0.346590</td>\n",
       "      <td>0.577157</td>\n",
       "      <td>0.421363</td>\n",
       "      <td>0.198971</td>\n",
       "      <td>0.569860</td>\n",
       "      <td>0.243886</td>\n",
       "      <td>0.406547</td>\n",
       "      <td>1.000000</td>\n",
       "      <td>0.476552</td>\n",
       "      <td>0.348533</td>\n",
       "      <td>0.548725</td>\n",
       "      <td>0.347189</td>\n",
       "      <td>0.310037</td>\n",
       "    </tr>\n",
       "    <tr>\n",
       "      <th>LSD</th>\n",
       "      <td>-0.018231</td>\n",
       "      <td>0.496598</td>\n",
       "      <td>0.206202</td>\n",
       "      <td>0.370143</td>\n",
       "      <td>0.543240</td>\n",
       "      <td>0.462780</td>\n",
       "      <td>0.307022</td>\n",
       "      <td>0.581545</td>\n",
       "      <td>0.343392</td>\n",
       "      <td>0.415405</td>\n",
       "      <td>0.476552</td>\n",
       "      <td>1.000000</td>\n",
       "      <td>0.339334</td>\n",
       "      <td>0.674113</td>\n",
       "      <td>0.310078</td>\n",
       "      <td>0.293050</td>\n",
       "    </tr>\n",
       "    <tr>\n",
       "      <th>Meth</th>\n",
       "      <td>-0.080322</td>\n",
       "      <td>0.421956</td>\n",
       "      <td>0.080643</td>\n",
       "      <td>0.514272</td>\n",
       "      <td>0.321803</td>\n",
       "      <td>0.375504</td>\n",
       "      <td>0.391481</td>\n",
       "      <td>0.312112</td>\n",
       "      <td>0.500383</td>\n",
       "      <td>0.236919</td>\n",
       "      <td>0.348533</td>\n",
       "      <td>0.339334</td>\n",
       "      <td>1.000000</td>\n",
       "      <td>0.333119</td>\n",
       "      <td>0.253915</td>\n",
       "      <td>0.309499</td>\n",
       "    </tr>\n",
       "    <tr>\n",
       "      <th>Mushroom</th>\n",
       "      <td>-0.002445</td>\n",
       "      <td>0.481950</td>\n",
       "      <td>0.235316</td>\n",
       "      <td>0.374776</td>\n",
       "      <td>0.593579</td>\n",
       "      <td>0.468099</td>\n",
       "      <td>0.293532</td>\n",
       "      <td>0.565209</td>\n",
       "      <td>0.298882</td>\n",
       "      <td>0.411012</td>\n",
       "      <td>0.548725</td>\n",
       "      <td>0.674113</td>\n",
       "      <td>0.333119</td>\n",
       "      <td>1.000000</td>\n",
       "      <td>0.338502</td>\n",
       "      <td>0.266447</td>\n",
       "    </tr>\n",
       "    <tr>\n",
       "      <th>Nicotine</th>\n",
       "      <td>0.043876</td>\n",
       "      <td>0.393667</td>\n",
       "      <td>0.226595</td>\n",
       "      <td>0.318038</td>\n",
       "      <td>0.515582</td>\n",
       "      <td>0.414394</td>\n",
       "      <td>0.256377</td>\n",
       "      <td>0.392670</td>\n",
       "      <td>0.246349</td>\n",
       "      <td>0.257145</td>\n",
       "      <td>0.347189</td>\n",
       "      <td>0.310078</td>\n",
       "      <td>0.253915</td>\n",
       "      <td>0.338502</td>\n",
       "      <td>1.000000</td>\n",
       "      <td>0.293649</td>\n",
       "    </tr>\n",
       "    <tr>\n",
       "      <th>VSA</th>\n",
       "      <td>-0.003645</td>\n",
       "      <td>0.331140</td>\n",
       "      <td>0.188280</td>\n",
       "      <td>0.315883</td>\n",
       "      <td>0.291365</td>\n",
       "      <td>0.324091</td>\n",
       "      <td>0.308242</td>\n",
       "      <td>0.284837</td>\n",
       "      <td>0.314402</td>\n",
       "      <td>0.214453</td>\n",
       "      <td>0.310037</td>\n",
       "      <td>0.293050</td>\n",
       "      <td>0.309499</td>\n",
       "      <td>0.266447</td>\n",
       "      <td>0.293649</td>\n",
       "      <td>1.000000</td>\n",
       "    </tr>\n",
       "  </tbody>\n",
       "</table>\n",
       "</div>"
      ],
      "text/plain": [
       "           Alcohol    Amphet      Amyl    Benzos  Cannabis      Coke  \\\n",
       "Alcohol   1.000000 -0.019874  0.075594 -0.029224  0.002330  0.053844   \n",
       "Amphet   -0.019874  1.000000  0.364245  0.505061  0.502548  0.605431   \n",
       "Amyl      0.075594  0.364245  1.000000  0.217389  0.215248  0.393278   \n",
       "Benzos   -0.029224  0.505061  0.217389  1.000000  0.370676  0.467510   \n",
       "Cannabis  0.002330  0.502548  0.215248  0.370676  1.000000  0.476375   \n",
       "Coke      0.053844  0.605431  0.393278  0.467510  0.476375  1.000000   \n",
       "Crack    -0.057205  0.338850  0.180671  0.371153  0.241320  0.407330   \n",
       "Ecstasy   0.038368  0.579192  0.355915  0.373751  0.565297  0.629823   \n",
       "Heroin   -0.054706  0.382546  0.171750  0.435455  0.239651  0.429324   \n",
       "Ketamine  0.047467  0.404472  0.341484  0.317265  0.321649  0.465759   \n",
       "Legalh    0.007961  0.481968  0.213318  0.346590  0.577157  0.421363   \n",
       "LSD      -0.018231  0.496598  0.206202  0.370143  0.543240  0.462780   \n",
       "Meth     -0.080322  0.421956  0.080643  0.514272  0.321803  0.375504   \n",
       "Mushroom -0.002445  0.481950  0.235316  0.374776  0.593579  0.468099   \n",
       "Nicotine  0.043876  0.393667  0.226595  0.318038  0.515582  0.414394   \n",
       "VSA      -0.003645  0.331140  0.188280  0.315883  0.291365  0.324091   \n",
       "\n",
       "             Crack   Ecstasy    Heroin  Ketamine    Legalh       LSD  \\\n",
       "Alcohol  -0.057205  0.038368 -0.054706  0.047467  0.007961 -0.018231   \n",
       "Amphet    0.338850  0.579192  0.382546  0.404472  0.481968  0.496598   \n",
       "Amyl      0.180671  0.355915  0.171750  0.341484  0.213318  0.206202   \n",
       "Benzos    0.371153  0.373751  0.435455  0.317265  0.346590  0.370143   \n",
       "Cannabis  0.241320  0.565297  0.239651  0.321649  0.577157  0.543240   \n",
       "Coke      0.407330  0.629823  0.429324  0.465759  0.421363  0.462780   \n",
       "Crack     1.000000  0.260246  0.543465  0.271255  0.198971  0.307022   \n",
       "Ecstasy   0.260246  1.000000  0.289653  0.524569  0.569860  0.581545   \n",
       "Heroin    0.543465  0.289653  1.000000  0.298591  0.243886  0.343392   \n",
       "Ketamine  0.271255  0.524569  0.298591  1.000000  0.406547  0.415405   \n",
       "Legalh    0.198971  0.569860  0.243886  0.406547  1.000000  0.476552   \n",
       "LSD       0.307022  0.581545  0.343392  0.415405  0.476552  1.000000   \n",
       "Meth      0.391481  0.312112  0.500383  0.236919  0.348533  0.339334   \n",
       "Mushroom  0.293532  0.565209  0.298882  0.411012  0.548725  0.674113   \n",
       "Nicotine  0.256377  0.392670  0.246349  0.257145  0.347189  0.310078   \n",
       "VSA       0.308242  0.284837  0.314402  0.214453  0.310037  0.293050   \n",
       "\n",
       "              Meth  Mushroom  Nicotine       VSA  \n",
       "Alcohol  -0.080322 -0.002445  0.043876 -0.003645  \n",
       "Amphet    0.421956  0.481950  0.393667  0.331140  \n",
       "Amyl      0.080643  0.235316  0.226595  0.188280  \n",
       "Benzos    0.514272  0.374776  0.318038  0.315883  \n",
       "Cannabis  0.321803  0.593579  0.515582  0.291365  \n",
       "Coke      0.375504  0.468099  0.414394  0.324091  \n",
       "Crack     0.391481  0.293532  0.256377  0.308242  \n",
       "Ecstasy   0.312112  0.565209  0.392670  0.284837  \n",
       "Heroin    0.500383  0.298882  0.246349  0.314402  \n",
       "Ketamine  0.236919  0.411012  0.257145  0.214453  \n",
       "Legalh    0.348533  0.548725  0.347189  0.310037  \n",
       "LSD       0.339334  0.674113  0.310078  0.293050  \n",
       "Meth      1.000000  0.333119  0.253915  0.309499  \n",
       "Mushroom  0.333119  1.000000  0.338502  0.266447  \n",
       "Nicotine  0.253915  0.338502  1.000000  0.293649  \n",
       "VSA       0.309499  0.266447  0.293649  1.000000  "
      ]
     },
     "execution_count": 338,
     "metadata": {},
     "output_type": "execute_result"
    }
   ],
   "source": [
    "# To see the co-occuring drug use, start by see the correlation between each drugs using Spearman method.\n",
    "\n",
    "drugs_corr = df_clean.iloc[:,10:].corr(method='spearman')\n",
    "drugs_corr"
   ]
  },
  {
   "cell_type": "code",
   "execution_count": 339,
   "metadata": {},
   "outputs": [
    {
     "data": {
      "text/plain": [
       "<Axes: >"
      ]
     },
     "execution_count": 339,
     "metadata": {},
     "output_type": "execute_result"
    },
    {
     "data": {
      "image/png": "[encoded data removed]",
      "text/plain": [
       "<Figure size 1000x1000 with 2 Axes>"
      ]
     },
     "metadata": {},
     "output_type": "display_data"
    }
   ],
   "source": [
    "matrix = np.triu(df_clean.iloc[:,10:].corr(method='spearman'))\n",
    "\n",
    "fig, ax = plt.subplots(figsize=(10, 10))\n",
    "sns.heatmap(\n",
    "    data=df_clean.iloc[:,10:].corr(method='spearman'),\n",
    "    annot = True,\n",
    "    cmap = 'coolwarm',\n",
    "    center = 0,\n",
    "    mask = matrix\n",
    ")"
   ]
  },
  {
   "attachments": {},
   "cell_type": "markdown",
   "metadata": {},
   "source": [
    "From this figure, we can conclude that the top three co-occuring drugs used in this data are = \n",
    "1. LSD and Mushroom\n",
    "2. Ecstasy and Coke\n",
    "3. Mushroom and Cannabis \n",
    "\n",
    "Moving forward, our focus will be on exploring the characteristics of participants who consume the the top co-occurring drug combinations identified in the analysis: **LSD and Mushroom**."
   ]
  },
  {
   "cell_type": "code",
   "execution_count": 340,
   "metadata": {},
   "outputs": [
    {
     "data": {
      "text/html": [
       "<div>\n",
       "<style scoped>\n",
       "    .dataframe tbody tr th:only-of-type {\n",
       "        vertical-align: middle;\n",
       "    }\n",
       "\n",
       "    .dataframe tbody tr th {\n",
       "        vertical-align: top;\n",
       "    }\n",
       "\n",
       "    .dataframe thead th {\n",
       "        text-align: right;\n",
       "    }\n",
       "</style>\n",
       "<table border=\"1\" class=\"dataframe\">\n",
       "  <thead>\n",
       "    <tr style=\"text-align: right;\">\n",
       "      <th></th>\n",
       "      <th>Age</th>\n",
       "      <th>Gender</th>\n",
       "      <th>Education</th>\n",
       "      <th>Continent</th>\n",
       "      <th>Ethnicity</th>\n",
       "      <th>NScore</th>\n",
       "      <th>EScore</th>\n",
       "      <th>OScore</th>\n",
       "      <th>AScore</th>\n",
       "      <th>CScore</th>\n",
       "      <th>LSD</th>\n",
       "      <th>Mushroom</th>\n",
       "    </tr>\n",
       "    <tr>\n",
       "      <th>ID</th>\n",
       "      <th></th>\n",
       "      <th></th>\n",
       "      <th></th>\n",
       "      <th></th>\n",
       "      <th></th>\n",
       "      <th></th>\n",
       "      <th></th>\n",
       "      <th></th>\n",
       "      <th></th>\n",
       "      <th></th>\n",
       "      <th></th>\n",
       "      <th></th>\n",
       "    </tr>\n",
       "  </thead>\n",
       "  <tbody>\n",
       "    <tr>\n",
       "      <th>1</th>\n",
       "      <td>35-44</td>\n",
       "      <td>Female</td>\n",
       "      <td>Professional certificate/diploma</td>\n",
       "      <td>Europe</td>\n",
       "      <td>Mixed</td>\n",
       "      <td>39</td>\n",
       "      <td>36</td>\n",
       "      <td>42</td>\n",
       "      <td>37</td>\n",
       "      <td>42</td>\n",
       "      <td>0</td>\n",
       "      <td>0</td>\n",
       "    </tr>\n",
       "    <tr>\n",
       "      <th>2</th>\n",
       "      <td>25-34</td>\n",
       "      <td>Male</td>\n",
       "      <td>Doctorate Degree</td>\n",
       "      <td>Europe</td>\n",
       "      <td>White</td>\n",
       "      <td>29</td>\n",
       "      <td>52</td>\n",
       "      <td>55</td>\n",
       "      <td>48</td>\n",
       "      <td>41</td>\n",
       "      <td>2</td>\n",
       "      <td>0</td>\n",
       "    </tr>\n",
       "    <tr>\n",
       "      <th>3</th>\n",
       "      <td>35-44</td>\n",
       "      <td>Male</td>\n",
       "      <td>Professional certificate/diploma</td>\n",
       "      <td>Europe</td>\n",
       "      <td>White</td>\n",
       "      <td>31</td>\n",
       "      <td>45</td>\n",
       "      <td>40</td>\n",
       "      <td>32</td>\n",
       "      <td>34</td>\n",
       "      <td>0</td>\n",
       "      <td>1</td>\n",
       "    </tr>\n",
       "    <tr>\n",
       "      <th>4</th>\n",
       "      <td>18-24</td>\n",
       "      <td>Female</td>\n",
       "      <td>Masters Degree</td>\n",
       "      <td>Europe</td>\n",
       "      <td>White</td>\n",
       "      <td>34</td>\n",
       "      <td>34</td>\n",
       "      <td>46</td>\n",
       "      <td>47</td>\n",
       "      <td>46</td>\n",
       "      <td>0</td>\n",
       "      <td>0</td>\n",
       "    </tr>\n",
       "    <tr>\n",
       "      <th>5</th>\n",
       "      <td>35-44</td>\n",
       "      <td>Female</td>\n",
       "      <td>Doctorate Degree</td>\n",
       "      <td>Europe</td>\n",
       "      <td>White</td>\n",
       "      <td>43</td>\n",
       "      <td>28</td>\n",
       "      <td>43</td>\n",
       "      <td>41</td>\n",
       "      <td>50</td>\n",
       "      <td>0</td>\n",
       "      <td>2</td>\n",
       "    </tr>\n",
       "    <tr>\n",
       "      <th>...</th>\n",
       "      <td>...</td>\n",
       "      <td>...</td>\n",
       "      <td>...</td>\n",
       "      <td>...</td>\n",
       "      <td>...</td>\n",
       "      <td>...</td>\n",
       "      <td>...</td>\n",
       "      <td>...</td>\n",
       "      <td>...</td>\n",
       "      <td>...</td>\n",
       "      <td>...</td>\n",
       "      <td>...</td>\n",
       "    </tr>\n",
       "    <tr>\n",
       "      <th>1884</th>\n",
       "      <td>18-24</td>\n",
       "      <td>Female</td>\n",
       "      <td>Some college or university, no certificate or degree</td>\n",
       "      <td>America</td>\n",
       "      <td>White</td>\n",
       "      <td>25</td>\n",
       "      <td>51</td>\n",
       "      <td>57</td>\n",
       "      <td>48</td>\n",
       "      <td>33</td>\n",
       "      <td>3</td>\n",
       "      <td>0</td>\n",
       "    </tr>\n",
       "    <tr>\n",
       "      <th>1885</th>\n",
       "      <td>18-24</td>\n",
       "      <td>Male</td>\n",
       "      <td>Some college or university, no certificate or degree</td>\n",
       "      <td>America</td>\n",
       "      <td>White</td>\n",
       "      <td>33</td>\n",
       "      <td>51</td>\n",
       "      <td>50</td>\n",
       "      <td>48</td>\n",
       "      <td>30</td>\n",
       "      <td>5</td>\n",
       "      <td>4</td>\n",
       "    </tr>\n",
       "    <tr>\n",
       "      <th>1886</th>\n",
       "      <td>25-34</td>\n",
       "      <td>Female</td>\n",
       "      <td>University Degree</td>\n",
       "      <td>America</td>\n",
       "      <td>White</td>\n",
       "      <td>47</td>\n",
       "      <td>30</td>\n",
       "      <td>37</td>\n",
       "      <td>31</td>\n",
       "      <td>31</td>\n",
       "      <td>2</td>\n",
       "      <td>2</td>\n",
       "    </tr>\n",
       "    <tr>\n",
       "      <th>1887</th>\n",
       "      <td>18-24</td>\n",
       "      <td>Female</td>\n",
       "      <td>Some college or university, no certificate or degree</td>\n",
       "      <td>America</td>\n",
       "      <td>White</td>\n",
       "      <td>45</td>\n",
       "      <td>26</td>\n",
       "      <td>48</td>\n",
       "      <td>32</td>\n",
       "      <td>22</td>\n",
       "      <td>3</td>\n",
       "      <td>3</td>\n",
       "    </tr>\n",
       "    <tr>\n",
       "      <th>1888</th>\n",
       "      <td>18-24</td>\n",
       "      <td>Male</td>\n",
       "      <td>Some college or university, no certificate or degree</td>\n",
       "      <td>Europe</td>\n",
       "      <td>White</td>\n",
       "      <td>31</td>\n",
       "      <td>53</td>\n",
       "      <td>56</td>\n",
       "      <td>50</td>\n",
       "      <td>45</td>\n",
       "      <td>3</td>\n",
       "      <td>3</td>\n",
       "    </tr>\n",
       "  </tbody>\n",
       "</table>\n",
       "<p>1885 rows × 12 columns</p>\n",
       "</div>"
      ],
      "text/plain": [
       "        Age  Gender                                             Education  \\\n",
       "ID                                                                          \n",
       "1     35-44  Female  Professional certificate/diploma                       \n",
       "2     25-34  Male    Doctorate Degree                                       \n",
       "3     35-44  Male    Professional certificate/diploma                       \n",
       "4     18-24  Female  Masters Degree                                         \n",
       "5     35-44  Female  Doctorate Degree                                       \n",
       "...     ...     ...             ...                                         \n",
       "1884  18-24  Female  Some college or university, no certificate or degree   \n",
       "1885  18-24  Male    Some college or university, no certificate or degree   \n",
       "1886  25-34  Female  University Degree                                      \n",
       "1887  18-24  Female  Some college or university, no certificate or degree   \n",
       "1888  18-24  Male    Some college or university, no certificate or degree   \n",
       "\n",
       "     Continent Ethnicity  NScore  EScore  OScore  AScore  CScore  LSD  \\\n",
       "ID                                                                      \n",
       "1     Europe    Mixed     39      36      42      37      42      0     \n",
       "2     Europe    White     29      52      55      48      41      2     \n",
       "3     Europe    White     31      45      40      32      34      0     \n",
       "4     Europe    White     34      34      46      47      46      0     \n",
       "5     Europe    White     43      28      43      41      50      0     \n",
       "...      ...      ...     ..      ..      ..      ..      ..     ..     \n",
       "1884  America   White     25      51      57      48      33      3     \n",
       "1885  America   White     33      51      50      48      30      5     \n",
       "1886  America   White     47      30      37      31      31      2     \n",
       "1887  America   White     45      26      48      32      22      3     \n",
       "1888  Europe    White     31      53      56      50      45      3     \n",
       "\n",
       "      Mushroom  \n",
       "ID              \n",
       "1     0         \n",
       "2     0         \n",
       "3     1         \n",
       "4     0         \n",
       "5     2         \n",
       "...  ..         \n",
       "1884  0         \n",
       "1885  4         \n",
       "1886  2         \n",
       "1887  3         \n",
       "1888  3         \n",
       "\n",
       "[1885 rows x 12 columns]"
      ]
     },
     "execution_count": 340,
     "metadata": {},
     "output_type": "execute_result"
    }
   ],
   "source": [
    "df_clean.head()\n",
    "df_final = df_clean.drop (columns= ['Alcohol','Amphet','Amyl','Benzos','Cannabis','Crack','Heroin','Ketamine','Legalh','Meth','Nicotine','VSA','Coke','Ecstasy']).copy()\n",
    "df_final\n",
    "\n",
    "# To make it easier, other columns except LSD and Mushroom will be dropped."
   ]
  },
  {
   "cell_type": "code",
   "execution_count": 341,
   "metadata": {},
   "outputs": [
    {
     "data": {
      "text/html": [
       "<div>\n",
       "<style scoped>\n",
       "    .dataframe tbody tr th:only-of-type {\n",
       "        vertical-align: middle;\n",
       "    }\n",
       "\n",
       "    .dataframe tbody tr th {\n",
       "        vertical-align: top;\n",
       "    }\n",
       "\n",
       "    .dataframe thead th {\n",
       "        text-align: right;\n",
       "    }\n",
       "</style>\n",
       "<table border=\"1\" class=\"dataframe\">\n",
       "  <thead>\n",
       "    <tr style=\"text-align: right;\">\n",
       "      <th></th>\n",
       "      <th>Age</th>\n",
       "      <th>Gender</th>\n",
       "      <th>Education</th>\n",
       "      <th>Continent</th>\n",
       "      <th>Ethnicity</th>\n",
       "      <th>NScore</th>\n",
       "      <th>EScore</th>\n",
       "      <th>OScore</th>\n",
       "      <th>AScore</th>\n",
       "      <th>CScore</th>\n",
       "      <th>LSD_Mushroom</th>\n",
       "    </tr>\n",
       "    <tr>\n",
       "      <th>ID</th>\n",
       "      <th></th>\n",
       "      <th></th>\n",
       "      <th></th>\n",
       "      <th></th>\n",
       "      <th></th>\n",
       "      <th></th>\n",
       "      <th></th>\n",
       "      <th></th>\n",
       "      <th></th>\n",
       "      <th></th>\n",
       "      <th></th>\n",
       "    </tr>\n",
       "  </thead>\n",
       "  <tbody>\n",
       "    <tr>\n",
       "      <th>1</th>\n",
       "      <td>35-44</td>\n",
       "      <td>Female</td>\n",
       "      <td>Professional certificate/diploma</td>\n",
       "      <td>Europe</td>\n",
       "      <td>Mixed</td>\n",
       "      <td>39</td>\n",
       "      <td>36</td>\n",
       "      <td>42</td>\n",
       "      <td>37</td>\n",
       "      <td>42</td>\n",
       "      <td>0</td>\n",
       "    </tr>\n",
       "    <tr>\n",
       "      <th>2</th>\n",
       "      <td>25-34</td>\n",
       "      <td>Male</td>\n",
       "      <td>Doctorate Degree</td>\n",
       "      <td>Europe</td>\n",
       "      <td>White</td>\n",
       "      <td>29</td>\n",
       "      <td>52</td>\n",
       "      <td>55</td>\n",
       "      <td>48</td>\n",
       "      <td>41</td>\n",
       "      <td>0</td>\n",
       "    </tr>\n",
       "    <tr>\n",
       "      <th>3</th>\n",
       "      <td>35-44</td>\n",
       "      <td>Male</td>\n",
       "      <td>Professional certificate/diploma</td>\n",
       "      <td>Europe</td>\n",
       "      <td>White</td>\n",
       "      <td>31</td>\n",
       "      <td>45</td>\n",
       "      <td>40</td>\n",
       "      <td>32</td>\n",
       "      <td>34</td>\n",
       "      <td>0</td>\n",
       "    </tr>\n",
       "    <tr>\n",
       "      <th>4</th>\n",
       "      <td>18-24</td>\n",
       "      <td>Female</td>\n",
       "      <td>Masters Degree</td>\n",
       "      <td>Europe</td>\n",
       "      <td>White</td>\n",
       "      <td>34</td>\n",
       "      <td>34</td>\n",
       "      <td>46</td>\n",
       "      <td>47</td>\n",
       "      <td>46</td>\n",
       "      <td>0</td>\n",
       "    </tr>\n",
       "    <tr>\n",
       "      <th>5</th>\n",
       "      <td>35-44</td>\n",
       "      <td>Female</td>\n",
       "      <td>Doctorate Degree</td>\n",
       "      <td>Europe</td>\n",
       "      <td>White</td>\n",
       "      <td>43</td>\n",
       "      <td>28</td>\n",
       "      <td>43</td>\n",
       "      <td>41</td>\n",
       "      <td>50</td>\n",
       "      <td>0</td>\n",
       "    </tr>\n",
       "    <tr>\n",
       "      <th>...</th>\n",
       "      <td>...</td>\n",
       "      <td>...</td>\n",
       "      <td>...</td>\n",
       "      <td>...</td>\n",
       "      <td>...</td>\n",
       "      <td>...</td>\n",
       "      <td>...</td>\n",
       "      <td>...</td>\n",
       "      <td>...</td>\n",
       "      <td>...</td>\n",
       "      <td>...</td>\n",
       "    </tr>\n",
       "    <tr>\n",
       "      <th>1884</th>\n",
       "      <td>18-24</td>\n",
       "      <td>Female</td>\n",
       "      <td>Some college or university, no certificate or degree</td>\n",
       "      <td>America</td>\n",
       "      <td>White</td>\n",
       "      <td>25</td>\n",
       "      <td>51</td>\n",
       "      <td>57</td>\n",
       "      <td>48</td>\n",
       "      <td>33</td>\n",
       "      <td>0</td>\n",
       "    </tr>\n",
       "    <tr>\n",
       "      <th>1885</th>\n",
       "      <td>18-24</td>\n",
       "      <td>Male</td>\n",
       "      <td>Some college or university, no certificate or degree</td>\n",
       "      <td>America</td>\n",
       "      <td>White</td>\n",
       "      <td>33</td>\n",
       "      <td>51</td>\n",
       "      <td>50</td>\n",
       "      <td>48</td>\n",
       "      <td>30</td>\n",
       "      <td>1</td>\n",
       "    </tr>\n",
       "    <tr>\n",
       "      <th>1886</th>\n",
       "      <td>25-34</td>\n",
       "      <td>Female</td>\n",
       "      <td>University Degree</td>\n",
       "      <td>America</td>\n",
       "      <td>White</td>\n",
       "      <td>47</td>\n",
       "      <td>30</td>\n",
       "      <td>37</td>\n",
       "      <td>31</td>\n",
       "      <td>31</td>\n",
       "      <td>0</td>\n",
       "    </tr>\n",
       "    <tr>\n",
       "      <th>1887</th>\n",
       "      <td>18-24</td>\n",
       "      <td>Female</td>\n",
       "      <td>Some college or university, no certificate or degree</td>\n",
       "      <td>America</td>\n",
       "      <td>White</td>\n",
       "      <td>45</td>\n",
       "      <td>26</td>\n",
       "      <td>48</td>\n",
       "      <td>32</td>\n",
       "      <td>22</td>\n",
       "      <td>1</td>\n",
       "    </tr>\n",
       "    <tr>\n",
       "      <th>1888</th>\n",
       "      <td>18-24</td>\n",
       "      <td>Male</td>\n",
       "      <td>Some college or university, no certificate or degree</td>\n",
       "      <td>Europe</td>\n",
       "      <td>White</td>\n",
       "      <td>31</td>\n",
       "      <td>53</td>\n",
       "      <td>56</td>\n",
       "      <td>50</td>\n",
       "      <td>45</td>\n",
       "      <td>1</td>\n",
       "    </tr>\n",
       "  </tbody>\n",
       "</table>\n",
       "<p>1885 rows × 11 columns</p>\n",
       "</div>"
      ],
      "text/plain": [
       "        Age  Gender                                             Education  \\\n",
       "ID                                                                          \n",
       "1     35-44  Female  Professional certificate/diploma                       \n",
       "2     25-34  Male    Doctorate Degree                                       \n",
       "3     35-44  Male    Professional certificate/diploma                       \n",
       "4     18-24  Female  Masters Degree                                         \n",
       "5     35-44  Female  Doctorate Degree                                       \n",
       "...     ...     ...             ...                                         \n",
       "1884  18-24  Female  Some college or university, no certificate or degree   \n",
       "1885  18-24  Male    Some college or university, no certificate or degree   \n",
       "1886  25-34  Female  University Degree                                      \n",
       "1887  18-24  Female  Some college or university, no certificate or degree   \n",
       "1888  18-24  Male    Some college or university, no certificate or degree   \n",
       "\n",
       "     Continent Ethnicity  NScore  EScore  OScore  AScore  CScore  LSD_Mushroom  \n",
       "ID                                                                              \n",
       "1     Europe    Mixed     39      36      42      37      42      0             \n",
       "2     Europe    White     29      52      55      48      41      0             \n",
       "3     Europe    White     31      45      40      32      34      0             \n",
       "4     Europe    White     34      34      46      47      46      0             \n",
       "5     Europe    White     43      28      43      41      50      0             \n",
       "...      ...      ...     ..      ..      ..      ..      ..     ..             \n",
       "1884  America   White     25      51      57      48      33      0             \n",
       "1885  America   White     33      51      50      48      30      1             \n",
       "1886  America   White     47      30      37      31      31      0             \n",
       "1887  America   White     45      26      48      32      22      1             \n",
       "1888  Europe    White     31      53      56      50      45      1             \n",
       "\n",
       "[1885 rows x 11 columns]"
      ]
     },
     "execution_count": 341,
     "metadata": {},
     "output_type": "execute_result"
    }
   ],
   "source": [
    "df_final['LSD_Mushroom'] = np.where((df_final['LSD'] > 2) & (df_final['Mushroom'] > 2), 1, 0)\n",
    "df_final = df_final.drop(columns=['LSD','Mushroom'])\n",
    "df_final\n",
    "\n",
    "# New columns will be created to distringuish participants who consume both LSD and Mushroom. Participants who consume these co-occuring drugs will be labeled as 1, while those who do not will be labeled as 0.\n"
   ]
  },
  {
   "attachments": {},
   "cell_type": "markdown",
   "metadata": {},
   "source": [
    "The new column indicates participants that has LSD_Mushroom = 1 are LSD_Mushroom consumers, and 0 are non consumers.\n",
    "\n",
    "We can start analyzing the characteristics of participants consumed LSD-Mushroom"
   ]
  },
  {
   "attachments": {},
   "cell_type": "markdown",
   "metadata": {},
   "source": [
    "### 2. Based on Demographic Variables = \n",
    "\n",
    "In this section, the main objective is to see the relationship of LSD_Mushroom consumption with its demographic variables of the consumers (Age,Gender, Education, Country, and Ethnicity)\n",
    "Through the analysis of LSD-Mushroom consumption, we aim to address the following question: \"Which demographic variables are associated with the consumption of LSD-Mushroom?\"\n",
    "\n",
    "Subsequently, based on the analysis, we can provide answers to the following questions:\n",
    "\n",
    "- Which age group exhibits the highest prevalence of LSD and mushroom consumers?\n",
    "- What gender demonstrates a higher prevalence of LSD and mushroom consumption?\n",
    "- Which educational background is most commonly associated with LSD and mushroom consumption among participants?\n",
    "- Which nationality has the most LSD-Mushroom consumers?\n",
    "- What ethnicity has the most LSD-Mushroom consumers?"
   ]
  },
  {
   "cell_type": "code",
   "execution_count": 342,
   "metadata": {},
   "outputs": [],
   "source": [
    "# function for chi square test\n",
    "def chi2_contingency_results(variable):\n",
    "    contingency_table = pd.crosstab(df_final[variable], df_final['LSD_Mushroom'])\n",
    "    chi2, pvalue, dof, expected = chi2_contingency(contingency_table)\n",
    "\n",
    "    print(f\"\\nVariable: {variable}\")\n",
    "    print(\"P-value:\", pvalue)\n",
    "    if pvalue > 0.05:\n",
    "        print(f\"pvalue > 0.05. Fail to reject H0.\")\n",
    "    else:\n",
    "        \n",
    "        print(f\"pvalue <= 0.05. Reject Ho.\")\n",
    "\n",
    "# Function for visualization purposes (Bar Plot)\n",
    "def plot_bar(variable):\n",
    "    ct = pd.crosstab(df_final[variable], df_final['LSD_Mushroom'], normalize='index')\n",
    "    ct['total'] = ct.sum(axis=1)\n",
    "    \n",
    "    plt.figure(figsize=(10, 4))\n",
    "    x = np.arange(df_final[variable].nunique())\n",
    "    plt.bar(x, ct['total'], label='Total')\n",
    "    plt.bar(x, ct[1], label='LSD_Mushroom')\n",
    "    plt.xlabel(f'{variable}')\n",
    "    plt.ylabel(f'Proportion of LSD_Mushroom Consumption per category')\n",
    "    plt.legend([0, 1])\n",
    "    plt.xticks(x, ct.index.tolist(), rotation=45, ha='right', va='top')\n",
    "    plt.title(variable)\n",
    "    plt.show()\n",
    "\n",
    "# Function for visualization purposes (Sunburst)\n",
    "def visualize_sunburst(variable):\n",
    "    fig = px.sunburst(df_final, path=[variable, 'LSD_Mushroom'], color='LSD_Mushroom',\n",
    "                      title=f'LSD_Mushroom Consumer Proportions Based on {variable}')\n",
    "    fig.show()"
   ]
  },
  {
   "attachments": {},
   "cell_type": "markdown",
   "metadata": {},
   "source": [
    "## 2a. LSD_Mushroom Consumption Relationship with Age\n",
    "\n",
    "Testing the relation between LSD_Mushroom consumption and Age\n",
    "**Hypothesis**\n",
    "- H0 = There is no association between LSD_Mushroom consumption and Age\n",
    "- H1 = There is an association between LSD_Mushroom consumption and Age\n"
   ]
  },
  {
   "cell_type": "code",
   "execution_count": 343,
   "metadata": {},
   "outputs": [
    {
     "name": "stdout",
     "output_type": "stream",
     "text": [
      "\n",
      "Variable: Age\n",
      "P-value: 5.921079959352144e-54\n",
      "pvalue <= 0.05. Reject Ho.\n"
     ]
    }
   ],
   "source": [
    "chi2_contingency_results('Age')\n",
    "\n",
    "# Reject H0, means There is an association between LSD_Mushroom consumption and Age."
   ]
  },
  {
   "cell_type": "code",
   "execution_count": 344,
   "metadata": {},
   "outputs": [
    {
     "data": {
      "text/html": [
       "<div>\n",
       "<style scoped>\n",
       "    .dataframe tbody tr th:only-of-type {\n",
       "        vertical-align: middle;\n",
       "    }\n",
       "\n",
       "    .dataframe tbody tr th {\n",
       "        vertical-align: top;\n",
       "    }\n",
       "\n",
       "    .dataframe thead th {\n",
       "        text-align: right;\n",
       "    }\n",
       "</style>\n",
       "<table border=\"1\" class=\"dataframe\">\n",
       "  <thead>\n",
       "    <tr style=\"text-align: right;\">\n",
       "      <th>LSD_Mushroom</th>\n",
       "      <th>0</th>\n",
       "      <th>1</th>\n",
       "      <th>Total</th>\n",
       "    </tr>\n",
       "    <tr>\n",
       "      <th>Age</th>\n",
       "      <th></th>\n",
       "      <th></th>\n",
       "      <th></th>\n",
       "    </tr>\n",
       "  </thead>\n",
       "  <tbody>\n",
       "    <tr>\n",
       "      <th>18-24</th>\n",
       "      <td>432</td>\n",
       "      <td>211</td>\n",
       "      <td>643</td>\n",
       "    </tr>\n",
       "    <tr>\n",
       "      <th>25-34</th>\n",
       "      <td>421</td>\n",
       "      <td>60</td>\n",
       "      <td>481</td>\n",
       "    </tr>\n",
       "    <tr>\n",
       "      <th>35-44</th>\n",
       "      <td>345</td>\n",
       "      <td>11</td>\n",
       "      <td>356</td>\n",
       "    </tr>\n",
       "    <tr>\n",
       "      <th>45-54</th>\n",
       "      <td>289</td>\n",
       "      <td>5</td>\n",
       "      <td>294</td>\n",
       "    </tr>\n",
       "    <tr>\n",
       "      <th>55-64</th>\n",
       "      <td>93</td>\n",
       "      <td>0</td>\n",
       "      <td>93</td>\n",
       "    </tr>\n",
       "    <tr>\n",
       "      <th>65+</th>\n",
       "      <td>18</td>\n",
       "      <td>0</td>\n",
       "      <td>18</td>\n",
       "    </tr>\n",
       "  </tbody>\n",
       "</table>\n",
       "</div>"
      ],
      "text/plain": [
       "LSD_Mushroom    0    1  Total\n",
       "Age                          \n",
       "18-24         432  211  643  \n",
       "25-34         421  60   481  \n",
       "35-44         345  11   356  \n",
       "45-54         289  5    294  \n",
       "55-64         93   0    93   \n",
       "65+           18   0    18   "
      ]
     },
     "execution_count": 344,
     "metadata": {},
     "output_type": "execute_result"
    }
   ],
   "source": [
    "ct_age=pd.crosstab(df_final['Age'],df_final['LSD_Mushroom'])\n",
    "ct_age['Total']=ct_age.sum(axis=1)\n",
    "ct_age = ct_age.sort_values('Total',ascending=False)\n",
    "ct_age"
   ]
  },
  {
   "cell_type": "code",
   "execution_count": 345,
   "metadata": {},
   "outputs": [
    {
     "data": {
      "image/png": "[encoded data removed]",
      "text/plain": [
       "<Figure size 1000x400 with 1 Axes>"
      ]
     },
     "metadata": {},
     "output_type": "display_data"
    },
    {
     "data": {
      "application/vnd.plotly.v1+json": {
       "config": {
        "plotlyServerURL": "https://plot.ly"
       },
       "data": [
        {
         "branchvalues": "total",
         "customdata": [
          [
           0
          ],
          [
           0
          ],
          [
           0
          ],
          [
           0
          ],
          [
           0
          ],
          [
           0
          ],
          [
           1
          ],
          [
           1
          ],
          [
           1
          ],
          [
           1
          ],
          [
           0.328149300155521
          ],
          [
           0.12474012474012475
          ],
          [
           0.03089887640449438
          ],
          [
           0.017006802721088437
          ],
          [
           0
          ],
          [
           0
          ]
         ],
         "domain": {
          "x": [
           0,
           1
          ],
          "y": [
           0,
           1
          ]
         },
         "hovertemplate": "labels=%{label}<br>count=%{value}<br>parent=%{parent}<br>id=%{id}<br>LSD_Mushroom=%{color}<extra></extra>",
         "ids": [
          "18-24/0",
          "25-34/0",
          "35-44/0",
          "45-54/0",
          "55-64/0",
          "65+/0",
          "18-24/1",
          "25-34/1",
          "35-44/1",
          "45-54/1",
          "18-24",
          "25-34",
          "35-44",
          "45-54",
          "55-64",
          "65+"
         ],
         "labels": [
          "0",
          "0",
          "0",
          "0",
          "0",
          "0",
          "1",
          "1",
          "1",
          "1",
          "18-24",
          "25-34",
          "35-44",
          "45-54",
          "55-64",
          "65+"
         ],
         "marker": {
          "coloraxis": "coloraxis",
          "colors": [
           0,
           0,
           0,
           0,
           0,
           0,
           1,
           1,
           1,
           1,
           0.328149300155521,
           0.12474012474012475,
           0.03089887640449438,
           0.017006802721088437,
           0,
           0
          ]
         },
         "name": "",
         "parents": [
          "18-24",
          "25-34",
          "35-44",
          "45-54",
          "55-64",
          "65+",
          "18-24",
          "25-34",
          "35-44",
          "45-54",
          "",
          "",
          "",
          "",
          "",
          ""
         ],
         "type": "sunburst",
         "values": [
          432,
          421,
          345,
          289,
          93,
          18,
          211,
          60,
          11,
          5,
          643,
          481,
          356,
          294,
          93,
          18
         ]
        }
       ],
       "layout": {
        "coloraxis": {
         "colorbar": {
          "title": {
           "text": "LSD_Mushroom"
          }
         },
         "colorscale": [
          [
           0,
           "#0d0887"
          ],
          [
           0.1111111111111111,
           "#46039f"
          ],
          [
           0.2222222222222222,
           "#7201a8"
          ],
          [
           0.3333333333333333,
           "#9c179e"
          ],
          [
           0.4444444444444444,
           "#bd3786"
          ],
          [
           0.5555555555555556,
           "#d8576b"
          ],
          [
           0.6666666666666666,
           "#ed7953"
          ],
          [
           0.7777777777777778,
           "#fb9f3a"
          ],
          [
           0.8888888888888888,
           "#fdca26"
          ],
          [
           1,
           "#f0f921"
          ]
         ]
        },
        "legend": {
         "tracegroupgap": 0
        },
        "template": {
         "data": {
          "bar": [
           {
            "error_x": {
             "color": "#2a3f5f"
            },
            "error_y": {
             "color": "#2a3f5f"
            },
            "marker": {
             "line": {
              "color": "#E5ECF6",
              "width": 0.5
             },
             "pattern": {
              "fillmode": "overlay",
              "size": 10,
              "solidity": 0.2
             }
            },
            "type": "bar"
           }
          ],
          "barpolar": [
           {
            "marker": {
             "line": {
              "color": "#E5ECF6",
              "width": 0.5
             },
             "pattern": {
              "fillmode": "overlay",
              "size": 10,
              "solidity": 0.2
             }
            },
            "type": "barpolar"
           }
          ],
          "carpet": [
           {
            "aaxis": {
             "endlinecolor": "#2a3f5f",
             "gridcolor": "white",
             "linecolor": "white",
             "minorgridcolor": "white",
             "startlinecolor": "#2a3f5f"
            },
            "baxis": {
             "endlinecolor": "#2a3f5f",
             "gridcolor": "white",
             "linecolor": "white",
             "minorgridcolor": "white",
             "startlinecolor": "#2a3f5f"
            },
            "type": "carpet"
           }
          ],
          "choropleth": [
           {
            "colorbar": {
             "outlinewidth": 0,
             "ticks": ""
            },
            "type": "choropleth"
           }
          ],
          "contour": [
           {
            "colorbar": {
             "outlinewidth": 0,
             "ticks": ""
            },
            "colorscale": [
             [
              0,
              "#0d0887"
             ],
             [
              0.1111111111111111,
              "#46039f"
             ],
             [
              0.2222222222222222,
              "#7201a8"
             ],
             [
              0.3333333333333333,
              "#9c179e"
             ],
             [
              0.4444444444444444,
              "#bd3786"
             ],
             [
              0.5555555555555556,
              "#d8576b"
             ],
             [
              0.6666666666666666,
              "#ed7953"
             ],
             [
              0.7777777777777778,
              "#fb9f3a"
             ],
             [
              0.8888888888888888,
              "#fdca26"
             ],
             [
              1,
              "#f0f921"
             ]
            ],
            "type": "contour"
           }
          ],
          "contourcarpet": [
           {
            "colorbar": {
             "outlinewidth": 0,
             "ticks": ""
            },
            "type": "contourcarpet"
           }
          ],
          "heatmap": [
           {
            "colorbar": {
             "outlinewidth": 0,
             "ticks": ""
            },
            "colorscale": [
             [
              0,
              "#0d0887"
             ],
             [
              0.1111111111111111,
              "#46039f"
             ],
             [
              0.2222222222222222,
              "#7201a8"
             ],
             [
              0.3333333333333333,
              "#9c179e"
             ],
             [
              0.4444444444444444,
              "#bd3786"
             ],
             [
              0.5555555555555556,
              "#d8576b"
             ],
             [
              0.6666666666666666,
              "#ed7953"
             ],
             [
              0.7777777777777778,
              "#fb9f3a"
             ],
             [
              0.8888888888888888,
              "#fdca26"
             ],
             [
              1,
              "#f0f921"
             ]
            ],
            "type": "heatmap"
           }
          ],
          "heatmapgl": [
           {
            "colorbar": {
             "outlinewidth": 0,
             "ticks": ""
            },
            "colorscale": [
             [
              0,
              "#0d0887"
             ],
             [
              0.1111111111111111,
              "#46039f"
             ],
             [
              0.2222222222222222,
              "#7201a8"
             ],
             [
              0.3333333333333333,
              "#9c179e"
             ],
             [
              0.4444444444444444,
              "#bd3786"
             ],
             [
              0.5555555555555556,
              "#d8576b"
             ],
             [
              0.6666666666666666,
              "#ed7953"
             ],
             [
              0.7777777777777778,
              "#fb9f3a"
             ],
             [
              0.8888888888888888,
              "#fdca26"
             ],
             [
              1,
              "#f0f921"
             ]
            ],
            "type": "heatmapgl"
           }
          ],
          "histogram": [
           {
            "marker": {
             "pattern": {
              "fillmode": "overlay",
              "size": 10,
              "solidity": 0.2
             }
            },
            "type": "histogram"
           }
          ],
          "histogram2d": [
           {
            "colorbar": {
             "outlinewidth": 0,
             "ticks": ""
            },
            "colorscale": [
             [
              0,
              "#0d0887"
             ],
             [
              0.1111111111111111,
              "#46039f"
             ],
             [
              0.2222222222222222,
              "#7201a8"
             ],
             [
              0.3333333333333333,
              "#9c179e"
             ],
             [
              0.4444444444444444,
              "#bd3786"
             ],
             [
              0.5555555555555556,
              "#d8576b"
             ],
             [
              0.6666666666666666,
              "#ed7953"
             ],
             [
              0.7777777777777778,
              "#fb9f3a"
             ],
             [
              0.8888888888888888,
              "#fdca26"
             ],
             [
              1,
              "#f0f921"
             ]
            ],
            "type": "histogram2d"
           }
          ],
          "histogram2dcontour": [
           {
            "colorbar": {
             "outlinewidth": 0,
             "ticks": ""
            },
            "colorscale": [
             [
              0,
              "#0d0887"
             ],
             [
              0.1111111111111111,
              "#46039f"
             ],
             [
              0.2222222222222222,
              "#7201a8"
             ],
             [
              0.3333333333333333,
              "#9c179e"
             ],
             [
              0.4444444444444444,
              "#bd3786"
             ],
             [
              0.5555555555555556,
              "#d8576b"
             ],
             [
              0.6666666666666666,
              "#ed7953"
             ],
             [
              0.7777777777777778,
              "#fb9f3a"
             ],
             [
              0.8888888888888888,
              "#fdca26"
             ],
             [
              1,
              "#f0f921"
             ]
            ],
            "type": "histogram2dcontour"
           }
          ],
          "mesh3d": [
           {
            "colorbar": {
             "outlinewidth": 0,
             "ticks": ""
            },
            "type": "mesh3d"
           }
          ],
          "parcoords": [
           {
            "line": {
             "colorbar": {
              "outlinewidth": 0,
              "ticks": ""
             }
            },
            "type": "parcoords"
           }
          ],
          "pie": [
           {
            "automargin": true,
            "type": "pie"
           }
          ],
          "scatter": [
           {
            "fillpattern": {
             "fillmode": "overlay",
             "size": 10,
             "solidity": 0.2
            },
            "type": "scatter"
           }
          ],
          "scatter3d": [
           {
            "line": {
             "colorbar": {
              "outlinewidth": 0,
              "ticks": ""
             }
            },
            "marker": {
             "colorbar": {
              "outlinewidth": 0,
              "ticks": ""
             }
            },
            "type": "scatter3d"
           }
          ],
          "scattercarpet": [
           {
            "marker": {
             "colorbar": {
              "outlinewidth": 0,
              "ticks": ""
             }
            },
            "type": "scattercarpet"
           }
          ],
          "scattergeo": [
           {
            "marker": {
             "colorbar": {
              "outlinewidth": 0,
              "ticks": ""
             }
            },
            "type": "scattergeo"
           }
          ],
          "scattergl": [
           {
            "marker": {
             "colorbar": {
              "outlinewidth": 0,
              "ticks": ""
             }
            },
            "type": "scattergl"
           }
          ],
          "scattermapbox": [
           {
            "marker": {
             "colorbar": {
              "outlinewidth": 0,
              "ticks": ""
             }
            },
            "type": "scattermapbox"
           }
          ],
          "scatterpolar": [
           {
            "marker": {
             "colorbar": {
              "outlinewidth": 0,
              "ticks": ""
             }
            },
            "type": "scatterpolar"
           }
          ],
          "scatterpolargl": [
           {
            "marker": {
             "colorbar": {
              "outlinewidth": 0,
              "ticks": ""
             }
            },
            "type": "scatterpolargl"
           }
          ],
          "scatterternary": [
           {
            "marker": {
             "colorbar": {
              "outlinewidth": 0,
              "ticks": ""
             }
            },
            "type": "scatterternary"
           }
          ],
          "surface": [
           {
            "colorbar": {
             "outlinewidth": 0,
             "ticks": ""
            },
            "colorscale": [
             [
              0,
              "#0d0887"
             ],
             [
              0.1111111111111111,
              "#46039f"
             ],
             [
              0.2222222222222222,
              "#7201a8"
             ],
             [
              0.3333333333333333,
              "#9c179e"
             ],
             [
              0.4444444444444444,
              "#bd3786"
             ],
             [
              0.5555555555555556,
              "#d8576b"
             ],
             [
              0.6666666666666666,
              "#ed7953"
             ],
             [
              0.7777777777777778,
              "#fb9f3a"
             ],
             [
              0.8888888888888888,
              "#fdca26"
             ],
             [
              1,
              "#f0f921"
             ]
            ],
            "type": "surface"
           }
          ],
          "table": [
           {
            "cells": {
             "fill": {
              "color": "#EBF0F8"
             },
             "line": {
              "color": "white"
             }
            },
            "header": {
             "fill": {
              "color": "#C8D4E3"
             },
             "line": {
              "color": "white"
             }
            },
            "type": "table"
           }
          ]
         },
         "layout": {
          "annotationdefaults": {
           "arrowcolor": "#2a3f5f",
           "arrowhead": 0,
           "arrowwidth": 1
          },
          "autotypenumbers": "strict",
          "coloraxis": {
           "colorbar": {
            "outlinewidth": 0,
            "ticks": ""
           }
          },
          "colorscale": {
           "diverging": [
            [
             0,
             "#8e0152"
            ],
            [
             0.1,
             "#c51b7d"
            ],
            [
             0.2,
             "#de77ae"
            ],
            [
             0.3,
             "#f1b6da"
            ],
            [
             0.4,
             "#fde0ef"
            ],
            [
             0.5,
             "#f7f7f7"
            ],
            [
             0.6,
             "#e6f5d0"
            ],
            [
             0.7,
             "#b8e186"
            ],
            [
             0.8,
             "#7fbc41"
            ],
            [
             0.9,
             "#4d9221"
            ],
            [
             1,
             "#276419"
            ]
           ],
           "sequential": [
            [
             0,
             "#0d0887"
            ],
            [
             0.1111111111111111,
             "#46039f"
            ],
            [
             0.2222222222222222,
             "#7201a8"
            ],
            [
             0.3333333333333333,
             "#9c179e"
            ],
            [
             0.4444444444444444,
             "#bd3786"
            ],
            [
             0.5555555555555556,
             "#d8576b"
            ],
            [
             0.6666666666666666,
             "#ed7953"
            ],
            [
             0.7777777777777778,
             "#fb9f3a"
            ],
            [
             0.8888888888888888,
             "#fdca26"
            ],
            [
             1,
             "#f0f921"
            ]
           ],
           "sequentialminus": [
            [
             0,
             "#0d0887"
            ],
            [
             0.1111111111111111,
             "#46039f"
            ],
            [
             0.2222222222222222,
             "#7201a8"
            ],
            [
             0.3333333333333333,
             "#9c179e"
            ],
            [
             0.4444444444444444,
             "#bd3786"
            ],
            [
             0.5555555555555556,
             "#d8576b"
            ],
            [
             0.6666666666666666,
             "#ed7953"
            ],
            [
             0.7777777777777778,
             "#fb9f3a"
            ],
            [
             0.8888888888888888,
             "#fdca26"
            ],
            [
             1,
             "#f0f921"
            ]
           ]
          },
          "colorway": [
           "#636efa",
           "#EF553B",
           "#00cc96",
           "#ab63fa",
           "#FFA15A",
           "#19d3f3",
           "#FF6692",
           "#B6E880",
           "#FF97FF",
           "#FECB52"
          ],
          "font": {
           "color": "#2a3f5f"
          },
          "geo": {
           "bgcolor": "white",
           "lakecolor": "white",
           "landcolor": "#E5ECF6",
           "showlakes": true,
           "showland": true,
           "subunitcolor": "white"
          },
          "hoverlabel": {
           "align": "left"
          },
          "hovermode": "closest",
          "mapbox": {
           "style": "light"
          },
          "paper_bgcolor": "white",
          "plot_bgcolor": "#E5ECF6",
          "polar": {
           "angularaxis": {
            "gridcolor": "white",
            "linecolor": "white",
            "ticks": ""
           },
           "bgcolor": "#E5ECF6",
           "radialaxis": {
            "gridcolor": "white",
            "linecolor": "white",
            "ticks": ""
           }
          },
          "scene": {
           "xaxis": {
            "backgroundcolor": "#E5ECF6",
            "gridcolor": "white",
            "gridwidth": 2,
            "linecolor": "white",
            "showbackground": true,
            "ticks": "",
            "zerolinecolor": "white"
           },
           "yaxis": {
            "backgroundcolor": "#E5ECF6",
            "gridcolor": "white",
            "gridwidth": 2,
            "linecolor": "white",
            "showbackground": true,
            "ticks": "",
            "zerolinecolor": "white"
           },
           "zaxis": {
            "backgroundcolor": "#E5ECF6",
            "gridcolor": "white",
            "gridwidth": 2,
            "linecolor": "white",
            "showbackground": true,
            "ticks": "",
            "zerolinecolor": "white"
           }
          },
          "shapedefaults": {
           "line": {
            "color": "#2a3f5f"
           }
          },
          "ternary": {
           "aaxis": {
            "gridcolor": "white",
            "linecolor": "white",
            "ticks": ""
           },
           "baxis": {
            "gridcolor": "white",
            "linecolor": "white",
            "ticks": ""
           },
           "bgcolor": "#E5ECF6",
           "caxis": {
            "gridcolor": "white",
            "linecolor": "white",
            "ticks": ""
           }
          },
          "title": {
           "x": 0.05
          },
          "xaxis": {
           "automargin": true,
           "gridcolor": "white",
           "linecolor": "white",
           "ticks": "",
           "title": {
            "standoff": 15
           },
           "zerolinecolor": "white",
           "zerolinewidth": 2
          },
          "yaxis": {
           "automargin": true,
           "gridcolor": "white",
           "linecolor": "white",
           "ticks": "",
           "title": {
            "standoff": 15
           },
           "zerolinecolor": "white",
           "zerolinewidth": 2
          }
         }
        },
        "title": {
         "text": "LSD_Mushroom Consumer Proportions Based on Age"
        }
       }
      }
     },
     "metadata": {},
     "output_type": "display_data"
    },
    {
     "data": {
      "text/plain": [
       "None"
      ]
     },
     "metadata": {},
     "output_type": "display_data"
    },
    {
     "data": {
      "text/plain": [
       "None"
      ]
     },
     "metadata": {},
     "output_type": "display_data"
    }
   ],
   "source": [
    "display (plot_bar('Age'), visualize_sunburst('Age'), )"
   ]
  },
  {
   "attachments": {},
   "cell_type": "markdown",
   "metadata": {},
   "source": [
    "Based on the statistical test, tables, and graphs above, we can conclude that there is an association between LSD_Mushroom consumption and Age. Also, age group 18-24 has the highest participants than the other age groups\n",
    "\n",
    "From the cross tabulation and graphs, we know that the age group of 18-24 years old demonstrates the highest prevalence of LSD and Mushroom consumption. We can also see that the prevalence decreases steadily with the increasing of age group, with the lowest prevalence among individuals aged 65+ is 0%.\n",
    "\n",
    "This suggests that younger individuals (approximately those who are on their late teens) are more likely to have a higher prevalence of LSD_Mushroom consumption compared to older age groups. This conclusion is consistent with the findings from United Nations Office on Drugs and Crime where 'data shows the peak levels of drug use are seen among those aged 18-25'  (Source = [link](https://www.unodc.org/wdr2018/prelaunch/WDR18_Booklet_4_YOUTH.pdf)).\n",
    "\n",
    "The publication suggests that young individuals turn to drug use as a means of dealing with the social and psychological difficulties they encounter during the transitional periods of their lives, evolving from adolescence to early adulthood. This stage of development is characterized by heightened susceptibility to various influences as adolescents explore and adopt different behaviors."
   ]
  },
  {
   "attachments": {},
   "cell_type": "markdown",
   "metadata": {},
   "source": [
    "## 2b. LSD_Mushroom Consumption Relationship with Gender\n",
    "\n",
    "Testing the relation between LSD_Mushroom consumption and Gender\n",
    "**Hypothesis**\n",
    "- H0 = There is no association between LSD_Mushroom consumption and Gender\n",
    "- H1 = There is an association between LSD_Mushroom consumption and Gender\n"
   ]
  },
  {
   "cell_type": "code",
   "execution_count": 346,
   "metadata": {},
   "outputs": [
    {
     "name": "stdout",
     "output_type": "stream",
     "text": [
      "\n",
      "Variable: Gender\n",
      "P-value: 2.844689632652093e-17\n",
      "pvalue <= 0.05. Reject Ho.\n"
     ]
    }
   ],
   "source": [
    "chi2_contingency_results('Gender')\n",
    "\n",
    "# Reject H0, means There is an association between LSD_Mushroom consumption and Gender."
   ]
  },
  {
   "cell_type": "code",
   "execution_count": 347,
   "metadata": {},
   "outputs": [
    {
     "data": {
      "text/html": [
       "<div>\n",
       "<style scoped>\n",
       "    .dataframe tbody tr th:only-of-type {\n",
       "        vertical-align: middle;\n",
       "    }\n",
       "\n",
       "    .dataframe tbody tr th {\n",
       "        vertical-align: top;\n",
       "    }\n",
       "\n",
       "    .dataframe thead th {\n",
       "        text-align: right;\n",
       "    }\n",
       "</style>\n",
       "<table border=\"1\" class=\"dataframe\">\n",
       "  <thead>\n",
       "    <tr style=\"text-align: right;\">\n",
       "      <th>LSD_Mushroom</th>\n",
       "      <th>0</th>\n",
       "      <th>1</th>\n",
       "      <th>Total</th>\n",
       "    </tr>\n",
       "    <tr>\n",
       "      <th>Gender</th>\n",
       "      <th></th>\n",
       "      <th></th>\n",
       "      <th></th>\n",
       "    </tr>\n",
       "  </thead>\n",
       "  <tbody>\n",
       "    <tr>\n",
       "      <th>Male</th>\n",
       "      <td>733</td>\n",
       "      <td>210</td>\n",
       "      <td>943</td>\n",
       "    </tr>\n",
       "    <tr>\n",
       "      <th>Female</th>\n",
       "      <td>865</td>\n",
       "      <td>77</td>\n",
       "      <td>942</td>\n",
       "    </tr>\n",
       "  </tbody>\n",
       "</table>\n",
       "</div>"
      ],
      "text/plain": [
       "LSD_Mushroom    0    1  Total\n",
       "Gender                       \n",
       "Male          733  210  943  \n",
       "Female        865  77   942  "
      ]
     },
     "execution_count": 347,
     "metadata": {},
     "output_type": "execute_result"
    }
   ],
   "source": [
    "ct_Gender=pd.crosstab(df_final['Gender'],df_final['LSD_Mushroom'])\n",
    "ct_Gender['Total']=ct_Gender.sum(axis=1)\n",
    "ct_Gender = ct_Gender.sort_values('Total',ascending=False)\n",
    "ct_Gender"
   ]
  },
  {
   "cell_type": "code",
   "execution_count": 348,
   "metadata": {},
   "outputs": [
    {
     "data": {
      "image/png": "[encoded data removed]",
      "text/plain": [
       "<Figure size 1000x400 with 1 Axes>"
      ]
     },
     "metadata": {},
     "output_type": "display_data"
    },
    {
     "data": {
      "application/vnd.plotly.v1+json": {
       "config": {
        "plotlyServerURL": "https://plot.ly"
       },
       "data": [
        {
         "branchvalues": "total",
         "customdata": [
          [
           0
          ],
          [
           0
          ],
          [
           1
          ],
          [
           1
          ],
          [
           0.08174097664543524
          ],
          [
           0.22269353128313893
          ]
         ],
         "domain": {
          "x": [
           0,
           1
          ],
          "y": [
           0,
           1
          ]
         },
         "hovertemplate": "labels=%{label}<br>count=%{value}<br>parent=%{parent}<br>id=%{id}<br>LSD_Mushroom=%{color}<extra></extra>",
         "ids": [
          "Female/0",
          "Male/0",
          "Female/1",
          "Male/1",
          "Female",
          "Male"
         ],
         "labels": [
          "0",
          "0",
          "1",
          "1",
          "Female",
          "Male"
         ],
         "marker": {
          "coloraxis": "coloraxis",
          "colors": [
           0,
           0,
           1,
           1,
           0.08174097664543524,
           0.22269353128313893
          ]
         },
         "name": "",
         "parents": [
          "Female",
          "Male",
          "Female",
          "Male",
          "",
          ""
         ],
         "type": "sunburst",
         "values": [
          865,
          733,
          77,
          210,
          942,
          943
         ]
        }
       ],
       "layout": {
        "coloraxis": {
         "colorbar": {
          "title": {
           "text": "LSD_Mushroom"
          }
         },
         "colorscale": [
          [
           0,
           "#0d0887"
          ],
          [
           0.1111111111111111,
           "#46039f"
          ],
          [
           0.2222222222222222,
           "#7201a8"
          ],
          [
           0.3333333333333333,
           "#9c179e"
          ],
          [
           0.4444444444444444,
           "#bd3786"
          ],
          [
           0.5555555555555556,
           "#d8576b"
          ],
          [
           0.6666666666666666,
           "#ed7953"
          ],
          [
           0.7777777777777778,
           "#fb9f3a"
          ],
          [
           0.8888888888888888,
           "#fdca26"
          ],
          [
           1,
           "#f0f921"
          ]
         ]
        },
        "legend": {
         "tracegroupgap": 0
        },
        "template": {
         "data": {
          "bar": [
           {
            "error_x": {
             "color": "#2a3f5f"
            },
            "error_y": {
             "color": "#2a3f5f"
            },
            "marker": {
             "line": {
              "color": "#E5ECF6",
              "width": 0.5
             },
             "pattern": {
              "fillmode": "overlay",
              "size": 10,
              "solidity": 0.2
             }
            },
            "type": "bar"
           }
          ],
          "barpolar": [
           {
            "marker": {
             "line": {
              "color": "#E5ECF6",
              "width": 0.5
             },
             "pattern": {
              "fillmode": "overlay",
              "size": 10,
              "solidity": 0.2
             }
            },
            "type": "barpolar"
           }
          ],
          "carpet": [
           {
            "aaxis": {
             "endlinecolor": "#2a3f5f",
             "gridcolor": "white",
             "linecolor": "white",
             "minorgridcolor": "white",
             "startlinecolor": "#2a3f5f"
            },
            "baxis": {
             "endlinecolor": "#2a3f5f",
             "gridcolor": "white",
             "linecolor": "white",
             "minorgridcolor": "white",
             "startlinecolor": "#2a3f5f"
            },
            "type": "carpet"
           }
          ],
          "choropleth": [
           {
            "colorbar": {
             "outlinewidth": 0,
             "ticks": ""
            },
            "type": "choropleth"
           }
          ],
          "contour": [
           {
            "colorbar": {
             "outlinewidth": 0,
             "ticks": ""
            },
            "colorscale": [
             [
              0,
              "#0d0887"
             ],
             [
              0.1111111111111111,
              "#46039f"
             ],
             [
              0.2222222222222222,
              "#7201a8"
             ],
             [
              0.3333333333333333,
              "#9c179e"
             ],
             [
              0.4444444444444444,
              "#bd3786"
             ],
             [
              0.5555555555555556,
              "#d8576b"
             ],
             [
              0.6666666666666666,
              "#ed7953"
             ],
             [
              0.7777777777777778,
              "#fb9f3a"
             ],
             [
              0.8888888888888888,
              "#fdca26"
             ],
             [
              1,
              "#f0f921"
             ]
            ],
            "type": "contour"
           }
          ],
          "contourcarpet": [
           {
            "colorbar": {
             "outlinewidth": 0,
             "ticks": ""
            },
            "type": "contourcarpet"
           }
          ],
          "heatmap": [
           {
            "colorbar": {
             "outlinewidth": 0,
             "ticks": ""
            },
            "colorscale": [
             [
              0,
              "#0d0887"
             ],
             [
              0.1111111111111111,
              "#46039f"
             ],
             [
              0.2222222222222222,
              "#7201a8"
             ],
             [
              0.3333333333333333,
              "#9c179e"
             ],
             [
              0.4444444444444444,
              "#bd3786"
             ],
             [
              0.5555555555555556,
              "#d8576b"
             ],
             [
              0.6666666666666666,
              "#ed7953"
             ],
             [
              0.7777777777777778,
              "#fb9f3a"
             ],
             [
              0.8888888888888888,
              "#fdca26"
             ],
             [
              1,
              "#f0f921"
             ]
            ],
            "type": "heatmap"
           }
          ],
          "heatmapgl": [
           {
            "colorbar": {
             "outlinewidth": 0,
             "ticks": ""
            },
            "colorscale": [
             [
              0,
              "#0d0887"
             ],
             [
              0.1111111111111111,
              "#46039f"
             ],
             [
              0.2222222222222222,
              "#7201a8"
             ],
             [
              0.3333333333333333,
              "#9c179e"
             ],
             [
              0.4444444444444444,
              "#bd3786"
             ],
             [
              0.5555555555555556,
              "#d8576b"
             ],
             [
              0.6666666666666666,
              "#ed7953"
             ],
             [
              0.7777777777777778,
              "#fb9f3a"
             ],
             [
              0.8888888888888888,
              "#fdca26"
             ],
             [
              1,
              "#f0f921"
             ]
            ],
            "type": "heatmapgl"
           }
          ],
          "histogram": [
           {
            "marker": {
             "pattern": {
              "fillmode": "overlay",
              "size": 10,
              "solidity": 0.2
             }
            },
            "type": "histogram"
           }
          ],
          "histogram2d": [
           {
            "colorbar": {
             "outlinewidth": 0,
             "ticks": ""
            },
            "colorscale": [
             [
              0,
              "#0d0887"
             ],
             [
              0.1111111111111111,
              "#46039f"
             ],
             [
              0.2222222222222222,
              "#7201a8"
             ],
             [
              0.3333333333333333,
              "#9c179e"
             ],
             [
              0.4444444444444444,
              "#bd3786"
             ],
             [
              0.5555555555555556,
              "#d8576b"
             ],
             [
              0.6666666666666666,
              "#ed7953"
             ],
             [
              0.7777777777777778,
              "#fb9f3a"
             ],
             [
              0.8888888888888888,
              "#fdca26"
             ],
             [
              1,
              "#f0f921"
             ]
            ],
            "type": "histogram2d"
           }
          ],
          "histogram2dcontour": [
           {
            "colorbar": {
             "outlinewidth": 0,
             "ticks": ""
            },
            "colorscale": [
             [
              0,
              "#0d0887"
             ],
             [
              0.1111111111111111,
              "#46039f"
             ],
             [
              0.2222222222222222,
              "#7201a8"
             ],
             [
              0.3333333333333333,
              "#9c179e"
             ],
             [
              0.4444444444444444,
              "#bd3786"
             ],
             [
              0.5555555555555556,
              "#d8576b"
             ],
             [
              0.6666666666666666,
              "#ed7953"
             ],
             [
              0.7777777777777778,
              "#fb9f3a"
             ],
             [
              0.8888888888888888,
              "#fdca26"
             ],
             [
              1,
              "#f0f921"
             ]
            ],
            "type": "histogram2dcontour"
           }
          ],
          "mesh3d": [
           {
            "colorbar": {
             "outlinewidth": 0,
             "ticks": ""
            },
            "type": "mesh3d"
           }
          ],
          "parcoords": [
           {
            "line": {
             "colorbar": {
              "outlinewidth": 0,
              "ticks": ""
             }
            },
            "type": "parcoords"
           }
          ],
          "pie": [
           {
            "automargin": true,
            "type": "pie"
           }
          ],
          "scatter": [
           {
            "fillpattern": {
             "fillmode": "overlay",
             "size": 10,
             "solidity": 0.2
            },
            "type": "scatter"
           }
          ],
          "scatter3d": [
           {
            "line": {
             "colorbar": {
              "outlinewidth": 0,
              "ticks": ""
             }
            },
            "marker": {
             "colorbar": {
              "outlinewidth": 0,
              "ticks": ""
             }
            },
            "type": "scatter3d"
           }
          ],
          "scattercarpet": [
           {
            "marker": {
             "colorbar": {
              "outlinewidth": 0,
              "ticks": ""
             }
            },
            "type": "scattercarpet"
           }
          ],
          "scattergeo": [
           {
            "marker": {
             "colorbar": {
              "outlinewidth": 0,
              "ticks": ""
             }
            },
            "type": "scattergeo"
           }
          ],
          "scattergl": [
           {
            "marker": {
             "colorbar": {
              "outlinewidth": 0,
              "ticks": ""
             }
            },
            "type": "scattergl"
           }
          ],
          "scattermapbox": [
           {
            "marker": {
             "colorbar": {
              "outlinewidth": 0,
              "ticks": ""
             }
            },
            "type": "scattermapbox"
           }
          ],
          "scatterpolar": [
           {
            "marker": {
             "colorbar": {
              "outlinewidth": 0,
              "ticks": ""
             }
            },
            "type": "scatterpolar"
           }
          ],
          "scatterpolargl": [
           {
            "marker": {
             "colorbar": {
              "outlinewidth": 0,
              "ticks": ""
             }
            },
            "type": "scatterpolargl"
           }
          ],
          "scatterternary": [
           {
            "marker": {
             "colorbar": {
              "outlinewidth": 0,
              "ticks": ""
             }
            },
            "type": "scatterternary"
           }
          ],
          "surface": [
           {
            "colorbar": {
             "outlinewidth": 0,
             "ticks": ""
            },
            "colorscale": [
             [
              0,
              "#0d0887"
             ],
             [
              0.1111111111111111,
              "#46039f"
             ],
             [
              0.2222222222222222,
              "#7201a8"
             ],
             [
              0.3333333333333333,
              "#9c179e"
             ],
             [
              0.4444444444444444,
              "#bd3786"
             ],
             [
              0.5555555555555556,
              "#d8576b"
             ],
             [
              0.6666666666666666,
              "#ed7953"
             ],
             [
              0.7777777777777778,
              "#fb9f3a"
             ],
             [
              0.8888888888888888,
              "#fdca26"
             ],
             [
              1,
              "#f0f921"
             ]
            ],
            "type": "surface"
           }
          ],
          "table": [
           {
            "cells": {
             "fill": {
              "color": "#EBF0F8"
             },
             "line": {
              "color": "white"
             }
            },
            "header": {
             "fill": {
              "color": "#C8D4E3"
             },
             "line": {
              "color": "white"
             }
            },
            "type": "table"
           }
          ]
         },
         "layout": {
          "annotationdefaults": {
           "arrowcolor": "#2a3f5f",
           "arrowhead": 0,
           "arrowwidth": 1
          },
          "autotypenumbers": "strict",
          "coloraxis": {
           "colorbar": {
            "outlinewidth": 0,
            "ticks": ""
           }
          },
          "colorscale": {
           "diverging": [
            [
             0,
             "#8e0152"
            ],
            [
             0.1,
             "#c51b7d"
            ],
            [
             0.2,
             "#de77ae"
            ],
            [
             0.3,
             "#f1b6da"
            ],
            [
             0.4,
             "#fde0ef"
            ],
            [
             0.5,
             "#f7f7f7"
            ],
            [
             0.6,
             "#e6f5d0"
            ],
            [
             0.7,
             "#b8e186"
            ],
            [
             0.8,
             "#7fbc41"
            ],
            [
             0.9,
             "#4d9221"
            ],
            [
             1,
             "#276419"
            ]
           ],
           "sequential": [
            [
             0,
             "#0d0887"
            ],
            [
             0.1111111111111111,
             "#46039f"
            ],
            [
             0.2222222222222222,
             "#7201a8"
            ],
            [
             0.3333333333333333,
             "#9c179e"
            ],
            [
             0.4444444444444444,
             "#bd3786"
            ],
            [
             0.5555555555555556,
             "#d8576b"
            ],
            [
             0.6666666666666666,
             "#ed7953"
            ],
            [
             0.7777777777777778,
             "#fb9f3a"
            ],
            [
             0.8888888888888888,
             "#fdca26"
            ],
            [
             1,
             "#f0f921"
            ]
           ],
           "sequentialminus": [
            [
             0,
             "#0d0887"
            ],
            [
             0.1111111111111111,
             "#46039f"
            ],
            [
             0.2222222222222222,
             "#7201a8"
            ],
            [
             0.3333333333333333,
             "#9c179e"
            ],
            [
             0.4444444444444444,
             "#bd3786"
            ],
            [
             0.5555555555555556,
             "#d8576b"
            ],
            [
             0.6666666666666666,
             "#ed7953"
            ],
            [
             0.7777777777777778,
             "#fb9f3a"
            ],
            [
             0.8888888888888888,
             "#fdca26"
            ],
            [
             1,
             "#f0f921"
            ]
           ]
          },
          "colorway": [
           "#636efa",
           "#EF553B",
           "#00cc96",
           "#ab63fa",
           "#FFA15A",
           "#19d3f3",
           "#FF6692",
           "#B6E880",
           "#FF97FF",
           "#FECB52"
          ],
          "font": {
           "color": "#2a3f5f"
          },
          "geo": {
           "bgcolor": "white",
           "lakecolor": "white",
           "landcolor": "#E5ECF6",
           "showlakes": true,
           "showland": true,
           "subunitcolor": "white"
          },
          "hoverlabel": {
           "align": "left"
          },
          "hovermode": "closest",
          "mapbox": {
           "style": "light"
          },
          "paper_bgcolor": "white",
          "plot_bgcolor": "#E5ECF6",
          "polar": {
           "angularaxis": {
            "gridcolor": "white",
            "linecolor": "white",
            "ticks": ""
           },
           "bgcolor": "#E5ECF6",
           "radialaxis": {
            "gridcolor": "white",
            "linecolor": "white",
            "ticks": ""
           }
          },
          "scene": {
           "xaxis": {
            "backgroundcolor": "#E5ECF6",
            "gridcolor": "white",
            "gridwidth": 2,
            "linecolor": "white",
            "showbackground": true,
            "ticks": "",
            "zerolinecolor": "white"
           },
           "yaxis": {
            "backgroundcolor": "#E5ECF6",
            "gridcolor": "white",
            "gridwidth": 2,
            "linecolor": "white",
            "showbackground": true,
            "ticks": "",
            "zerolinecolor": "white"
           },
           "zaxis": {
            "backgroundcolor": "#E5ECF6",
            "gridcolor": "white",
            "gridwidth": 2,
            "linecolor": "white",
            "showbackground": true,
            "ticks": "",
            "zerolinecolor": "white"
           }
          },
          "shapedefaults": {
           "line": {
            "color": "#2a3f5f"
           }
          },
          "ternary": {
           "aaxis": {
            "gridcolor": "white",
            "linecolor": "white",
            "ticks": ""
           },
           "baxis": {
            "gridcolor": "white",
            "linecolor": "white",
            "ticks": ""
           },
           "bgcolor": "#E5ECF6",
           "caxis": {
            "gridcolor": "white",
            "linecolor": "white",
            "ticks": ""
           }
          },
          "title": {
           "x": 0.05
          },
          "xaxis": {
           "automargin": true,
           "gridcolor": "white",
           "linecolor": "white",
           "ticks": "",
           "title": {
            "standoff": 15
           },
           "zerolinecolor": "white",
           "zerolinewidth": 2
          },
          "yaxis": {
           "automargin": true,
           "gridcolor": "white",
           "linecolor": "white",
           "ticks": "",
           "title": {
            "standoff": 15
           },
           "zerolinecolor": "white",
           "zerolinewidth": 2
          }
         }
        },
        "title": {
         "text": "LSD_Mushroom Consumer Proportions Based on Gender"
        }
       }
      }
     },
     "metadata": {},
     "output_type": "display_data"
    },
    {
     "data": {
      "text/plain": [
       "None"
      ]
     },
     "metadata": {},
     "output_type": "display_data"
    },
    {
     "data": {
      "text/plain": [
       "None"
      ]
     },
     "metadata": {},
     "output_type": "display_data"
    }
   ],
   "source": [
    "display ( plot_bar('Gender'), visualize_sunburst('Gender'))\n"
   ]
  },
  {
   "attachments": {},
   "cell_type": "markdown",
   "metadata": {},
   "source": [
    "The statistic test, graph, and table shows that there is a relation between LSD_Mushroom consumption and Gender.\n",
    "\n",
    "Female and male participants in this research is relatively similar, but the proportion of male LSD_Mushroom user is higher than female user, indicates that consumption is more common among males. This conclusion aligns with the National Institute on Drug Abuse  findings which state 'Men are more likely than women to use almost all types of illicit drugs, and illicit drug use is more likely to result in emergency department visits or overdose deaths for men than for women' (Source= [link](https://www.ncbi.nlm.nih.gov/pmc/articles/PMC3540205/)).\n"
   ]
  },
  {
   "attachments": {},
   "cell_type": "markdown",
   "metadata": {},
   "source": [
    "## 2c. LSD_Mushroom Consumption Relationship with Education\n",
    "\n",
    "Testing the relation between LSD_Mushroom consumption and Education\n",
    "**Hypothesis**\n",
    "- H0 = There is no association between LSD_Mushroom consumption and Education\n",
    "- H1 = There is an association between LSD_Mushroom consumption and Education\n"
   ]
  },
  {
   "cell_type": "code",
   "execution_count": 349,
   "metadata": {},
   "outputs": [
    {
     "name": "stdout",
     "output_type": "stream",
     "text": [
      "\n",
      "Variable: Education\n",
      "P-value: 5.733014943836724e-29\n",
      "pvalue <= 0.05. Reject Ho.\n"
     ]
    }
   ],
   "source": [
    "chi2_contingency_results('Education')\n",
    "\n",
    "# Reject H0, means There is an association between LSD_Mushroom consumption and Education."
   ]
  },
  {
   "cell_type": "code",
   "execution_count": 350,
   "metadata": {},
   "outputs": [
    {
     "data": {
      "text/html": [
       "<div>\n",
       "<style scoped>\n",
       "    .dataframe tbody tr th:only-of-type {\n",
       "        vertical-align: middle;\n",
       "    }\n",
       "\n",
       "    .dataframe tbody tr th {\n",
       "        vertical-align: top;\n",
       "    }\n",
       "\n",
       "    .dataframe thead th {\n",
       "        text-align: right;\n",
       "    }\n",
       "</style>\n",
       "<table border=\"1\" class=\"dataframe\">\n",
       "  <thead>\n",
       "    <tr style=\"text-align: right;\">\n",
       "      <th>LSD_Mushroom</th>\n",
       "      <th>0</th>\n",
       "      <th>1</th>\n",
       "      <th>Total</th>\n",
       "    </tr>\n",
       "    <tr>\n",
       "      <th>Education</th>\n",
       "      <th></th>\n",
       "      <th></th>\n",
       "      <th></th>\n",
       "    </tr>\n",
       "  </thead>\n",
       "  <tbody>\n",
       "    <tr>\n",
       "      <th>Some college or university, no certificate or degree</th>\n",
       "      <td>354</td>\n",
       "      <td>152</td>\n",
       "      <td>506</td>\n",
       "    </tr>\n",
       "    <tr>\n",
       "      <th>University Degree</th>\n",
       "      <td>427</td>\n",
       "      <td>53</td>\n",
       "      <td>480</td>\n",
       "    </tr>\n",
       "    <tr>\n",
       "      <th>Masters Degree</th>\n",
       "      <td>262</td>\n",
       "      <td>21</td>\n",
       "      <td>283</td>\n",
       "    </tr>\n",
       "    <tr>\n",
       "      <th>Professional certificate/diploma</th>\n",
       "      <td>249</td>\n",
       "      <td>21</td>\n",
       "      <td>270</td>\n",
       "    </tr>\n",
       "    <tr>\n",
       "      <th>Left school at 17 &amp; 18 years</th>\n",
       "      <td>99</td>\n",
       "      <td>31</td>\n",
       "      <td>130</td>\n",
       "    </tr>\n",
       "    <tr>\n",
       "      <th>Left school &lt;=16 years</th>\n",
       "      <td>120</td>\n",
       "      <td>7</td>\n",
       "      <td>127</td>\n",
       "    </tr>\n",
       "    <tr>\n",
       "      <th>Doctorate Degree</th>\n",
       "      <td>87</td>\n",
       "      <td>2</td>\n",
       "      <td>89</td>\n",
       "    </tr>\n",
       "  </tbody>\n",
       "</table>\n",
       "</div>"
      ],
      "text/plain": [
       "LSD_Mushroom                                            0    1  Total\n",
       "Education                                                            \n",
       "Some college or university, no certificate or degree  354  152  506  \n",
       "University Degree                                     427  53   480  \n",
       "Masters Degree                                        262  21   283  \n",
       "Professional certificate/diploma                      249  21   270  \n",
       "Left school at 17 & 18 years                          99   31   130  \n",
       "Left school <=16 years                                120  7    127  \n",
       "Doctorate Degree                                      87   2    89   "
      ]
     },
     "execution_count": 350,
     "metadata": {},
     "output_type": "execute_result"
    }
   ],
   "source": [
    "ct_Education=pd.crosstab(df_final['Education'],df_final['LSD_Mushroom'])\n",
    "ct_Education['Total']=ct_Education.sum(axis=1)\n",
    "ct_Education = ct_Education.sort_values('Total',ascending=False)\n",
    "ct_Education"
   ]
  },
  {
   "cell_type": "code",
   "execution_count": 351,
   "metadata": {},
   "outputs": [
    {
     "data": {
      "image/png": "[encoded data removed]",
      "text/plain": [
       "<Figure size 1000x400 with 1 Axes>"
      ]
     },
     "metadata": {},
     "output_type": "display_data"
    },
    {
     "data": {
      "application/vnd.plotly.v1+json": {
       "config": {
        "plotlyServerURL": "https://plot.ly"
       },
       "data": [
        {
         "branchvalues": "total",
         "customdata": [
          [
           0
          ],
          [
           0
          ],
          [
           0
          ],
          [
           0
          ],
          [
           0
          ],
          [
           0
          ],
          [
           0
          ],
          [
           1
          ],
          [
           1
          ],
          [
           1
          ],
          [
           1
          ],
          [
           1
          ],
          [
           1
          ],
          [
           1
          ],
          [
           0.02247191011235955
          ],
          [
           0.05511811023622047
          ],
          [
           0.23846153846153847
          ],
          [
           0.07420494699646643
          ],
          [
           0.07777777777777778
          ],
          [
           0.30039525691699603
          ],
          [
           0.11041666666666666
          ]
         ],
         "domain": {
          "x": [
           0,
           1
          ],
          "y": [
           0,
           1
          ]
         },
         "hovertemplate": "labels=%{label}<br>count=%{value}<br>parent=%{parent}<br>id=%{id}<br>LSD_Mushroom=%{color}<extra></extra>",
         "ids": [
          "Doctorate Degree/0",
          "Left school <=16 years/0",
          "Left school at 17 & 18 years/0",
          "Masters Degree/0",
          "Professional certificate/diploma/0",
          "Some college or university, no certificate or degree/0",
          "University Degree/0",
          "Doctorate Degree/1",
          "Left school <=16 years/1",
          "Left school at 17 & 18 years/1",
          "Masters Degree/1",
          "Professional certificate/diploma/1",
          "Some college or university, no certificate or degree/1",
          "University Degree/1",
          "Doctorate Degree",
          "Left school <=16 years",
          "Left school at 17 & 18 years",
          "Masters Degree",
          "Professional certificate/diploma",
          "Some college or university, no certificate or degree",
          "University Degree"
         ],
         "labels": [
          "0",
          "0",
          "0",
          "0",
          "0",
          "0",
          "0",
          "1",
          "1",
          "1",
          "1",
          "1",
          "1",
          "1",
          "Doctorate Degree",
          "Left school <=16 years",
          "Left school at 17 & 18 years",
          "Masters Degree",
          "Professional certificate/diploma",
          "Some college or university, no certificate or degree",
          "University Degree"
         ],
         "marker": {
          "coloraxis": "coloraxis",
          "colors": [
           0,
           0,
           0,
           0,
           0,
           0,
           0,
           1,
           1,
           1,
           1,
           1,
           1,
           1,
           0.02247191011235955,
           0.05511811023622047,
           0.23846153846153847,
           0.07420494699646643,
           0.07777777777777778,
           0.30039525691699603,
           0.11041666666666666
          ]
         },
         "name": "",
         "parents": [
          "Doctorate Degree",
          "Left school <=16 years",
          "Left school at 17 & 18 years",
          "Masters Degree",
          "Professional certificate/diploma",
          "Some college or university, no certificate or degree",
          "University Degree",
          "Doctorate Degree",
          "Left school <=16 years",
          "Left school at 17 & 18 years",
          "Masters Degree",
          "Professional certificate/diploma",
          "Some college or university, no certificate or degree",
          "University Degree",
          "",
          "",
          "",
          "",
          "",
          "",
          ""
         ],
         "type": "sunburst",
         "values": [
          87,
          120,
          99,
          262,
          249,
          354,
          427,
          2,
          7,
          31,
          21,
          21,
          152,
          53,
          89,
          127,
          130,
          283,
          270,
          506,
          480
         ]
        }
       ],
       "layout": {
        "coloraxis": {
         "colorbar": {
          "title": {
           "text": "LSD_Mushroom"
          }
         },
         "colorscale": [
          [
           0,
           "#0d0887"
          ],
          [
           0.1111111111111111,
           "#46039f"
          ],
          [
           0.2222222222222222,
           "#7201a8"
          ],
          [
           0.3333333333333333,
           "#9c179e"
          ],
          [
           0.4444444444444444,
           "#bd3786"
          ],
          [
           0.5555555555555556,
           "#d8576b"
          ],
          [
           0.6666666666666666,
           "#ed7953"
          ],
          [
           0.7777777777777778,
           "#fb9f3a"
          ],
          [
           0.8888888888888888,
           "#fdca26"
          ],
          [
           1,
           "#f0f921"
          ]
         ]
        },
        "legend": {
         "tracegroupgap": 0
        },
        "template": {
         "data": {
          "bar": [
           {
            "error_x": {
             "color": "#2a3f5f"
            },
            "error_y": {
             "color": "#2a3f5f"
            },
            "marker": {
             "line": {
              "color": "#E5ECF6",
              "width": 0.5
             },
             "pattern": {
              "fillmode": "overlay",
              "size": 10,
              "solidity": 0.2
             }
            },
            "type": "bar"
           }
          ],
          "barpolar": [
           {
            "marker": {
             "line": {
              "color": "#E5ECF6",
              "width": 0.5
             },
             "pattern": {
              "fillmode": "overlay",
              "size": 10,
              "solidity": 0.2
             }
            },
            "type": "barpolar"
           }
          ],
          "carpet": [
           {
            "aaxis": {
             "endlinecolor": "#2a3f5f",
             "gridcolor": "white",
             "linecolor": "white",
             "minorgridcolor": "white",
             "startlinecolor": "#2a3f5f"
            },
            "baxis": {
             "endlinecolor": "#2a3f5f",
             "gridcolor": "white",
             "linecolor": "white",
             "minorgridcolor": "white",
             "startlinecolor": "#2a3f5f"
            },
            "type": "carpet"
           }
          ],
          "choropleth": [
           {
            "colorbar": {
             "outlinewidth": 0,
             "ticks": ""
            },
            "type": "choropleth"
           }
          ],
          "contour": [
           {
            "colorbar": {
             "outlinewidth": 0,
             "ticks": ""
            },
            "colorscale": [
             [
              0,
              "#0d0887"
             ],
             [
              0.1111111111111111,
              "#46039f"
             ],
             [
              0.2222222222222222,
              "#7201a8"
             ],
             [
              0.3333333333333333,
              "#9c179e"
             ],
             [
              0.4444444444444444,
              "#bd3786"
             ],
             [
              0.5555555555555556,
              "#d8576b"
             ],
             [
              0.6666666666666666,
              "#ed7953"
             ],
             [
              0.7777777777777778,
              "#fb9f3a"
             ],
             [
              0.8888888888888888,
              "#fdca26"
             ],
             [
              1,
              "#f0f921"
             ]
            ],
            "type": "contour"
           }
          ],
          "contourcarpet": [
           {
            "colorbar": {
             "outlinewidth": 0,
             "ticks": ""
            },
            "type": "contourcarpet"
           }
          ],
          "heatmap": [
           {
            "colorbar": {
             "outlinewidth": 0,
             "ticks": ""
            },
            "colorscale": [
             [
              0,
              "#0d0887"
             ],
             [
              0.1111111111111111,
              "#46039f"
             ],
             [
              0.2222222222222222,
              "#7201a8"
             ],
             [
              0.3333333333333333,
              "#9c179e"
             ],
             [
              0.4444444444444444,
              "#bd3786"
             ],
             [
              0.5555555555555556,
              "#d8576b"
             ],
             [
              0.6666666666666666,
              "#ed7953"
             ],
             [
              0.7777777777777778,
              "#fb9f3a"
             ],
             [
              0.8888888888888888,
              "#fdca26"
             ],
             [
              1,
              "#f0f921"
             ]
            ],
            "type": "heatmap"
           }
          ],
          "heatmapgl": [
           {
            "colorbar": {
             "outlinewidth": 0,
             "ticks": ""
            },
            "colorscale": [
             [
              0,
              "#0d0887"
             ],
             [
              0.1111111111111111,
              "#46039f"
             ],
             [
              0.2222222222222222,
              "#7201a8"
             ],
             [
              0.3333333333333333,
              "#9c179e"
             ],
             [
              0.4444444444444444,
              "#bd3786"
             ],
             [
              0.5555555555555556,
              "#d8576b"
             ],
             [
              0.6666666666666666,
              "#ed7953"
             ],
             [
              0.7777777777777778,
              "#fb9f3a"
             ],
             [
              0.8888888888888888,
              "#fdca26"
             ],
             [
              1,
              "#f0f921"
             ]
            ],
            "type": "heatmapgl"
           }
          ],
          "histogram": [
           {
            "marker": {
             "pattern": {
              "fillmode": "overlay",
              "size": 10,
              "solidity": 0.2
             }
            },
            "type": "histogram"
           }
          ],
          "histogram2d": [
           {
            "colorbar": {
             "outlinewidth": 0,
             "ticks": ""
            },
            "colorscale": [
             [
              0,
              "#0d0887"
             ],
             [
              0.1111111111111111,
              "#46039f"
             ],
             [
              0.2222222222222222,
              "#7201a8"
             ],
             [
              0.3333333333333333,
              "#9c179e"
             ],
             [
              0.4444444444444444,
              "#bd3786"
             ],
             [
              0.5555555555555556,
              "#d8576b"
             ],
             [
              0.6666666666666666,
              "#ed7953"
             ],
             [
              0.7777777777777778,
              "#fb9f3a"
             ],
             [
              0.8888888888888888,
              "#fdca26"
             ],
             [
              1,
              "#f0f921"
             ]
            ],
            "type": "histogram2d"
           }
          ],
          "histogram2dcontour": [
           {
            "colorbar": {
             "outlinewidth": 0,
             "ticks": ""
            },
            "colorscale": [
             [
              0,
              "#0d0887"
             ],
             [
              0.1111111111111111,
              "#46039f"
             ],
             [
              0.2222222222222222,
              "#7201a8"
             ],
             [
              0.3333333333333333,
              "#9c179e"
             ],
             [
              0.4444444444444444,
              "#bd3786"
             ],
             [
              0.5555555555555556,
              "#d8576b"
             ],
             [
              0.6666666666666666,
              "#ed7953"
             ],
             [
              0.7777777777777778,
              "#fb9f3a"
             ],
             [
              0.8888888888888888,
              "#fdca26"
             ],
             [
              1,
              "#f0f921"
             ]
            ],
            "type": "histogram2dcontour"
           }
          ],
          "mesh3d": [
           {
            "colorbar": {
             "outlinewidth": 0,
             "ticks": ""
            },
            "type": "mesh3d"
           }
          ],
          "parcoords": [
           {
            "line": {
             "colorbar": {
              "outlinewidth": 0,
              "ticks": ""
             }
            },
            "type": "parcoords"
           }
          ],
          "pie": [
           {
            "automargin": true,
            "type": "pie"
           }
          ],
          "scatter": [
           {
            "fillpattern": {
             "fillmode": "overlay",
             "size": 10,
             "solidity": 0.2
            },
            "type": "scatter"
           }
          ],
          "scatter3d": [
           {
            "line": {
             "colorbar": {
              "outlinewidth": 0,
              "ticks": ""
             }
            },
            "marker": {
             "colorbar": {
              "outlinewidth": 0,
              "ticks": ""
             }
            },
            "type": "scatter3d"
           }
          ],
          "scattercarpet": [
           {
            "marker": {
             "colorbar": {
              "outlinewidth": 0,
              "ticks": ""
             }
            },
            "type": "scattercarpet"
           }
          ],
          "scattergeo": [
           {
            "marker": {
             "colorbar": {
              "outlinewidth": 0,
              "ticks": ""
             }
            },
            "type": "scattergeo"
           }
          ],
          "scattergl": [
           {
            "marker": {
             "colorbar": {
              "outlinewidth": 0,
              "ticks": ""
             }
            },
            "type": "scattergl"
           }
          ],
          "scattermapbox": [
           {
            "marker": {
             "colorbar": {
              "outlinewidth": 0,
              "ticks": ""
             }
            },
            "type": "scattermapbox"
           }
          ],
          "scatterpolar": [
           {
            "marker": {
             "colorbar": {
              "outlinewidth": 0,
              "ticks": ""
             }
            },
            "type": "scatterpolar"
           }
          ],
          "scatterpolargl": [
           {
            "marker": {
             "colorbar": {
              "outlinewidth": 0,
              "ticks": ""
             }
            },
            "type": "scatterpolargl"
           }
          ],
          "scatterternary": [
           {
            "marker": {
             "colorbar": {
              "outlinewidth": 0,
              "ticks": ""
             }
            },
            "type": "scatterternary"
           }
          ],
          "surface": [
           {
            "colorbar": {
             "outlinewidth": 0,
             "ticks": ""
            },
            "colorscale": [
             [
              0,
              "#0d0887"
             ],
             [
              0.1111111111111111,
              "#46039f"
             ],
             [
              0.2222222222222222,
              "#7201a8"
             ],
             [
              0.3333333333333333,
              "#9c179e"
             ],
             [
              0.4444444444444444,
              "#bd3786"
             ],
             [
              0.5555555555555556,
              "#d8576b"
             ],
             [
              0.6666666666666666,
              "#ed7953"
             ],
             [
              0.7777777777777778,
              "#fb9f3a"
             ],
             [
              0.8888888888888888,
              "#fdca26"
             ],
             [
              1,
              "#f0f921"
             ]
            ],
            "type": "surface"
           }
          ],
          "table": [
           {
            "cells": {
             "fill": {
              "color": "#EBF0F8"
             },
             "line": {
              "color": "white"
             }
            },
            "header": {
             "fill": {
              "color": "#C8D4E3"
             },
             "line": {
              "color": "white"
             }
            },
            "type": "table"
           }
          ]
         },
         "layout": {
          "annotationdefaults": {
           "arrowcolor": "#2a3f5f",
           "arrowhead": 0,
           "arrowwidth": 1
          },
          "autotypenumbers": "strict",
          "coloraxis": {
           "colorbar": {
            "outlinewidth": 0,
            "ticks": ""
           }
          },
          "colorscale": {
           "diverging": [
            [
             0,
             "#8e0152"
            ],
            [
             0.1,
             "#c51b7d"
            ],
            [
             0.2,
             "#de77ae"
            ],
            [
             0.3,
             "#f1b6da"
            ],
            [
             0.4,
             "#fde0ef"
            ],
            [
             0.5,
             "#f7f7f7"
            ],
            [
             0.6,
             "#e6f5d0"
            ],
            [
             0.7,
             "#b8e186"
            ],
            [
             0.8,
             "#7fbc41"
            ],
            [
             0.9,
             "#4d9221"
            ],
            [
             1,
             "#276419"
            ]
           ],
           "sequential": [
            [
             0,
             "#0d0887"
            ],
            [
             0.1111111111111111,
             "#46039f"
            ],
            [
             0.2222222222222222,
             "#7201a8"
            ],
            [
             0.3333333333333333,
             "#9c179e"
            ],
            [
             0.4444444444444444,
             "#bd3786"
            ],
            [
             0.5555555555555556,
             "#d8576b"
            ],
            [
             0.6666666666666666,
             "#ed7953"
            ],
            [
             0.7777777777777778,
             "#fb9f3a"
            ],
            [
             0.8888888888888888,
             "#fdca26"
            ],
            [
             1,
             "#f0f921"
            ]
           ],
           "sequentialminus": [
            [
             0,
             "#0d0887"
            ],
            [
             0.1111111111111111,
             "#46039f"
            ],
            [
             0.2222222222222222,
             "#7201a8"
            ],
            [
             0.3333333333333333,
             "#9c179e"
            ],
            [
             0.4444444444444444,
             "#bd3786"
            ],
            [
             0.5555555555555556,
             "#d8576b"
            ],
            [
             0.6666666666666666,
             "#ed7953"
            ],
            [
             0.7777777777777778,
             "#fb9f3a"
            ],
            [
             0.8888888888888888,
             "#fdca26"
            ],
            [
             1,
             "#f0f921"
            ]
           ]
          },
          "colorway": [
           "#636efa",
           "#EF553B",
           "#00cc96",
           "#ab63fa",
           "#FFA15A",
           "#19d3f3",
           "#FF6692",
           "#B6E880",
           "#FF97FF",
           "#FECB52"
          ],
          "font": {
           "color": "#2a3f5f"
          },
          "geo": {
           "bgcolor": "white",
           "lakecolor": "white",
           "landcolor": "#E5ECF6",
           "showlakes": true,
           "showland": true,
           "subunitcolor": "white"
          },
          "hoverlabel": {
           "align": "left"
          },
          "hovermode": "closest",
          "mapbox": {
           "style": "light"
          },
          "paper_bgcolor": "white",
          "plot_bgcolor": "#E5ECF6",
          "polar": {
           "angularaxis": {
            "gridcolor": "white",
            "linecolor": "white",
            "ticks": ""
           },
           "bgcolor": "#E5ECF6",
           "radialaxis": {
            "gridcolor": "white",
            "linecolor": "white",
            "ticks": ""
           }
          },
          "scene": {
           "xaxis": {
            "backgroundcolor": "#E5ECF6",
            "gridcolor": "white",
            "gridwidth": 2,
            "linecolor": "white",
            "showbackground": true,
            "ticks": "",
            "zerolinecolor": "white"
           },
           "yaxis": {
            "backgroundcolor": "#E5ECF6",
            "gridcolor": "white",
            "gridwidth": 2,
            "linecolor": "white",
            "showbackground": true,
            "ticks": "",
            "zerolinecolor": "white"
           },
           "zaxis": {
            "backgroundcolor": "#E5ECF6",
            "gridcolor": "white",
            "gridwidth": 2,
            "linecolor": "white",
            "showbackground": true,
            "ticks": "",
            "zerolinecolor": "white"
           }
          },
          "shapedefaults": {
           "line": {
            "color": "#2a3f5f"
           }
          },
          "ternary": {
           "aaxis": {
            "gridcolor": "white",
            "linecolor": "white",
            "ticks": ""
           },
           "baxis": {
            "gridcolor": "white",
            "linecolor": "white",
            "ticks": ""
           },
           "bgcolor": "#E5ECF6",
           "caxis": {
            "gridcolor": "white",
            "linecolor": "white",
            "ticks": ""
           }
          },
          "title": {
           "x": 0.05
          },
          "xaxis": {
           "automargin": true,
           "gridcolor": "white",
           "linecolor": "white",
           "ticks": "",
           "title": {
            "standoff": 15
           },
           "zerolinecolor": "white",
           "zerolinewidth": 2
          },
          "yaxis": {
           "automargin": true,
           "gridcolor": "white",
           "linecolor": "white",
           "ticks": "",
           "title": {
            "standoff": 15
           },
           "zerolinecolor": "white",
           "zerolinewidth": 2
          }
         }
        },
        "title": {
         "text": "LSD_Mushroom Consumer Proportions Based on Education"
        }
       }
      }
     },
     "metadata": {},
     "output_type": "display_data"
    },
    {
     "data": {
      "text/plain": [
       "None"
      ]
     },
     "metadata": {},
     "output_type": "display_data"
    },
    {
     "data": {
      "text/plain": [
       "None"
      ]
     },
     "metadata": {},
     "output_type": "display_data"
    }
   ],
   "source": [
    "display ( plot_bar('Education'),visualize_sunburst('Education'))\n"
   ]
  },
  {
   "attachments": {},
   "cell_type": "markdown",
   "metadata": {},
   "source": [
    "Based on the provided data on LSD_Mushroom consumption by education level, education turns out to be related to the consumption of both drugs. The visualizations show the highest proportion of LSD_Mushroom consumption is found among individuals with a college / university degree without certification. \n",
    "Participants who has a university degree show a relatively high proportion of consumption, next to individuals with college/university degree without certification. \n",
    "This may be influenced to the increased exposure to environments where drug use is common, and influences by peer dynamics. Individuals with higher education tend to have a greater knowledge about the risks associated with drugs consumption."
   ]
  },
  {
   "attachments": {},
   "cell_type": "markdown",
   "metadata": {},
   "source": [
    "## 2d. LSD_Mushroom Consumption Relationship with Continent\n",
    "\n",
    "Testing the relation between LSD_Mushroom consumption and Continent\n",
    "**Hypothesis**\n",
    "- H0 = There is no association between LSD_Mushroom consumption and Continent\n",
    "- H1 = There is an association between LSD_Mushroom consumption and Continent\n"
   ]
  },
  {
   "cell_type": "code",
   "execution_count": 352,
   "metadata": {},
   "outputs": [
    {
     "name": "stdout",
     "output_type": "stream",
     "text": [
      "\n",
      "Variable: Continent\n",
      "P-value: 1.1794054048406756e-58\n",
      "pvalue <= 0.05. Reject Ho.\n"
     ]
    }
   ],
   "source": [
    "chi2_contingency_results('Continent')\n",
    "\n",
    "# Reject H0, means There is an association between LSD_Mushroom consumption and Continent."
   ]
  },
  {
   "cell_type": "code",
   "execution_count": 353,
   "metadata": {},
   "outputs": [
    {
     "data": {
      "text/html": [
       "<div>\n",
       "<style scoped>\n",
       "    .dataframe tbody tr th:only-of-type {\n",
       "        vertical-align: middle;\n",
       "    }\n",
       "\n",
       "    .dataframe tbody tr th {\n",
       "        vertical-align: top;\n",
       "    }\n",
       "\n",
       "    .dataframe thead th {\n",
       "        text-align: right;\n",
       "    }\n",
       "</style>\n",
       "<table border=\"1\" class=\"dataframe\">\n",
       "  <thead>\n",
       "    <tr style=\"text-align: right;\">\n",
       "      <th>LSD_Mushroom</th>\n",
       "      <th>0</th>\n",
       "      <th>1</th>\n",
       "      <th>Total</th>\n",
       "    </tr>\n",
       "    <tr>\n",
       "      <th>Continent</th>\n",
       "      <th></th>\n",
       "      <th></th>\n",
       "      <th></th>\n",
       "    </tr>\n",
       "  </thead>\n",
       "  <tbody>\n",
       "    <tr>\n",
       "      <th>Europe</th>\n",
       "      <td>1029</td>\n",
       "      <td>35</td>\n",
       "      <td>1064</td>\n",
       "    </tr>\n",
       "    <tr>\n",
       "      <th>America</th>\n",
       "      <td>445</td>\n",
       "      <td>199</td>\n",
       "      <td>644</td>\n",
       "    </tr>\n",
       "    <tr>\n",
       "      <th>Others</th>\n",
       "      <td>86</td>\n",
       "      <td>32</td>\n",
       "      <td>118</td>\n",
       "    </tr>\n",
       "    <tr>\n",
       "      <th>Oceania</th>\n",
       "      <td>38</td>\n",
       "      <td>21</td>\n",
       "      <td>59</td>\n",
       "    </tr>\n",
       "  </tbody>\n",
       "</table>\n",
       "</div>"
      ],
      "text/plain": [
       "LSD_Mushroom     0    1  Total\n",
       "Continent                     \n",
       "Europe        1029  35   1064 \n",
       "America       445   199  644  \n",
       "Others        86    32   118  \n",
       "Oceania       38    21   59   "
      ]
     },
     "execution_count": 353,
     "metadata": {},
     "output_type": "execute_result"
    }
   ],
   "source": [
    "ct_Continent=pd.crosstab(df_final['Continent'],df_final['LSD_Mushroom'])\n",
    "ct_Continent['Total']=ct_Continent.sum(axis=1)\n",
    "ct_Continent = ct_Continent.sort_values('Total',ascending=False)\n",
    "ct_Continent"
   ]
  },
  {
   "cell_type": "code",
   "execution_count": 354,
   "metadata": {},
   "outputs": [
    {
     "data": {
      "image/png": "[encoded data removed]",
      "text/plain": [
       "<Figure size 1000x400 with 1 Axes>"
      ]
     },
     "metadata": {},
     "output_type": "display_data"
    },
    {
     "data": {
      "application/vnd.plotly.v1+json": {
       "config": {
        "plotlyServerURL": "https://plot.ly"
       },
       "data": [
        {
         "branchvalues": "total",
         "customdata": [
          [
           0
          ],
          [
           0
          ],
          [
           0
          ],
          [
           0
          ],
          [
           1
          ],
          [
           1
          ],
          [
           1
          ],
          [
           1
          ],
          [
           0.3090062111801242
          ],
          [
           0.03289473684210526
          ],
          [
           0.3559322033898305
          ],
          [
           0.2711864406779661
          ]
         ],
         "domain": {
          "x": [
           0,
           1
          ],
          "y": [
           0,
           1
          ]
         },
         "hovertemplate": "labels=%{label}<br>count=%{value}<br>parent=%{parent}<br>id=%{id}<br>LSD_Mushroom=%{color}<extra></extra>",
         "ids": [
          "America/0",
          "Europe/0",
          "Oceania/0",
          "Others/0",
          "America/1",
          "Europe/1",
          "Oceania/1",
          "Others/1",
          "America",
          "Europe",
          "Oceania",
          "Others"
         ],
         "labels": [
          "0",
          "0",
          "0",
          "0",
          "1",
          "1",
          "1",
          "1",
          "America",
          "Europe",
          "Oceania",
          "Others"
         ],
         "marker": {
          "coloraxis": "coloraxis",
          "colors": [
           0,
           0,
           0,
           0,
           1,
           1,
           1,
           1,
           0.3090062111801242,
           0.03289473684210526,
           0.3559322033898305,
           0.2711864406779661
          ]
         },
         "name": "",
         "parents": [
          "America",
          "Europe",
          "Oceania",
          "Others",
          "America",
          "Europe",
          "Oceania",
          "Others",
          "",
          "",
          "",
          ""
         ],
         "type": "sunburst",
         "values": [
          445,
          1029,
          38,
          86,
          199,
          35,
          21,
          32,
          644,
          1064,
          59,
          118
         ]
        }
       ],
       "layout": {
        "coloraxis": {
         "colorbar": {
          "title": {
           "text": "LSD_Mushroom"
          }
         },
         "colorscale": [
          [
           0,
           "#0d0887"
          ],
          [
           0.1111111111111111,
           "#46039f"
          ],
          [
           0.2222222222222222,
           "#7201a8"
          ],
          [
           0.3333333333333333,
           "#9c179e"
          ],
          [
           0.4444444444444444,
           "#bd3786"
          ],
          [
           0.5555555555555556,
           "#d8576b"
          ],
          [
           0.6666666666666666,
           "#ed7953"
          ],
          [
           0.7777777777777778,
           "#fb9f3a"
          ],
          [
           0.8888888888888888,
           "#fdca26"
          ],
          [
           1,
           "#f0f921"
          ]
         ]
        },
        "legend": {
         "tracegroupgap": 0
        },
        "template": {
         "data": {
          "bar": [
           {
            "error_x": {
             "color": "#2a3f5f"
            },
            "error_y": {
             "color": "#2a3f5f"
            },
            "marker": {
             "line": {
              "color": "#E5ECF6",
              "width": 0.5
             },
             "pattern": {
              "fillmode": "overlay",
              "size": 10,
              "solidity": 0.2
             }
            },
            "type": "bar"
           }
          ],
          "barpolar": [
           {
            "marker": {
             "line": {
              "color": "#E5ECF6",
              "width": 0.5
             },
             "pattern": {
              "fillmode": "overlay",
              "size": 10,
              "solidity": 0.2
             }
            },
            "type": "barpolar"
           }
          ],
          "carpet": [
           {
            "aaxis": {
             "endlinecolor": "#2a3f5f",
             "gridcolor": "white",
             "linecolor": "white",
             "minorgridcolor": "white",
             "startlinecolor": "#2a3f5f"
            },
            "baxis": {
             "endlinecolor": "#2a3f5f",
             "gridcolor": "white",
             "linecolor": "white",
             "minorgridcolor": "white",
             "startlinecolor": "#2a3f5f"
            },
            "type": "carpet"
           }
          ],
          "choropleth": [
           {
            "colorbar": {
             "outlinewidth": 0,
             "ticks": ""
            },
            "type": "choropleth"
           }
          ],
          "contour": [
           {
            "colorbar": {
             "outlinewidth": 0,
             "ticks": ""
            },
            "colorscale": [
             [
              0,
              "#0d0887"
             ],
             [
              0.1111111111111111,
              "#46039f"
             ],
             [
              0.2222222222222222,
              "#7201a8"
             ],
             [
              0.3333333333333333,
              "#9c179e"
             ],
             [
              0.4444444444444444,
              "#bd3786"
             ],
             [
              0.5555555555555556,
              "#d8576b"
             ],
             [
              0.6666666666666666,
              "#ed7953"
             ],
             [
              0.7777777777777778,
              "#fb9f3a"
             ],
             [
              0.8888888888888888,
              "#fdca26"
             ],
             [
              1,
              "#f0f921"
             ]
            ],
            "type": "contour"
           }
          ],
          "contourcarpet": [
           {
            "colorbar": {
             "outlinewidth": 0,
             "ticks": ""
            },
            "type": "contourcarpet"
           }
          ],
          "heatmap": [
           {
            "colorbar": {
             "outlinewidth": 0,
             "ticks": ""
            },
            "colorscale": [
             [
              0,
              "#0d0887"
             ],
             [
              0.1111111111111111,
              "#46039f"
             ],
             [
              0.2222222222222222,
              "#7201a8"
             ],
             [
              0.3333333333333333,
              "#9c179e"
             ],
             [
              0.4444444444444444,
              "#bd3786"
             ],
             [
              0.5555555555555556,
              "#d8576b"
             ],
             [
              0.6666666666666666,
              "#ed7953"
             ],
             [
              0.7777777777777778,
              "#fb9f3a"
             ],
             [
              0.8888888888888888,
              "#fdca26"
             ],
             [
              1,
              "#f0f921"
             ]
            ],
            "type": "heatmap"
           }
          ],
          "heatmapgl": [
           {
            "colorbar": {
             "outlinewidth": 0,
             "ticks": ""
            },
            "colorscale": [
             [
              0,
              "#0d0887"
             ],
             [
              0.1111111111111111,
              "#46039f"
             ],
             [
              0.2222222222222222,
              "#7201a8"
             ],
             [
              0.3333333333333333,
              "#9c179e"
             ],
             [
              0.4444444444444444,
              "#bd3786"
             ],
             [
              0.5555555555555556,
              "#d8576b"
             ],
             [
              0.6666666666666666,
              "#ed7953"
             ],
             [
              0.7777777777777778,
              "#fb9f3a"
             ],
             [
              0.8888888888888888,
              "#fdca26"
             ],
             [
              1,
              "#f0f921"
             ]
            ],
            "type": "heatmapgl"
           }
          ],
          "histogram": [
           {
            "marker": {
             "pattern": {
              "fillmode": "overlay",
              "size": 10,
              "solidity": 0.2
             }
            },
            "type": "histogram"
           }
          ],
          "histogram2d": [
           {
            "colorbar": {
             "outlinewidth": 0,
             "ticks": ""
            },
            "colorscale": [
             [
              0,
              "#0d0887"
             ],
             [
              0.1111111111111111,
              "#46039f"
             ],
             [
              0.2222222222222222,
              "#7201a8"
             ],
             [
              0.3333333333333333,
              "#9c179e"
             ],
             [
              0.4444444444444444,
              "#bd3786"
             ],
             [
              0.5555555555555556,
              "#d8576b"
             ],
             [
              0.6666666666666666,
              "#ed7953"
             ],
             [
              0.7777777777777778,
              "#fb9f3a"
             ],
             [
              0.8888888888888888,
              "#fdca26"
             ],
             [
              1,
              "#f0f921"
             ]
            ],
            "type": "histogram2d"
           }
          ],
          "histogram2dcontour": [
           {
            "colorbar": {
             "outlinewidth": 0,
             "ticks": ""
            },
            "colorscale": [
             [
              0,
              "#0d0887"
             ],
             [
              0.1111111111111111,
              "#46039f"
             ],
             [
              0.2222222222222222,
              "#7201a8"
             ],
             [
              0.3333333333333333,
              "#9c179e"
             ],
             [
              0.4444444444444444,
              "#bd3786"
             ],
             [
              0.5555555555555556,
              "#d8576b"
             ],
             [
              0.6666666666666666,
              "#ed7953"
             ],
             [
              0.7777777777777778,
              "#fb9f3a"
             ],
             [
              0.8888888888888888,
              "#fdca26"
             ],
             [
              1,
              "#f0f921"
             ]
            ],
            "type": "histogram2dcontour"
           }
          ],
          "mesh3d": [
           {
            "colorbar": {
             "outlinewidth": 0,
             "ticks": ""
            },
            "type": "mesh3d"
           }
          ],
          "parcoords": [
           {
            "line": {
             "colorbar": {
              "outlinewidth": 0,
              "ticks": ""
             }
            },
            "type": "parcoords"
           }
          ],
          "pie": [
           {
            "automargin": true,
            "type": "pie"
           }
          ],
          "scatter": [
           {
            "fillpattern": {
             "fillmode": "overlay",
             "size": 10,
             "solidity": 0.2
            },
            "type": "scatter"
           }
          ],
          "scatter3d": [
           {
            "line": {
             "colorbar": {
              "outlinewidth": 0,
              "ticks": ""
             }
            },
            "marker": {
             "colorbar": {
              "outlinewidth": 0,
              "ticks": ""
             }
            },
            "type": "scatter3d"
           }
          ],
          "scattercarpet": [
           {
            "marker": {
             "colorbar": {
              "outlinewidth": 0,
              "ticks": ""
             }
            },
            "type": "scattercarpet"
           }
          ],
          "scattergeo": [
           {
            "marker": {
             "colorbar": {
              "outlinewidth": 0,
              "ticks": ""
             }
            },
            "type": "scattergeo"
           }
          ],
          "scattergl": [
           {
            "marker": {
             "colorbar": {
              "outlinewidth": 0,
              "ticks": ""
             }
            },
            "type": "scattergl"
           }
          ],
          "scattermapbox": [
           {
            "marker": {
             "colorbar": {
              "outlinewidth": 0,
              "ticks": ""
             }
            },
            "type": "scattermapbox"
           }
          ],
          "scatterpolar": [
           {
            "marker": {
             "colorbar": {
              "outlinewidth": 0,
              "ticks": ""
             }
            },
            "type": "scatterpolar"
           }
          ],
          "scatterpolargl": [
           {
            "marker": {
             "colorbar": {
              "outlinewidth": 0,
              "ticks": ""
             }
            },
            "type": "scatterpolargl"
           }
          ],
          "scatterternary": [
           {
            "marker": {
             "colorbar": {
              "outlinewidth": 0,
              "ticks": ""
             }
            },
            "type": "scatterternary"
           }
          ],
          "surface": [
           {
            "colorbar": {
             "outlinewidth": 0,
             "ticks": ""
            },
            "colorscale": [
             [
              0,
              "#0d0887"
             ],
             [
              0.1111111111111111,
              "#46039f"
             ],
             [
              0.2222222222222222,
              "#7201a8"
             ],
             [
              0.3333333333333333,
              "#9c179e"
             ],
             [
              0.4444444444444444,
              "#bd3786"
             ],
             [
              0.5555555555555556,
              "#d8576b"
             ],
             [
              0.6666666666666666,
              "#ed7953"
             ],
             [
              0.7777777777777778,
              "#fb9f3a"
             ],
             [
              0.8888888888888888,
              "#fdca26"
             ],
             [
              1,
              "#f0f921"
             ]
            ],
            "type": "surface"
           }
          ],
          "table": [
           {
            "cells": {
             "fill": {
              "color": "#EBF0F8"
             },
             "line": {
              "color": "white"
             }
            },
            "header": {
             "fill": {
              "color": "#C8D4E3"
             },
             "line": {
              "color": "white"
             }
            },
            "type": "table"
           }
          ]
         },
         "layout": {
          "annotationdefaults": {
           "arrowcolor": "#2a3f5f",
           "arrowhead": 0,
           "arrowwidth": 1
          },
          "autotypenumbers": "strict",
          "coloraxis": {
           "colorbar": {
            "outlinewidth": 0,
            "ticks": ""
           }
          },
          "colorscale": {
           "diverging": [
            [
             0,
             "#8e0152"
            ],
            [
             0.1,
             "#c51b7d"
            ],
            [
             0.2,
             "#de77ae"
            ],
            [
             0.3,
             "#f1b6da"
            ],
            [
             0.4,
             "#fde0ef"
            ],
            [
             0.5,
             "#f7f7f7"
            ],
            [
             0.6,
             "#e6f5d0"
            ],
            [
             0.7,
             "#b8e186"
            ],
            [
             0.8,
             "#7fbc41"
            ],
            [
             0.9,
             "#4d9221"
            ],
            [
             1,
             "#276419"
            ]
           ],
           "sequential": [
            [
             0,
             "#0d0887"
            ],
            [
             0.1111111111111111,
             "#46039f"
            ],
            [
             0.2222222222222222,
             "#7201a8"
            ],
            [
             0.3333333333333333,
             "#9c179e"
            ],
            [
             0.4444444444444444,
             "#bd3786"
            ],
            [
             0.5555555555555556,
             "#d8576b"
            ],
            [
             0.6666666666666666,
             "#ed7953"
            ],
            [
             0.7777777777777778,
             "#fb9f3a"
            ],
            [
             0.8888888888888888,
             "#fdca26"
            ],
            [
             1,
             "#f0f921"
            ]
           ],
           "sequentialminus": [
            [
             0,
             "#0d0887"
            ],
            [
             0.1111111111111111,
             "#46039f"
            ],
            [
             0.2222222222222222,
             "#7201a8"
            ],
            [
             0.3333333333333333,
             "#9c179e"
            ],
            [
             0.4444444444444444,
             "#bd3786"
            ],
            [
             0.5555555555555556,
             "#d8576b"
            ],
            [
             0.6666666666666666,
             "#ed7953"
            ],
            [
             0.7777777777777778,
             "#fb9f3a"
            ],
            [
             0.8888888888888888,
             "#fdca26"
            ],
            [
             1,
             "#f0f921"
            ]
           ]
          },
          "colorway": [
           "#636efa",
           "#EF553B",
           "#00cc96",
           "#ab63fa",
           "#FFA15A",
           "#19d3f3",
           "#FF6692",
           "#B6E880",
           "#FF97FF",
           "#FECB52"
          ],
          "font": {
           "color": "#2a3f5f"
          },
          "geo": {
           "bgcolor": "white",
           "lakecolor": "white",
           "landcolor": "#E5ECF6",
           "showlakes": true,
           "showland": true,
           "subunitcolor": "white"
          },
          "hoverlabel": {
           "align": "left"
          },
          "hovermode": "closest",
          "mapbox": {
           "style": "light"
          },
          "paper_bgcolor": "white",
          "plot_bgcolor": "#E5ECF6",
          "polar": {
           "angularaxis": {
            "gridcolor": "white",
            "linecolor": "white",
            "ticks": ""
           },
           "bgcolor": "#E5ECF6",
           "radialaxis": {
            "gridcolor": "white",
            "linecolor": "white",
            "ticks": ""
           }
          },
          "scene": {
           "xaxis": {
            "backgroundcolor": "#E5ECF6",
            "gridcolor": "white",
            "gridwidth": 2,
            "linecolor": "white",
            "showbackground": true,
            "ticks": "",
            "zerolinecolor": "white"
           },
           "yaxis": {
            "backgroundcolor": "#E5ECF6",
            "gridcolor": "white",
            "gridwidth": 2,
            "linecolor": "white",
            "showbackground": true,
            "ticks": "",
            "zerolinecolor": "white"
           },
           "zaxis": {
            "backgroundcolor": "#E5ECF6",
            "gridcolor": "white",
            "gridwidth": 2,
            "linecolor": "white",
            "showbackground": true,
            "ticks": "",
            "zerolinecolor": "white"
           }
          },
          "shapedefaults": {
           "line": {
            "color": "#2a3f5f"
           }
          },
          "ternary": {
           "aaxis": {
            "gridcolor": "white",
            "linecolor": "white",
            "ticks": ""
           },
           "baxis": {
            "gridcolor": "white",
            "linecolor": "white",
            "ticks": ""
           },
           "bgcolor": "#E5ECF6",
           "caxis": {
            "gridcolor": "white",
            "linecolor": "white",
            "ticks": ""
           }
          },
          "title": {
           "x": 0.05
          },
          "xaxis": {
           "automargin": true,
           "gridcolor": "white",
           "linecolor": "white",
           "ticks": "",
           "title": {
            "standoff": 15
           },
           "zerolinecolor": "white",
           "zerolinewidth": 2
          },
          "yaxis": {
           "automargin": true,
           "gridcolor": "white",
           "linecolor": "white",
           "ticks": "",
           "title": {
            "standoff": 15
           },
           "zerolinecolor": "white",
           "zerolinewidth": 2
          }
         }
        },
        "title": {
         "text": "LSD_Mushroom Consumer Proportions Based on Continent"
        }
       }
      }
     },
     "metadata": {},
     "output_type": "display_data"
    },
    {
     "data": {
      "text/plain": [
       "None"
      ]
     },
     "metadata": {},
     "output_type": "display_data"
    },
    {
     "data": {
      "text/plain": [
       "None"
      ]
     },
     "metadata": {},
     "output_type": "display_data"
    }
   ],
   "source": [
    "display ( plot_bar('Continent'),visualize_sunburst('Continent'))\n"
   ]
  },
  {
   "attachments": {},
   "cell_type": "markdown",
   "metadata": {},
   "source": [
    "Based on the statistical analysis conducted, it can be concluded that Continents which where the participants resides are also associated with LSD_Mushroom Consumption. Interestingly, despite having the highest number of participants, proportion of LSD_Mushroom consumption in Europeis relatively low (more than 1/4) compared to America. On the other hand, America, with a smaller total number of participants (6/10 of Europe) exhibits a higher proportion of those drugs. This findings also align with the findings from United Nations Office on Drugs and Crime, where Europe has the lowest drugs consumption among all continents. Also, a news from University of Michigan stated that American teens have higher rates of illicit drug use compared to European (Source = [link](https://news.umich.edu/compared-with-europe-american-teens-have-high-rates-of-illicit-drug-use/)). These may be influenced by some possible factors includes the difference of the availability and accessibility, and cultural differences."
   ]
  },
  {
   "attachments": {},
   "cell_type": "markdown",
   "metadata": {},
   "source": [
    "## 2e. LSD_Mushroom Consumption Relationship with Ethnicity\n",
    "\n",
    "Testing the relation between LSD_Mushroom consumption and Ethnicity\n",
    "**Hypothesis**\n",
    "- H0 = There is no association between LSD_Mushroom consumption and Ethnicity\n",
    "- H1 = There is an association between LSD_Mushroom consumption and Ethnicity\n"
   ]
  },
  {
   "cell_type": "code",
   "execution_count": 355,
   "metadata": {},
   "outputs": [
    {
     "name": "stdout",
     "output_type": "stream",
     "text": [
      "\n",
      "Variable: Ethnicity\n",
      "P-value: 0.00027181436971845035\n",
      "pvalue <= 0.05. Reject Ho.\n"
     ]
    }
   ],
   "source": [
    "chi2_contingency_results('Ethnicity')\n",
    "\n",
    "# Reject H0, means There is an association between LSD_Mushroom consumption and Ethnicity."
   ]
  },
  {
   "cell_type": "code",
   "execution_count": 356,
   "metadata": {},
   "outputs": [
    {
     "data": {
      "text/html": [
       "<div>\n",
       "<style scoped>\n",
       "    .dataframe tbody tr th:only-of-type {\n",
       "        vertical-align: middle;\n",
       "    }\n",
       "\n",
       "    .dataframe tbody tr th {\n",
       "        vertical-align: top;\n",
       "    }\n",
       "\n",
       "    .dataframe thead th {\n",
       "        text-align: right;\n",
       "    }\n",
       "</style>\n",
       "<table border=\"1\" class=\"dataframe\">\n",
       "  <thead>\n",
       "    <tr style=\"text-align: right;\">\n",
       "      <th>LSD_Mushroom</th>\n",
       "      <th>0</th>\n",
       "      <th>1</th>\n",
       "      <th>Total</th>\n",
       "    </tr>\n",
       "    <tr>\n",
       "      <th>Ethnicity</th>\n",
       "      <th></th>\n",
       "      <th></th>\n",
       "      <th></th>\n",
       "    </tr>\n",
       "  </thead>\n",
       "  <tbody>\n",
       "    <tr>\n",
       "      <th>White</th>\n",
       "      <td>1465</td>\n",
       "      <td>255</td>\n",
       "      <td>1720</td>\n",
       "    </tr>\n",
       "    <tr>\n",
       "      <th>Others</th>\n",
       "      <td>45</td>\n",
       "      <td>18</td>\n",
       "      <td>63</td>\n",
       "    </tr>\n",
       "    <tr>\n",
       "      <th>Mixed</th>\n",
       "      <td>31</td>\n",
       "      <td>12</td>\n",
       "      <td>43</td>\n",
       "    </tr>\n",
       "    <tr>\n",
       "      <th>Black</th>\n",
       "      <td>33</td>\n",
       "      <td>0</td>\n",
       "      <td>33</td>\n",
       "    </tr>\n",
       "    <tr>\n",
       "      <th>Asian</th>\n",
       "      <td>24</td>\n",
       "      <td>2</td>\n",
       "      <td>26</td>\n",
       "    </tr>\n",
       "  </tbody>\n",
       "</table>\n",
       "</div>"
      ],
      "text/plain": [
       "LSD_Mushroom     0    1  Total\n",
       "Ethnicity                     \n",
       "White         1465  255  1720 \n",
       "Others        45    18   63   \n",
       "Mixed         31    12   43   \n",
       "Black         33    0    33   \n",
       "Asian         24    2    26   "
      ]
     },
     "execution_count": 356,
     "metadata": {},
     "output_type": "execute_result"
    }
   ],
   "source": [
    "ct_Ethnicity=pd.crosstab(df_final['Ethnicity'],df_final['LSD_Mushroom'])\n",
    "ct_Ethnicity['Total']=ct_Ethnicity.sum(axis=1)\n",
    "ct_Ethnicity = ct_Ethnicity.sort_values('Total',ascending=False)\n",
    "ct_Ethnicity"
   ]
  },
  {
   "cell_type": "code",
   "execution_count": 357,
   "metadata": {},
   "outputs": [
    {
     "data": {
      "image/png": "[encoded data removed]",
      "text/plain": [
       "<Figure size 1000x400 with 1 Axes>"
      ]
     },
     "metadata": {},
     "output_type": "display_data"
    },
    {
     "data": {
      "application/vnd.plotly.v1+json": {
       "config": {
        "plotlyServerURL": "https://plot.ly"
       },
       "data": [
        {
         "branchvalues": "total",
         "customdata": [
          [
           0
          ],
          [
           0
          ],
          [
           0
          ],
          [
           0
          ],
          [
           0
          ],
          [
           1
          ],
          [
           1
          ],
          [
           1
          ],
          [
           1
          ],
          [
           0.07692307692307693
          ],
          [
           0
          ],
          [
           0.27906976744186046
          ],
          [
           0.2857142857142857
          ],
          [
           0.14825581395348839
          ]
         ],
         "domain": {
          "x": [
           0,
           1
          ],
          "y": [
           0,
           1
          ]
         },
         "hovertemplate": "labels=%{label}<br>count=%{value}<br>parent=%{parent}<br>id=%{id}<br>LSD_Mushroom=%{color}<extra></extra>",
         "ids": [
          "Asian/0",
          "Black/0",
          "Mixed/0",
          "Others/0",
          "White/0",
          "Asian/1",
          "Mixed/1",
          "Others/1",
          "White/1",
          "Asian",
          "Black",
          "Mixed",
          "Others",
          "White"
         ],
         "labels": [
          "0",
          "0",
          "0",
          "0",
          "0",
          "1",
          "1",
          "1",
          "1",
          "Asian",
          "Black",
          "Mixed",
          "Others",
          "White"
         ],
         "marker": {
          "coloraxis": "coloraxis",
          "colors": [
           0,
           0,
           0,
           0,
           0,
           1,
           1,
           1,
           1,
           0.07692307692307693,
           0,
           0.27906976744186046,
           0.2857142857142857,
           0.14825581395348839
          ]
         },
         "name": "",
         "parents": [
          "Asian",
          "Black",
          "Mixed",
          "Others",
          "White",
          "Asian",
          "Mixed",
          "Others",
          "White",
          "",
          "",
          "",
          "",
          ""
         ],
         "type": "sunburst",
         "values": [
          24,
          33,
          31,
          45,
          1465,
          2,
          12,
          18,
          255,
          26,
          33,
          43,
          63,
          1720
         ]
        }
       ],
       "layout": {
        "coloraxis": {
         "colorbar": {
          "title": {
           "text": "LSD_Mushroom"
          }
         },
         "colorscale": [
          [
           0,
           "#0d0887"
          ],
          [
           0.1111111111111111,
           "#46039f"
          ],
          [
           0.2222222222222222,
           "#7201a8"
          ],
          [
           0.3333333333333333,
           "#9c179e"
          ],
          [
           0.4444444444444444,
           "#bd3786"
          ],
          [
           0.5555555555555556,
           "#d8576b"
          ],
          [
           0.6666666666666666,
           "#ed7953"
          ],
          [
           0.7777777777777778,
           "#fb9f3a"
          ],
          [
           0.8888888888888888,
           "#fdca26"
          ],
          [
           1,
           "#f0f921"
          ]
         ]
        },
        "legend": {
         "tracegroupgap": 0
        },
        "template": {
         "data": {
          "bar": [
           {
            "error_x": {
             "color": "#2a3f5f"
            },
            "error_y": {
             "color": "#2a3f5f"
            },
            "marker": {
             "line": {
              "color": "#E5ECF6",
              "width": 0.5
             },
             "pattern": {
              "fillmode": "overlay",
              "size": 10,
              "solidity": 0.2
             }
            },
            "type": "bar"
           }
          ],
          "barpolar": [
           {
            "marker": {
             "line": {
              "color": "#E5ECF6",
              "width": 0.5
             },
             "pattern": {
              "fillmode": "overlay",
              "size": 10,
              "solidity": 0.2
             }
            },
            "type": "barpolar"
           }
          ],
          "carpet": [
           {
            "aaxis": {
             "endlinecolor": "#2a3f5f",
             "gridcolor": "white",
             "linecolor": "white",
             "minorgridcolor": "white",
             "startlinecolor": "#2a3f5f"
            },
            "baxis": {
             "endlinecolor": "#2a3f5f",
             "gridcolor": "white",
             "linecolor": "white",
             "minorgridcolor": "white",
             "startlinecolor": "#2a3f5f"
            },
            "type": "carpet"
           }
          ],
          "choropleth": [
           {
            "colorbar": {
             "outlinewidth": 0,
             "ticks": ""
            },
            "type": "choropleth"
           }
          ],
          "contour": [
           {
            "colorbar": {
             "outlinewidth": 0,
             "ticks": ""
            },
            "colorscale": [
             [
              0,
              "#0d0887"
             ],
             [
              0.1111111111111111,
              "#46039f"
             ],
             [
              0.2222222222222222,
              "#7201a8"
             ],
             [
              0.3333333333333333,
              "#9c179e"
             ],
             [
              0.4444444444444444,
              "#bd3786"
             ],
             [
              0.5555555555555556,
              "#d8576b"
             ],
             [
              0.6666666666666666,
              "#ed7953"
             ],
             [
              0.7777777777777778,
              "#fb9f3a"
             ],
             [
              0.8888888888888888,
              "#fdca26"
             ],
             [
              1,
              "#f0f921"
             ]
            ],
            "type": "contour"
           }
          ],
          "contourcarpet": [
           {
            "colorbar": {
             "outlinewidth": 0,
             "ticks": ""
            },
            "type": "contourcarpet"
           }
          ],
          "heatmap": [
           {
            "colorbar": {
             "outlinewidth": 0,
             "ticks": ""
            },
            "colorscale": [
             [
              0,
              "#0d0887"
             ],
             [
              0.1111111111111111,
              "#46039f"
             ],
             [
              0.2222222222222222,
              "#7201a8"
             ],
             [
              0.3333333333333333,
              "#9c179e"
             ],
             [
              0.4444444444444444,
              "#bd3786"
             ],
             [
              0.5555555555555556,
              "#d8576b"
             ],
             [
              0.6666666666666666,
              "#ed7953"
             ],
             [
              0.7777777777777778,
              "#fb9f3a"
             ],
             [
              0.8888888888888888,
              "#fdca26"
             ],
             [
              1,
              "#f0f921"
             ]
            ],
            "type": "heatmap"
           }
          ],
          "heatmapgl": [
           {
            "colorbar": {
             "outlinewidth": 0,
             "ticks": ""
            },
            "colorscale": [
             [
              0,
              "#0d0887"
             ],
             [
              0.1111111111111111,
              "#46039f"
             ],
             [
              0.2222222222222222,
              "#7201a8"
             ],
             [
              0.3333333333333333,
              "#9c179e"
             ],
             [
              0.4444444444444444,
              "#bd3786"
             ],
             [
              0.5555555555555556,
              "#d8576b"
             ],
             [
              0.6666666666666666,
              "#ed7953"
             ],
             [
              0.7777777777777778,
              "#fb9f3a"
             ],
             [
              0.8888888888888888,
              "#fdca26"
             ],
             [
              1,
              "#f0f921"
             ]
            ],
            "type": "heatmapgl"
           }
          ],
          "histogram": [
           {
            "marker": {
             "pattern": {
              "fillmode": "overlay",
              "size": 10,
              "solidity": 0.2
             }
            },
            "type": "histogram"
           }
          ],
          "histogram2d": [
           {
            "colorbar": {
             "outlinewidth": 0,
             "ticks": ""
            },
            "colorscale": [
             [
              0,
              "#0d0887"
             ],
             [
              0.1111111111111111,
              "#46039f"
             ],
             [
              0.2222222222222222,
              "#7201a8"
             ],
             [
              0.3333333333333333,
              "#9c179e"
             ],
             [
              0.4444444444444444,
              "#bd3786"
             ],
             [
              0.5555555555555556,
              "#d8576b"
             ],
             [
              0.6666666666666666,
              "#ed7953"
             ],
             [
              0.7777777777777778,
              "#fb9f3a"
             ],
             [
              0.8888888888888888,
              "#fdca26"
             ],
             [
              1,
              "#f0f921"
             ]
            ],
            "type": "histogram2d"
           }
          ],
          "histogram2dcontour": [
           {
            "colorbar": {
             "outlinewidth": 0,
             "ticks": ""
            },
            "colorscale": [
             [
              0,
              "#0d0887"
             ],
             [
              0.1111111111111111,
              "#46039f"
             ],
             [
              0.2222222222222222,
              "#7201a8"
             ],
             [
              0.3333333333333333,
              "#9c179e"
             ],
             [
              0.4444444444444444,
              "#bd3786"
             ],
             [
              0.5555555555555556,
              "#d8576b"
             ],
             [
              0.6666666666666666,
              "#ed7953"
             ],
             [
              0.7777777777777778,
              "#fb9f3a"
             ],
             [
              0.8888888888888888,
              "#fdca26"
             ],
             [
              1,
              "#f0f921"
             ]
            ],
            "type": "histogram2dcontour"
           }
          ],
          "mesh3d": [
           {
            "colorbar": {
             "outlinewidth": 0,
             "ticks": ""
            },
            "type": "mesh3d"
           }
          ],
          "parcoords": [
           {
            "line": {
             "colorbar": {
              "outlinewidth": 0,
              "ticks": ""
             }
            },
            "type": "parcoords"
           }
          ],
          "pie": [
           {
            "automargin": true,
            "type": "pie"
           }
          ],
          "scatter": [
           {
            "fillpattern": {
             "fillmode": "overlay",
             "size": 10,
             "solidity": 0.2
            },
            "type": "scatter"
           }
          ],
          "scatter3d": [
           {
            "line": {
             "colorbar": {
              "outlinewidth": 0,
              "ticks": ""
             }
            },
            "marker": {
             "colorbar": {
              "outlinewidth": 0,
              "ticks": ""
             }
            },
            "type": "scatter3d"
           }
          ],
          "scattercarpet": [
           {
            "marker": {
             "colorbar": {
              "outlinewidth": 0,
              "ticks": ""
             }
            },
            "type": "scattercarpet"
           }
          ],
          "scattergeo": [
           {
            "marker": {
             "colorbar": {
              "outlinewidth": 0,
              "ticks": ""
             }
            },
            "type": "scattergeo"
           }
          ],
          "scattergl": [
           {
            "marker": {
             "colorbar": {
              "outlinewidth": 0,
              "ticks": ""
             }
            },
            "type": "scattergl"
           }
          ],
          "scattermapbox": [
           {
            "marker": {
             "colorbar": {
              "outlinewidth": 0,
              "ticks": ""
             }
            },
            "type": "scattermapbox"
           }
          ],
          "scatterpolar": [
           {
            "marker": {
             "colorbar": {
              "outlinewidth": 0,
              "ticks": ""
             }
            },
            "type": "scatterpolar"
           }
          ],
          "scatterpolargl": [
           {
            "marker": {
             "colorbar": {
              "outlinewidth": 0,
              "ticks": ""
             }
            },
            "type": "scatterpolargl"
           }
          ],
          "scatterternary": [
           {
            "marker": {
             "colorbar": {
              "outlinewidth": 0,
              "ticks": ""
             }
            },
            "type": "scatterternary"
           }
          ],
          "surface": [
           {
            "colorbar": {
             "outlinewidth": 0,
             "ticks": ""
            },
            "colorscale": [
             [
              0,
              "#0d0887"
             ],
             [
              0.1111111111111111,
              "#46039f"
             ],
             [
              0.2222222222222222,
              "#7201a8"
             ],
             [
              0.3333333333333333,
              "#9c179e"
             ],
             [
              0.4444444444444444,
              "#bd3786"
             ],
             [
              0.5555555555555556,
              "#d8576b"
             ],
             [
              0.6666666666666666,
              "#ed7953"
             ],
             [
              0.7777777777777778,
              "#fb9f3a"
             ],
             [
              0.8888888888888888,
              "#fdca26"
             ],
             [
              1,
              "#f0f921"
             ]
            ],
            "type": "surface"
           }
          ],
          "table": [
           {
            "cells": {
             "fill": {
              "color": "#EBF0F8"
             },
             "line": {
              "color": "white"
             }
            },
            "header": {
             "fill": {
              "color": "#C8D4E3"
             },
             "line": {
              "color": "white"
             }
            },
            "type": "table"
           }
          ]
         },
         "layout": {
          "annotationdefaults": {
           "arrowcolor": "#2a3f5f",
           "arrowhead": 0,
           "arrowwidth": 1
          },
          "autotypenumbers": "strict",
          "coloraxis": {
           "colorbar": {
            "outlinewidth": 0,
            "ticks": ""
           }
          },
          "colorscale": {
           "diverging": [
            [
             0,
             "#8e0152"
            ],
            [
             0.1,
             "#c51b7d"
            ],
            [
             0.2,
             "#de77ae"
            ],
            [
             0.3,
             "#f1b6da"
            ],
            [
             0.4,
             "#fde0ef"
            ],
            [
             0.5,
             "#f7f7f7"
            ],
            [
             0.6,
             "#e6f5d0"
            ],
            [
             0.7,
             "#b8e186"
            ],
            [
             0.8,
             "#7fbc41"
            ],
            [
             0.9,
             "#4d9221"
            ],
            [
             1,
             "#276419"
            ]
           ],
           "sequential": [
            [
             0,
             "#0d0887"
            ],
            [
             0.1111111111111111,
             "#46039f"
            ],
            [
             0.2222222222222222,
             "#7201a8"
            ],
            [
             0.3333333333333333,
             "#9c179e"
            ],
            [
             0.4444444444444444,
             "#bd3786"
            ],
            [
             0.5555555555555556,
             "#d8576b"
            ],
            [
             0.6666666666666666,
             "#ed7953"
            ],
            [
             0.7777777777777778,
             "#fb9f3a"
            ],
            [
             0.8888888888888888,
             "#fdca26"
            ],
            [
             1,
             "#f0f921"
            ]
           ],
           "sequentialminus": [
            [
             0,
             "#0d0887"
            ],
            [
             0.1111111111111111,
             "#46039f"
            ],
            [
             0.2222222222222222,
             "#7201a8"
            ],
            [
             0.3333333333333333,
             "#9c179e"
            ],
            [
             0.4444444444444444,
             "#bd3786"
            ],
            [
             0.5555555555555556,
             "#d8576b"
            ],
            [
             0.6666666666666666,
             "#ed7953"
            ],
            [
             0.7777777777777778,
             "#fb9f3a"
            ],
            [
             0.8888888888888888,
             "#fdca26"
            ],
            [
             1,
             "#f0f921"
            ]
           ]
          },
          "colorway": [
           "#636efa",
           "#EF553B",
           "#00cc96",
           "#ab63fa",
           "#FFA15A",
           "#19d3f3",
           "#FF6692",
           "#B6E880",
           "#FF97FF",
           "#FECB52"
          ],
          "font": {
           "color": "#2a3f5f"
          },
          "geo": {
           "bgcolor": "white",
           "lakecolor": "white",
           "landcolor": "#E5ECF6",
           "showlakes": true,
           "showland": true,
           "subunitcolor": "white"
          },
          "hoverlabel": {
           "align": "left"
          },
          "hovermode": "closest",
          "mapbox": {
           "style": "light"
          },
          "paper_bgcolor": "white",
          "plot_bgcolor": "#E5ECF6",
          "polar": {
           "angularaxis": {
            "gridcolor": "white",
            "linecolor": "white",
            "ticks": ""
           },
           "bgcolor": "#E5ECF6",
           "radialaxis": {
            "gridcolor": "white",
            "linecolor": "white",
            "ticks": ""
           }
          },
          "scene": {
           "xaxis": {
            "backgroundcolor": "#E5ECF6",
            "gridcolor": "white",
            "gridwidth": 2,
            "linecolor": "white",
            "showbackground": true,
            "ticks": "",
            "zerolinecolor": "white"
           },
           "yaxis": {
            "backgroundcolor": "#E5ECF6",
            "gridcolor": "white",
            "gridwidth": 2,
            "linecolor": "white",
            "showbackground": true,
            "ticks": "",
            "zerolinecolor": "white"
           },
           "zaxis": {
            "backgroundcolor": "#E5ECF6",
            "gridcolor": "white",
            "gridwidth": 2,
            "linecolor": "white",
            "showbackground": true,
            "ticks": "",
            "zerolinecolor": "white"
           }
          },
          "shapedefaults": {
           "line": {
            "color": "#2a3f5f"
           }
          },
          "ternary": {
           "aaxis": {
            "gridcolor": "white",
            "linecolor": "white",
            "ticks": ""
           },
           "baxis": {
            "gridcolor": "white",
            "linecolor": "white",
            "ticks": ""
           },
           "bgcolor": "#E5ECF6",
           "caxis": {
            "gridcolor": "white",
            "linecolor": "white",
            "ticks": ""
           }
          },
          "title": {
           "x": 0.05
          },
          "xaxis": {
           "automargin": true,
           "gridcolor": "white",
           "linecolor": "white",
           "ticks": "",
           "title": {
            "standoff": 15
           },
           "zerolinecolor": "white",
           "zerolinewidth": 2
          },
          "yaxis": {
           "automargin": true,
           "gridcolor": "white",
           "linecolor": "white",
           "ticks": "",
           "title": {
            "standoff": 15
           },
           "zerolinecolor": "white",
           "zerolinewidth": 2
          }
         }
        },
        "title": {
         "text": "LSD_Mushroom Consumer Proportions Based on Ethnicity"
        }
       }
      }
     },
     "metadata": {},
     "output_type": "display_data"
    },
    {
     "data": {
      "text/plain": [
       "None"
      ]
     },
     "metadata": {},
     "output_type": "display_data"
    },
    {
     "data": {
      "text/plain": [
       "None"
      ]
     },
     "metadata": {},
     "output_type": "display_data"
    }
   ],
   "source": [
    "display ( plot_bar('Ethnicity'),visualize_sunburst('Ethnicity'))\n"
   ]
  },
  {
   "attachments": {},
   "cell_type": "markdown",
   "metadata": {},
   "source": [
    "From the data above, individuals identified as White  appears to be more prevalent to consume LSD_Mushroom compared to other ethnic groups. However, the sample sizes for some ethnicities are relatively small compared to White individuals. This disparity may impact the reliability and interpretability of the findings, we should be careful in making conclusions due to the small sample size. "
   ]
  },
  {
   "attachments": {},
   "cell_type": "markdown",
   "metadata": {},
   "source": [
    "## 3. Based on The Big Five personality traits = \n",
    "\n",
    "Next, to analyze the relationship between FFM personality dimensions and LSD-Mushroom consumption, we will focus on the following columns: 'NScore', 'EScore', 'OScore', 'AScore', and 'CScore'. These columns correspond to the Big Five personality traits or the Five-Factor Model (FFM) personality dimensions.\n",
    "\n",
    "By examining these columns, we aim to answer the following questions:\n",
    "\n",
    "- What FFM personality dimensions are related to LSD and Mushroom consumption?\n",
    "- Is there a difference in FFM personality dimensions between LSD and Mushroom consumers and non-consumers?       \n",
    "- What are the characteristics of the FFM personality dimensions for LSD and Mushroom consumers?"
   ]
  },
  {
   "cell_type": "code",
   "execution_count": 358,
   "metadata": {},
   "outputs": [
    {
     "name": "stdout",
     "output_type": "stream",
     "text": [
      "NScore: Non-Normal Distribution\n",
      "EScore: Non-Normal Distribution\n",
      "OScore: Non-Normal Distribution\n",
      "AScore: Non-Normal Distribution\n",
      "CScore: Non-Normal Distribution\n"
     ]
    }
   ],
   "source": [
    "# To check the distribution of each tests of the FFM Personality Dimension\n",
    "\n",
    "variables = ['NScore', 'EScore', 'OScore', 'AScore', 'CScore']\n",
    "\n",
    "for i in variables:\n",
    "    stats, pval = normaltest(df_final[i])\n",
    "    if pval <= 0.05:\n",
    "        print(f'{i}: Non-Normal Distribution')  # Ha\n",
    "    else:\n",
    "        print(f'{i}: Normal Distribution')  # Ho"
   ]
  },
  {
   "attachments": {},
   "cell_type": "markdown",
   "metadata": {},
   "source": [
    "Based on the distribution of the score variables, all scores are not distributed normally, therefore, I will now continue with Mann-Whitney test to analyze these variables."
   ]
  },
  {
   "attachments": {},
   "cell_type": "markdown",
   "metadata": {},
   "source": [
    "### 3a. NSCORE"
   ]
  },
  {
   "cell_type": "code",
   "execution_count": 359,
   "metadata": {},
   "outputs": [
    {
     "name": "stdout",
     "output_type": "stream",
     "text": [
      "NScore:\n",
      "P-value: 0.9027813680557057\n",
      "Accept H0.\n",
      "\n"
     ]
    }
   ],
   "source": [
    "# Mann Whitney Test\n",
    "# H0 = There is a significant difference in the distribution of NScore between LSD and Mushroom consumers compared to non-consumers\n",
    "# H1 = There is no significant difference in the distribution of NScore between LSD and Mushroom consumers compared to non-consumers\n",
    "\n",
    "group1 = df_final[df_final['LSD_Mushroom'] == 1]['NScore']\n",
    "group0 = df_final[df_final['LSD_Mushroom'] == 0]['NScore']\n",
    "stats, p_value = mannwhitneyu(group1, group0, alternative='two-sided')\n",
    "\n",
    "if p_value< 0.05:\n",
    "    print(\"NScore:\")\n",
    "    print(f\"P-value: {p_value}\")\n",
    "    print(\"Reject H0.\\n\")\n",
    "else:\n",
    "    print(\"NScore:\")\n",
    "    print(f\"P-value: {p_value}\")\n",
    "    print(\"Accept H0.\\n\")\n"
   ]
  },
  {
   "cell_type": "code",
   "execution_count": 360,
   "metadata": {},
   "outputs": [
    {
     "data": {
      "image/png": "[encoded data removed]",
      "text/plain": [
       "<Figure size 1200x300 with 1 Axes>"
      ]
     },
     "metadata": {},
     "output_type": "display_data"
    }
   ],
   "source": [
    "plt.figure(figsize=(12, 3))\n",
    "\n",
    "sns.boxplot(x='LSD_Mushroom', y='NScore', data=df_final)\n",
    "plt.title('NScore Distribution by LSD_Mushroom consumption')\n",
    "plt.show()"
   ]
  },
  {
   "cell_type": "code",
   "execution_count": 361,
   "metadata": {},
   "outputs": [
    {
     "name": "stdout",
     "output_type": "stream",
     "text": [
      "The medians are equal for drug users and non-drug users.\n"
     ]
    }
   ],
   "source": [
    "users = df_final[df_final['LSD_Mushroom'] == 1]['NScore']\n",
    "non_users = df_final[df_final['LSD_Mushroom'] == 0]['NScore']\n",
    "\n",
    "median_users = np.median(users)\n",
    "median_non_users = np.median(non_users)\n",
    "\n",
    "if median_users > median_non_users:\n",
    "    print(\"Drug users have a higher median NScore.\")\n",
    "elif median_users < median_non_users:\n",
    "    print(\"Non-drug users have a higher median NScore.\")\n",
    "else:\n",
    "    print(\"The medians are equal for drug users and non-drug users.\")\n"
   ]
  },
  {
   "attachments": {},
   "cell_type": "markdown",
   "metadata": {},
   "source": [
    "Based on the statistical tests gathered for NScore, it suggests that there is no significant difference in the distribution of NScore between LSD_Mushroom consumers and non-consumers. The test additionally indicates the medians of NSCore for both groups are equal, which means there is no difference in the central tendency of NScore.\n",
    "\n",
    "We can conclude that there is no enough evidence to state that LSD and Mushrooms consumption has an impact on NScore. "
   ]
  },
  {
   "attachments": {},
   "cell_type": "markdown",
   "metadata": {},
   "source": [
    "### 3b. ESCORE"
   ]
  },
  {
   "cell_type": "code",
   "execution_count": 362,
   "metadata": {},
   "outputs": [
    {
     "name": "stdout",
     "output_type": "stream",
     "text": [
      "EScore:\n",
      "P-value: 0.025932993829047624\n",
      "Reject H0.\n",
      "\n"
     ]
    }
   ],
   "source": [
    "# Mann Whitney Test\n",
    "# H0 = There is a significant difference in the distribution of EScore between LSD and Mushroom consumers compared to non-consumers\n",
    "# H1 = There is no significant difference in the distribution of EScore between LSD and Mushroom consumers compared to non-consumers\n",
    "\n",
    "group1 = df_final[df_final['LSD_Mushroom'] == 1]['EScore']\n",
    "group0 = df_final[df_final['LSD_Mushroom'] == 0]['EScore']\n",
    "stats, p_value = mannwhitneyu(group1, group0, alternative='two-sided')\n",
    "\n",
    "if p_value< 0.05:\n",
    "    print(\"EScore:\")\n",
    "    print(f\"P-value: {p_value}\")\n",
    "    print(\"Reject H0.\\n\")\n",
    "else:\n",
    "    print(\"EScore:\")\n",
    "    print(f\"P-value: {p_value}\")\n",
    "    print(\"Accept H0.\\n\")\n"
   ]
  },
  {
   "cell_type": "code",
   "execution_count": 363,
   "metadata": {},
   "outputs": [
    {
     "data": {
      "image/png": "[encoded data removed]",
      "text/plain": [
       "<Figure size 1200x300 with 1 Axes>"
      ]
     },
     "metadata": {},
     "output_type": "display_data"
    }
   ],
   "source": [
    "plt.figure(figsize=(12, 3))\n",
    "\n",
    "sns.boxplot(x='LSD_Mushroom', y='EScore', data=df_final)\n",
    "plt.title('EScore Distribution by LSD_Mushroom consumption')\n",
    "plt.show()"
   ]
  },
  {
   "cell_type": "code",
   "execution_count": 364,
   "metadata": {},
   "outputs": [
    {
     "name": "stdout",
     "output_type": "stream",
     "text": [
      "Drug users have a higher median EScore.\n"
     ]
    }
   ],
   "source": [
    "users = df_final[df_final['LSD_Mushroom'] == 1]['EScore']\n",
    "non_users = df_final[df_final['LSD_Mushroom'] == 0]['EScore']\n",
    "\n",
    "median_users = np.median(users)\n",
    "median_non_users = np.median(non_users)\n",
    "\n",
    "if median_users > median_non_users:\n",
    "    print(\"Drug users have a higher median EScore.\")\n",
    "elif median_users < median_non_users:\n",
    "    print(\"Non-drug users have a higher median EScore.\")\n",
    "else:\n",
    "    print(\"The medians are equal for drug users and non-drug users.\")\n"
   ]
  },
  {
   "attachments": {},
   "cell_type": "markdown",
   "metadata": {},
   "source": [
    "Based on the analysis above, the p-value result from the Mann-Whitney test indicates that there is a significant difference in the distribution of EScore between drug users and non-users. It also indicates that the consumption of LSD_Mushroom may be associated with a higher levels of EScore than those who do not consume those substances. \n",
    "\n",
    "LSD and Mushroom are both belong to the category of hallucinogenic substances (Psychadelic). Higher EScore indicates the individual's preference for social interactions, and their level of comfort with external stimuli or outside world. (Source = [link](https://www.raijmr.com/ijrhs/wp-content/uploads/2017/11/IJRHS_2014_vol02_issue_02_05.pdf)).\n",
    "\n",
    "Both hallucinogenic substances, have been linked to altered states of consciousness and perception. These substances can enhance sensory experiences, resulting in an increased comfort level with external stimuli and potentially leading to higher extraversion levels. "
   ]
  },
  {
   "attachments": {},
   "cell_type": "markdown",
   "metadata": {},
   "source": [
    "### 3c. OSCORE"
   ]
  },
  {
   "cell_type": "code",
   "execution_count": 365,
   "metadata": {},
   "outputs": [
    {
     "name": "stdout",
     "output_type": "stream",
     "text": [
      "OScore:\n",
      "P-value: 3.9267480460468074e-32\n",
      "Reject H0.\n",
      "\n"
     ]
    }
   ],
   "source": [
    "# Mann Whitney Test\n",
    "# H0 = There is a significant difference in the distribution of OScore between LSD and Mushroom consumers compared to non-consumers\n",
    "# H1 = There is no significant difference in the distribution of OScore between LSD and Mushroom consumers compared to non-consumers\n",
    "\n",
    "group1 = df_final[df_final['LSD_Mushroom'] == 1]['OScore']\n",
    "group0 = df_final[df_final['LSD_Mushroom'] == 0]['OScore']\n",
    "stats, p_value = mannwhitneyu(group1, group0, alternative='two-sided')\n",
    "\n",
    "if p_value< 0.05:\n",
    "    print(\"OScore:\")\n",
    "    print(f\"P-value: {p_value}\")\n",
    "    print(\"Reject H0.\\n\")\n",
    "else:\n",
    "    print(\"OScore:\")\n",
    "    print(f\"P-value: {p_value}\")\n",
    "    print(\"Accept H0.\\n\")\n"
   ]
  },
  {
   "cell_type": "code",
   "execution_count": 366,
   "metadata": {},
   "outputs": [
    {
     "data": {
      "image/png": "[encoded data removed]",
      "text/plain": [
       "<Figure size 1200x300 with 1 Axes>"
      ]
     },
     "metadata": {},
     "output_type": "display_data"
    }
   ],
   "source": [
    "plt.figure(figsize=(12, 3))\n",
    "\n",
    "sns.boxplot(x='LSD_Mushroom', y='OScore', data=df_final)\n",
    "plt.title('OScore Distribution by LSD_Mushroom consumption')\n",
    "plt.show()"
   ]
  },
  {
   "cell_type": "code",
   "execution_count": 367,
   "metadata": {},
   "outputs": [
    {
     "name": "stdout",
     "output_type": "stream",
     "text": [
      "Drug users have a higher median OScore.\n"
     ]
    }
   ],
   "source": [
    "users = df_final[df_final['LSD_Mushroom'] == 1]['OScore']\n",
    "non_users = df_final[df_final['LSD_Mushroom'] == 0]['OScore']\n",
    "\n",
    "median_users = np.median(users)\n",
    "median_non_users = np.median(non_users)\n",
    "\n",
    "if median_users > median_non_users:\n",
    "    print(\"Drug users have a higher median OScore.\")\n",
    "elif median_users < median_non_users:\n",
    "    print(\"Non-drug users have a higher median OScore.\")\n",
    "else:\n",
    "    print(\"The medians are equal for drug users and non-drug users.\")\n"
   ]
  },
  {
   "attachments": {},
   "cell_type": "markdown",
   "metadata": {},
   "source": [
    "Based on the conducted analysis, it can be concluded that there is a significant difference in the distribution of OScore between LSD_Mushrooms consumers and non-consumers, which drug users have a higher median OScore compared to non-drug users. \n",
    "\n",
    "OScore refers to Openness to Experience which associated with imagination, curiosity, and a willingness to explore experiences. LSD_Mushroom consumers has a higher median OScore suggests that those who consume these 2 drugs may exhibit greater opnness to new experiences. \n",
    "\n",
    "Hallucinogenic substances known to induce altered states of consciousness and hallucinations. These experiences can lead to cognitive changes, heightened imagination, and an increased willingness to explore new experiences, all of which are aligned with the personality trait of Openness to Experience. Therefore, individuals who consume LSD and Mushroom may exhibit a greater inclination towards novelty, imagination, and curiosity, as reflected in their higher OScore."
   ]
  },
  {
   "attachments": {},
   "cell_type": "markdown",
   "metadata": {},
   "source": [
    "### 3d. ASCORE"
   ]
  },
  {
   "cell_type": "code",
   "execution_count": 368,
   "metadata": {},
   "outputs": [
    {
     "name": "stdout",
     "output_type": "stream",
     "text": [
      "AScore:\n",
      "P-value: 0.0263358454561411\n",
      "Reject H0.\n",
      "\n"
     ]
    }
   ],
   "source": [
    "# Mann Whitney Test\n",
    "# H0 = There is a significant difference in the distribution of AScore between LSD and Mushroom consumers compared to non-consumers\n",
    "# H1 = There is no significant difference in the distribution of AScore between LSD and Mushroom consumers compared to non-consumers\n",
    "\n",
    "group1 = df_final[df_final['LSD_Mushroom'] == 1]['AScore']\n",
    "group0 = df_final[df_final['LSD_Mushroom'] == 0]['AScore']\n",
    "stats, p_value = mannwhitneyu(group1, group0, alternative='two-sided')\n",
    "\n",
    "if p_value< 0.05:\n",
    "    print(\"AScore:\")\n",
    "    print(f\"P-value: {p_value}\")\n",
    "    print(\"Reject H0.\\n\")\n",
    "else:\n",
    "    print(\"AScore:\")\n",
    "    print(f\"P-value: {p_value}\")\n",
    "    print(\"Accept H0.\\n\")\n"
   ]
  },
  {
   "cell_type": "code",
   "execution_count": 369,
   "metadata": {},
   "outputs": [
    {
     "data": {
      "image/png": "[encoded data removed]",
      "text/plain": [
       "<Figure size 1200x300 with 1 Axes>"
      ]
     },
     "metadata": {},
     "output_type": "display_data"
    }
   ],
   "source": [
    "plt.figure(figsize=(12, 3))\n",
    "\n",
    "sns.boxplot(x='LSD_Mushroom', y='AScore', data=df_final)\n",
    "plt.title('AScore Distribution by LSD_Mushroom consumption')\n",
    "plt.show()"
   ]
  },
  {
   "cell_type": "code",
   "execution_count": 370,
   "metadata": {},
   "outputs": [
    {
     "name": "stdout",
     "output_type": "stream",
     "text": [
      "Non-drug users have a higher median AScore.\n"
     ]
    }
   ],
   "source": [
    "users = df_final[df_final['LSD_Mushroom'] == 1]['AScore']\n",
    "non_users = df_final[df_final['LSD_Mushroom'] == 0]['AScore']\n",
    "\n",
    "median_users = np.median(users)\n",
    "median_non_users = np.median(non_users)\n",
    "\n",
    "if median_users > median_non_users:\n",
    "    print(\"Drug users have a higher median AScore.\")\n",
    "elif median_users < median_non_users:\n",
    "    print(\"Non-drug users have a higher median AScore.\")\n",
    "else:\n",
    "    print(\"The medians are equal for drug users and non-drug users.\")\n"
   ]
  },
  {
   "attachments": {},
   "cell_type": "markdown",
   "metadata": {},
   "source": [
    "These analysis above suggests a significant difference in the distribution of AScore between consumers and non-consumers. There is evidence to indicate that drug users have a lower median AScore compared to non-drug users.\n",
    "\n",
    "AScore represents Agreeableness, which associated with being cooperative, negotiative, and considerate towards others. Hallucinogenic substances like LSD and Mushroom can induce intense sensory and perceptual distortions, leading to disruptions in cognitive and emotional functions. During hallucinations, individuals may experience a temporary shift from social norms and behaviors, including agreeableness. This can result in a lower median AScore among drug users compared to non-drug users, indicating a potential association between the consumption of LSD and Mushroom and a decrease in agreeableness."
   ]
  },
  {
   "attachments": {},
   "cell_type": "markdown",
   "metadata": {},
   "source": [
    "### 3e. CSCORE"
   ]
  },
  {
   "cell_type": "code",
   "execution_count": 371,
   "metadata": {},
   "outputs": [
    {
     "name": "stdout",
     "output_type": "stream",
     "text": [
      "CScore:\n",
      "P-value: 4.1615434747302566e-06\n",
      "Reject H0.\n",
      "\n"
     ]
    }
   ],
   "source": [
    "# Mann Whitney Test\n",
    "# H0 = There is a significant difference in the distribution of CScore between LSD and Mushroom consumers compared to non-consumers\n",
    "# H1 = There is no significant difference in the distribution of CScore between LSD and Mushroom consumers compared to non-consumers\n",
    "\n",
    "group1 = df_final[df_final['LSD_Mushroom'] == 1]['CScore']\n",
    "group0 = df_final[df_final['LSD_Mushroom'] == 0]['CScore']\n",
    "stats, p_value = mannwhitneyu(group1, group0, alternative='two-sided')\n",
    "\n",
    "if p_value< 0.05:\n",
    "    print(\"CScore:\")\n",
    "    print(f\"P-value: {p_value}\")\n",
    "    print(\"Reject H0.\\n\")\n",
    "else:\n",
    "    print(\"CScore:\")\n",
    "    print(f\"P-value: {p_value}\")\n",
    "    print(\"Accept H0.\\n\")\n"
   ]
  },
  {
   "cell_type": "code",
   "execution_count": 372,
   "metadata": {},
   "outputs": [
    {
     "data": {
      "image/png": "[encoded data removed]",
      "text/plain": [
       "<Figure size 1200x300 with 1 Axes>"
      ]
     },
     "metadata": {},
     "output_type": "display_data"
    }
   ],
   "source": [
    "plt.figure(figsize=(12, 3))\n",
    "\n",
    "sns.boxplot(x='LSD_Mushroom', y='CScore', data=df_final)\n",
    "plt.title('CScore Distribution by LSD_Mushroom consumption')\n",
    "plt.show()"
   ]
  },
  {
   "cell_type": "code",
   "execution_count": 373,
   "metadata": {},
   "outputs": [
    {
     "name": "stdout",
     "output_type": "stream",
     "text": [
      "Non-drug users have a higher median CScore.\n"
     ]
    }
   ],
   "source": [
    "users = df_final[df_final['LSD_Mushroom'] == 1]['CScore']\n",
    "non_users = df_final[df_final['LSD_Mushroom'] == 0]['CScore']\n",
    "\n",
    "median_users = np.median(users)\n",
    "median_non_users = np.median(non_users)\n",
    "\n",
    "if median_users > median_non_users:\n",
    "    print(\"Drug users have a higher median CScore.\")\n",
    "elif median_users < median_non_users:\n",
    "    print(\"Non-drug users have a higher median CScore.\")\n",
    "else:\n",
    "    print(\"The medians are equal for drug users and non-drug users.\")\n"
   ]
  },
  {
   "attachments": {},
   "cell_type": "markdown",
   "metadata": {},
   "source": [
    "In regards to the analysis above, it is concluded that there is enough eevidence to suggest that drug users have a lower median CScore compared to non-drug users. \n",
    "\n",
    "CScore represents conscientiousness, willing to achieve, and goal-oriented, it needs self-disciplined, responsible, and high-level of focus to have a high CScore. Hallucinogens, such as LSD and Mushroom, can induce alterations in perception, cognition, and consciousness, temporarily disrupting cognitive and behavioral patterns. This disruption may lead to a reduction in traits associated with conscientiousness, such as self-discipline, responsibility, and goal-oriented behavior. "
   ]
  },
  {
   "attachments": {},
   "cell_type": "markdown",
   "metadata": {},
   "source": [
    "# **Conclusion and Recommendation**\n",
    "\n",
    "Based on our previous analysis, the following conclusions can be drawn:\n",
    "- The demographic characteristics for LSD_Mushroom consumers are = \n",
    "    - The age group of 18-24 years old (young adults) shows the highest prevalence of LSD and Mushroom consumption\n",
    "        - Factors such as transition zone from adolescence to adulthood. Tendencies to experiment/explore new things and engage in risk-taking behaviors.\n",
    "    - Males exhibit a higher prevalence of consumption than females\n",
    "    - Participants with a college/university degree but no certificate or degree are most commonly associated with LSD and Mushroom consumption\n",
    "        - High level of stressors, peer influences, and lifestyle, and due to the exposure to social environments that facilitates substance use.\n",
    "    - America has the highest number of LSD and Mushroom consumers, despite the total number of participants in Europe is higher than in America. \n",
    "    - White ethnicity demonstrates the highest prevalence of LSD and Mushroom consumption\n",
    "        - Due to the small sample sizes for the other ethnicities, be careful in interpreting this findings.\n",
    "- Due to its hallucinogenic effects, LSD and Mushroom consumptions may leads to = \n",
    "    - Higher median **EScore** than non-consumers, which indicates a higher level of extraversion\n",
    "    - Higher median **OScore** than non-consumers, that indicates a higher level of openness\n",
    "    -  Lower median **AScore** than non-consumers, which indicates a lower level of agreeableness\n",
    "    - Lower median **CScore** than non-consumers, that indicates a lower level of conscientiousness\n",
    "\n",
    "It is important to note that these conclusions are based on the provided data, which still has some limitations. Additional research are required to explore further.\n"
   ]
  },
  {
   "attachments": {},
   "cell_type": "markdown",
   "metadata": {},
   "source": [
    "### Recommendation\n",
    "\n",
    "- Targeted prevention programs specifically for young adults and males to educate about the risks of co-occuring drug consumption.\n",
    "    - To enhance the effectiveness of the existing foundations and services in this field, such as Substance Abuse and Mental Health Services Administration (SAMHSA), Hanley Foundation, etc, there are still numerous amount of young adults that are experienceing drug abuse. It is recommended to actively engage parents or caregivers in the prevention efforts, and providing parental guidance and supervision\n",
    "        - Collaborative efforts between foundations, services and parets/caregivers can create a more comprehensive support system that promotes positive youth development, by providing them with resources and educational materials to better understand the risks and signs of drug abuse. Encourage open communication and provide guidance on how to support and supervise young adults effectively.\n",
    "        - Collaborate with existing foundations and services in the field to enhance their outreach efforts and expand their programs to reach a wider audience.\n",
    "- Make an accessible and affordable psychological support services available to high-risked individuals\n",
    "    - Professional psychologist in Western countries can be expensive for some individuals. Therefore, it is recommended to develop and implement initiatives (from the government, or NGO, or community-based support groups) to provide affordable options.\n",
    "        - Individuals at high risk of drug abuse can receive the necessary guidance with affordable psychological support \n",
    "- In further research, make sure that there are an equal and balanced representation of each categories, to ensure the validity of the findings. "
   ]
  },
  {
   "cell_type": "code",
   "execution_count": 374,
   "metadata": {},
   "outputs": [],
   "source": [
    "df_final.to_csv('Cleaned_Capstone_Project.csv')"
   ]
  },
  {
   "cell_type": "code",
   "execution_count": 375,
   "metadata": {},
   "outputs": [],
   "source": [
    "df_clean.to_csv('Capstone_Project.csv')"
   ]
  },
  {
   "cell_type": "code",
   "execution_count": 376,
   "metadata": {},
   "outputs": [],
   "source": [
    "df_final.to_csv('Cleaned_Capstone.csv')"
   ]
  },
  {
   "cell_type": "code",
   "execution_count": 377,
   "metadata": {},
   "outputs": [],
   "source": [
    "df_clean.to_csv('Capstone.csv')\n"
   ]
  },
  {
   "cell_type": "code",
   "execution_count": 378,
   "metadata": {},
   "outputs": [
    {
     "data": {
      "text/html": [
       "<div>\n",
       "<style scoped>\n",
       "    .dataframe tbody tr th:only-of-type {\n",
       "        vertical-align: middle;\n",
       "    }\n",
       "\n",
       "    .dataframe tbody tr th {\n",
       "        vertical-align: top;\n",
       "    }\n",
       "\n",
       "    .dataframe thead th {\n",
       "        text-align: right;\n",
       "    }\n",
       "</style>\n",
       "<table border=\"1\" class=\"dataframe\">\n",
       "  <thead>\n",
       "    <tr style=\"text-align: right;\">\n",
       "      <th></th>\n",
       "      <th>Age</th>\n",
       "      <th>Gender</th>\n",
       "      <th>Education</th>\n",
       "      <th>Continent</th>\n",
       "      <th>Ethnicity</th>\n",
       "      <th>NScore</th>\n",
       "      <th>EScore</th>\n",
       "      <th>OScore</th>\n",
       "      <th>AScore</th>\n",
       "      <th>CScore</th>\n",
       "      <th>...</th>\n",
       "      <th>Crack</th>\n",
       "      <th>Ecstasy</th>\n",
       "      <th>Heroin</th>\n",
       "      <th>Ketamine</th>\n",
       "      <th>Legalh</th>\n",
       "      <th>LSD</th>\n",
       "      <th>Meth</th>\n",
       "      <th>Mushroom</th>\n",
       "      <th>Nicotine</th>\n",
       "      <th>VSA</th>\n",
       "    </tr>\n",
       "    <tr>\n",
       "      <th>ID</th>\n",
       "      <th></th>\n",
       "      <th></th>\n",
       "      <th></th>\n",
       "      <th></th>\n",
       "      <th></th>\n",
       "      <th></th>\n",
       "      <th></th>\n",
       "      <th></th>\n",
       "      <th></th>\n",
       "      <th></th>\n",
       "      <th></th>\n",
       "      <th></th>\n",
       "      <th></th>\n",
       "      <th></th>\n",
       "      <th></th>\n",
       "      <th></th>\n",
       "      <th></th>\n",
       "      <th></th>\n",
       "      <th></th>\n",
       "      <th></th>\n",
       "      <th></th>\n",
       "    </tr>\n",
       "  </thead>\n",
       "  <tbody>\n",
       "    <tr>\n",
       "      <th>1</th>\n",
       "      <td>35-44</td>\n",
       "      <td>Female</td>\n",
       "      <td>Professional certificate/diploma</td>\n",
       "      <td>Europe</td>\n",
       "      <td>Mixed</td>\n",
       "      <td>39</td>\n",
       "      <td>36</td>\n",
       "      <td>42</td>\n",
       "      <td>37</td>\n",
       "      <td>42</td>\n",
       "      <td>...</td>\n",
       "      <td>0</td>\n",
       "      <td>0</td>\n",
       "      <td>0</td>\n",
       "      <td>0</td>\n",
       "      <td>0</td>\n",
       "      <td>0</td>\n",
       "      <td>0</td>\n",
       "      <td>0</td>\n",
       "      <td>2</td>\n",
       "      <td>0</td>\n",
       "    </tr>\n",
       "    <tr>\n",
       "      <th>2</th>\n",
       "      <td>25-34</td>\n",
       "      <td>Male</td>\n",
       "      <td>Doctorate Degree</td>\n",
       "      <td>Europe</td>\n",
       "      <td>White</td>\n",
       "      <td>29</td>\n",
       "      <td>52</td>\n",
       "      <td>55</td>\n",
       "      <td>48</td>\n",
       "      <td>41</td>\n",
       "      <td>...</td>\n",
       "      <td>0</td>\n",
       "      <td>4</td>\n",
       "      <td>0</td>\n",
       "      <td>2</td>\n",
       "      <td>0</td>\n",
       "      <td>2</td>\n",
       "      <td>3</td>\n",
       "      <td>0</td>\n",
       "      <td>4</td>\n",
       "      <td>0</td>\n",
       "    </tr>\n",
       "    <tr>\n",
       "      <th>3</th>\n",
       "      <td>35-44</td>\n",
       "      <td>Male</td>\n",
       "      <td>Professional certificate/diploma</td>\n",
       "      <td>Europe</td>\n",
       "      <td>White</td>\n",
       "      <td>31</td>\n",
       "      <td>45</td>\n",
       "      <td>40</td>\n",
       "      <td>32</td>\n",
       "      <td>34</td>\n",
       "      <td>...</td>\n",
       "      <td>0</td>\n",
       "      <td>0</td>\n",
       "      <td>0</td>\n",
       "      <td>0</td>\n",
       "      <td>0</td>\n",
       "      <td>0</td>\n",
       "      <td>0</td>\n",
       "      <td>1</td>\n",
       "      <td>0</td>\n",
       "      <td>0</td>\n",
       "    </tr>\n",
       "    <tr>\n",
       "      <th>4</th>\n",
       "      <td>18-24</td>\n",
       "      <td>Female</td>\n",
       "      <td>Masters Degree</td>\n",
       "      <td>Europe</td>\n",
       "      <td>White</td>\n",
       "      <td>34</td>\n",
       "      <td>34</td>\n",
       "      <td>46</td>\n",
       "      <td>47</td>\n",
       "      <td>46</td>\n",
       "      <td>...</td>\n",
       "      <td>0</td>\n",
       "      <td>0</td>\n",
       "      <td>0</td>\n",
       "      <td>2</td>\n",
       "      <td>0</td>\n",
       "      <td>0</td>\n",
       "      <td>0</td>\n",
       "      <td>0</td>\n",
       "      <td>2</td>\n",
       "      <td>0</td>\n",
       "    </tr>\n",
       "    <tr>\n",
       "      <th>5</th>\n",
       "      <td>35-44</td>\n",
       "      <td>Female</td>\n",
       "      <td>Doctorate Degree</td>\n",
       "      <td>Europe</td>\n",
       "      <td>White</td>\n",
       "      <td>43</td>\n",
       "      <td>28</td>\n",
       "      <td>43</td>\n",
       "      <td>41</td>\n",
       "      <td>50</td>\n",
       "      <td>...</td>\n",
       "      <td>0</td>\n",
       "      <td>1</td>\n",
       "      <td>0</td>\n",
       "      <td>0</td>\n",
       "      <td>1</td>\n",
       "      <td>0</td>\n",
       "      <td>0</td>\n",
       "      <td>2</td>\n",
       "      <td>2</td>\n",
       "      <td>0</td>\n",
       "    </tr>\n",
       "    <tr>\n",
       "      <th>...</th>\n",
       "      <td>...</td>\n",
       "      <td>...</td>\n",
       "      <td>...</td>\n",
       "      <td>...</td>\n",
       "      <td>...</td>\n",
       "      <td>...</td>\n",
       "      <td>...</td>\n",
       "      <td>...</td>\n",
       "      <td>...</td>\n",
       "      <td>...</td>\n",
       "      <td>...</td>\n",
       "      <td>...</td>\n",
       "      <td>...</td>\n",
       "      <td>...</td>\n",
       "      <td>...</td>\n",
       "      <td>...</td>\n",
       "      <td>...</td>\n",
       "      <td>...</td>\n",
       "      <td>...</td>\n",
       "      <td>...</td>\n",
       "      <td>...</td>\n",
       "    </tr>\n",
       "    <tr>\n",
       "      <th>1884</th>\n",
       "      <td>18-24</td>\n",
       "      <td>Female</td>\n",
       "      <td>Some college or university, no certificate or degree</td>\n",
       "      <td>America</td>\n",
       "      <td>White</td>\n",
       "      <td>25</td>\n",
       "      <td>51</td>\n",
       "      <td>57</td>\n",
       "      <td>48</td>\n",
       "      <td>33</td>\n",
       "      <td>...</td>\n",
       "      <td>0</td>\n",
       "      <td>0</td>\n",
       "      <td>0</td>\n",
       "      <td>0</td>\n",
       "      <td>3</td>\n",
       "      <td>3</td>\n",
       "      <td>0</td>\n",
       "      <td>0</td>\n",
       "      <td>0</td>\n",
       "      <td>5</td>\n",
       "    </tr>\n",
       "    <tr>\n",
       "      <th>1885</th>\n",
       "      <td>18-24</td>\n",
       "      <td>Male</td>\n",
       "      <td>Some college or university, no certificate or degree</td>\n",
       "      <td>America</td>\n",
       "      <td>White</td>\n",
       "      <td>33</td>\n",
       "      <td>51</td>\n",
       "      <td>50</td>\n",
       "      <td>48</td>\n",
       "      <td>30</td>\n",
       "      <td>...</td>\n",
       "      <td>0</td>\n",
       "      <td>2</td>\n",
       "      <td>0</td>\n",
       "      <td>0</td>\n",
       "      <td>3</td>\n",
       "      <td>5</td>\n",
       "      <td>4</td>\n",
       "      <td>4</td>\n",
       "      <td>5</td>\n",
       "      <td>0</td>\n",
       "    </tr>\n",
       "    <tr>\n",
       "      <th>1886</th>\n",
       "      <td>25-34</td>\n",
       "      <td>Female</td>\n",
       "      <td>University Degree</td>\n",
       "      <td>America</td>\n",
       "      <td>White</td>\n",
       "      <td>47</td>\n",
       "      <td>30</td>\n",
       "      <td>37</td>\n",
       "      <td>31</td>\n",
       "      <td>31</td>\n",
       "      <td>...</td>\n",
       "      <td>0</td>\n",
       "      <td>4</td>\n",
       "      <td>0</td>\n",
       "      <td>2</td>\n",
       "      <td>0</td>\n",
       "      <td>2</td>\n",
       "      <td>0</td>\n",
       "      <td>2</td>\n",
       "      <td>6</td>\n",
       "      <td>0</td>\n",
       "    </tr>\n",
       "    <tr>\n",
       "      <th>1887</th>\n",
       "      <td>18-24</td>\n",
       "      <td>Female</td>\n",
       "      <td>Some college or university, no certificate or degree</td>\n",
       "      <td>America</td>\n",
       "      <td>White</td>\n",
       "      <td>45</td>\n",
       "      <td>26</td>\n",
       "      <td>48</td>\n",
       "      <td>32</td>\n",
       "      <td>22</td>\n",
       "      <td>...</td>\n",
       "      <td>0</td>\n",
       "      <td>3</td>\n",
       "      <td>0</td>\n",
       "      <td>0</td>\n",
       "      <td>3</td>\n",
       "      <td>3</td>\n",
       "      <td>0</td>\n",
       "      <td>3</td>\n",
       "      <td>4</td>\n",
       "      <td>0</td>\n",
       "    </tr>\n",
       "    <tr>\n",
       "      <th>1888</th>\n",
       "      <td>18-24</td>\n",
       "      <td>Male</td>\n",
       "      <td>Some college or university, no certificate or degree</td>\n",
       "      <td>Europe</td>\n",
       "      <td>White</td>\n",
       "      <td>31</td>\n",
       "      <td>53</td>\n",
       "      <td>56</td>\n",
       "      <td>50</td>\n",
       "      <td>45</td>\n",
       "      <td>...</td>\n",
       "      <td>0</td>\n",
       "      <td>3</td>\n",
       "      <td>0</td>\n",
       "      <td>0</td>\n",
       "      <td>3</td>\n",
       "      <td>3</td>\n",
       "      <td>0</td>\n",
       "      <td>3</td>\n",
       "      <td>6</td>\n",
       "      <td>2</td>\n",
       "    </tr>\n",
       "  </tbody>\n",
       "</table>\n",
       "<p>1885 rows × 26 columns</p>\n",
       "</div>"
      ],
      "text/plain": [
       "        Age  Gender                                             Education  \\\n",
       "ID                                                                          \n",
       "1     35-44  Female  Professional certificate/diploma                       \n",
       "2     25-34  Male    Doctorate Degree                                       \n",
       "3     35-44  Male    Professional certificate/diploma                       \n",
       "4     18-24  Female  Masters Degree                                         \n",
       "5     35-44  Female  Doctorate Degree                                       \n",
       "...     ...     ...             ...                                         \n",
       "1884  18-24  Female  Some college or university, no certificate or degree   \n",
       "1885  18-24  Male    Some college or university, no certificate or degree   \n",
       "1886  25-34  Female  University Degree                                      \n",
       "1887  18-24  Female  Some college or university, no certificate or degree   \n",
       "1888  18-24  Male    Some college or university, no certificate or degree   \n",
       "\n",
       "     Continent Ethnicity  NScore  EScore  OScore  AScore  CScore  ...  Crack  \\\n",
       "ID                                                                ...          \n",
       "1     Europe    Mixed     39      36      42      37      42      ...  0       \n",
       "2     Europe    White     29      52      55      48      41      ...  0       \n",
       "3     Europe    White     31      45      40      32      34      ...  0       \n",
       "4     Europe    White     34      34      46      47      46      ...  0       \n",
       "5     Europe    White     43      28      43      41      50      ...  0       \n",
       "...      ...      ...     ..      ..      ..      ..      ..      ... ..       \n",
       "1884  America   White     25      51      57      48      33      ...  0       \n",
       "1885  America   White     33      51      50      48      30      ...  0       \n",
       "1886  America   White     47      30      37      31      31      ...  0       \n",
       "1887  America   White     45      26      48      32      22      ...  0       \n",
       "1888  Europe    White     31      53      56      50      45      ...  0       \n",
       "\n",
       "      Ecstasy  Heroin  Ketamine  Legalh  LSD  Meth  Mushroom  Nicotine  VSA  \n",
       "ID                                                                           \n",
       "1     0        0       0         0       0    0     0         2         0    \n",
       "2     4        0       2         0       2    3     0         4         0    \n",
       "3     0        0       0         0       0    0     1         0         0    \n",
       "4     0        0       2         0       0    0     0         2         0    \n",
       "5     1        0       0         1       0    0     2         2         0    \n",
       "...  ..       ..      ..        ..      ..   ..    ..        ..        ..    \n",
       "1884  0        0       0         3       3    0     0         0         5    \n",
       "1885  2        0       0         3       5    4     4         5         0    \n",
       "1886  4        0       2         0       2    0     2         6         0    \n",
       "1887  3        0       0         3       3    0     3         4         0    \n",
       "1888  3        0       0         3       3    0     3         6         2    \n",
       "\n",
       "[1885 rows x 26 columns]"
      ]
     },
     "execution_count": 378,
     "metadata": {},
     "output_type": "execute_result"
    }
   ],
   "source": [
    "df_clean"
   ]
  },
  {
   "cell_type": "code",
   "execution_count": null,
   "metadata": {},
   "outputs": [],
   "source": []
  }
 ],
 "metadata": {
  "kernelspec": {
   "display_name": "base",
   "language": "python",
   "name": "python3"
  },
  "language_info": {
   "codemirror_mode": {
    "name": "ipython",
    "version": 3
   },
   "file_extension": ".py",
   "mimetype": "text/x-python",
   "name": "python",
   "nbconvert_exporter": "python",
   "pygments_lexer": "ipython3",
   "version": "3.9.13"
  },
  "orig_nbformat": 4
 },
 "nbformat": 4,
 "nbformat_minor": 2
}
